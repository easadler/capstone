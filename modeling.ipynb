{
 "cells": [
  {
   "cell_type": "code",
   "execution_count": 81,
   "metadata": {
    "collapsed": true
   },
   "outputs": [],
   "source": [
    "from sklearn.ensemble import RandomForestClassifier as RFC, GradientBoostingClassifier as GBC\n",
    "import pandas as pd\n",
    "import numpy as np\n",
    "from sklearn.metrics import confusion_matrix\n",
    "from sklearn.cross_validation import cross_val_score, train_test_split\n",
    "from sklearn.metrics import roc_curve, auc, roc_auc_score\n",
    "import matplotlib.pyplot as plt\n",
    "import random\n",
    "%matplotlib inline"
   ]
  },
  {
   "cell_type": "code",
   "execution_count": 2,
   "metadata": {
    "collapsed": false
   },
   "outputs": [
    {
     "name": "stdout",
     "output_type": "stream",
     "text": [
      "/Users/evansadler/Desktop/Capstone/classes\n"
     ]
    }
   ],
   "source": [
    "cd utils"
   ]
  },
  {
   "cell_type": "code",
   "execution_count": 3,
   "metadata": {
    "collapsed": true
   },
   "outputs": [],
   "source": [
    "import model_data as md"
   ]
  },
  {
   "cell_type": "code",
   "execution_count": 4,
   "metadata": {
    "collapsed": false,
    "scrolled": true
   },
   "outputs": [
    {
     "name": "stdout",
     "output_type": "stream",
     "text": [
      "/Users/evansadler/Desktop/Capstone\n"
     ]
    }
   ],
   "source": [
    "cd .."
   ]
  },
  {
   "cell_type": "code",
   "execution_count": 293,
   "metadata": {
    "collapsed": false
   },
   "outputs": [],
   "source": [
    "df_d = pd.read_csv('data/final/demand_all_features.csv', parse_dates=['date'], infer_datetime_format=True)"
   ]
  },
  {
   "cell_type": "code",
   "execution_count": 17,
   "metadata": {
    "collapsed": false
   },
   "outputs": [],
   "source": [
    "df_d = md.clean(df_d)"
   ]
  },
  {
   "cell_type": "code",
   "execution_count": 22,
   "metadata": {
    "collapsed": true
   },
   "outputs": [],
   "source": [
    "rf = RFC(n_jobs=-1, n_estimators=100)"
   ]
  },
  {
   "cell_type": "code",
   "execution_count": 28,
   "metadata": {
    "collapsed": false
   },
   "outputs": [
    {
     "data": {
      "text/plain": [
       "(0.86229815724736703,\n",
       " RandomForestClassifier(bootstrap=True, class_weight=None, criterion='gini',\n",
       "             max_depth=None, max_features='auto', max_leaf_nodes=None,\n",
       "             min_samples_leaf=1, min_samples_split=2,\n",
       "             min_weight_fraction_leaf=0.0, n_estimators=100, n_jobs=-1,\n",
       "             oob_score=False, random_state=None, verbose=0,\n",
       "             warm_start=False))"
      ]
     },
     "execution_count": 28,
     "metadata": {},
     "output_type": "execute_result"
    }
   ],
   "source": [
    "md.train_model(df_d, rf=rf)"
   ]
  },
  {
   "cell_type": "code",
   "execution_count": 341,
   "metadata": {
    "collapsed": true
   },
   "outputs": [],
   "source": [
    "df_s = pd.read_csv('data/final/supply_all_features.csv', parse_dates=['date'], infer_datetime_format=True)"
   ]
  },
  {
   "cell_type": "code",
   "execution_count": 343,
   "metadata": {
    "collapsed": true
   },
   "outputs": [],
   "source": [
    "df_s = md.clean(df_s)"
   ]
  },
  {
   "cell_type": "code",
   "execution_count": 27,
   "metadata": {
    "collapsed": false
   },
   "outputs": [
    {
     "data": {
      "text/plain": [
       "(0.85598292308799639,\n",
       " RandomForestClassifier(bootstrap=True, class_weight=None, criterion='gini',\n",
       "             max_depth=None, max_features='auto', max_leaf_nodes=None,\n",
       "             min_samples_leaf=1, min_samples_split=2,\n",
       "             min_weight_fraction_leaf=0.0, n_estimators=100, n_jobs=-1,\n",
       "             oob_score=False, random_state=None, verbose=0,\n",
       "             warm_start=False))"
      ]
     },
     "execution_count": 27,
     "metadata": {},
     "output_type": "execute_result"
    }
   ],
   "source": [
    "md.train_model(df_s, rf=rf)"
   ]
  },
  {
   "cell_type": "code",
   "execution_count": 110,
   "metadata": {
    "collapsed": false
   },
   "outputs": [
    {
     "name": "stdout",
     "output_type": "stream",
     "text": [
      "Index([u'TEMP', u'SPD', u'DEWP', u'SLP', u'STP', u'elevation',\n",
      "       u'hour_avg_lagged', u'month_avg_lagged', u'dow_avg'],\n",
      "      dtype='object')\n"
     ]
    }
   ],
   "source": [
    "feature_names = df_d.drop(['count', 'date','terminal','ecosystem','cluster'], axis=1).columns\n",
    "importances = rf.feature_importances_\n",
    "important_names = feature_names[importances > np.mean(importances)]\n",
    "print important_names"
   ]
  },
  {
   "cell_type": "code",
   "execution_count": 111,
   "metadata": {
    "collapsed": false
   },
   "outputs": [
    {
     "name": "stdout",
     "output_type": "stream",
     "text": [
      "TEMP 0.0716642011922\n",
      "SPD 0.0619097600413\n",
      "PCP01 0.0148910157695\n",
      "CLG 0.0570363838624\n",
      "VSB 0.0271594144582\n",
      "DEWP 0.066174383307\n",
      "SLP 0.0617291394065\n",
      "STP 0.0613601309621\n",
      "dockcount 0.0290749113888\n",
      "elevation 0.0660152560755\n",
      "hour_avg_lagged 0.21053757876\n",
      "month_avg_lagged 0.110932687218\n",
      "dow_avg 0.103924880137\n",
      "Afternoon 0.0163521394171\n",
      "Commute_from_work 0.0227312671684\n",
      "Commute_to_work 0.0103210047404\n",
      "Night 0.00818584609471\n"
     ]
    }
   ],
   "source": [
    "for fn, imp in zip(feature_names, importances):\n",
    "    print fn, imp"
   ]
  },
  {
   "cell_type": "code",
   "execution_count": 118,
   "metadata": {
    "collapsed": false
   },
   "outputs": [],
   "source": [
    "false_positive_rate, true_positive_rate, thresholds = roc_curve(test_y, rf.predict_proba(test_x)[:,1])\n",
    "roc_auc = auc(false_positive_rate, true_positive_rate)"
   ]
  },
  {
   "cell_type": "code",
   "execution_count": 119,
   "metadata": {
    "collapsed": false
   },
   "outputs": [
    {
     "data": {
      "image/png": "[encoded data removed]",
      "text/plain": [
       "<matplotlib.figure.Figure at 0x10f6e9990>"
      ]
     },
     "metadata": {},
     "output_type": "display_data"
    }
   ],
   "source": [
    "plt.title('Receiver Operating Characteristic')\n",
    "plt.plot(false_positive_rate, true_positive_rate, 'b',\n",
    "label='AUC = %0.2f'% roc_auc)\n",
    "plt.legend(loc='lower right')\n",
    "plt.plot([0,1],[0,1],'r--')\n",
    "plt.xlim([-0.1,1.2])\n",
    "plt.ylim([-0.1,1.2])\n",
    "plt.ylabel('True Positive Rate')\n",
    "plt.xlabel('False Positive Rate')\n",
    "plt.show()"
   ]
  },
  {
   "cell_type": "code",
   "execution_count": 263,
   "metadata": {
    "collapsed": false
   },
   "outputs": [],
   "source": [
    "df_sub = df_d.ix[(df_d['count'] > 0) & (df_d['count'] < 15), :]\n",
    "df_sub = md.clean(df_sub)\n",
    "df_sub['count'] = pd.cut(df_sub['count'], [1,3,5,9,50], include_lowest=True, right=False).astype(str)"
   ]
  },
  {
   "cell_type": "code",
   "execution_count": 264,
   "metadata": {
    "collapsed": true
   },
   "outputs": [],
   "source": [
    "sample_weights = (len(df_sub['count']) /(df_sub['count'].value_counts()*4)).to_dict()\n",
    "rf = RFC(n_jobs=-1, n_estimators=100, class_weight=sample_weights)"
   ]
  },
  {
   "cell_type": "code",
   "execution_count": 265,
   "metadata": {
    "collapsed": false
   },
   "outputs": [
    {
     "data": {
      "text/plain": [
       "RandomForestClassifier(bootstrap=True,\n",
       "            class_weight={'[1, 3)': 0.42416245415799386, '[5, 9)': 1.6917869144099624, '[3, 5)': 1.1112373409504024, '[9, 50)': 6.6039737654320989},\n",
       "            criterion='gini', max_depth=None, max_features='auto',\n",
       "            max_leaf_nodes=None, min_samples_leaf=1, min_samples_split=2,\n",
       "            min_weight_fraction_leaf=0.0, n_estimators=100, n_jobs=-1,\n",
       "            oob_score=False, random_state=None, verbose=0,\n",
       "            warm_start=False)"
      ]
     },
     "execution_count": 265,
     "metadata": {},
     "output_type": "execute_result"
    }
   ],
   "source": [
    "# Split data\n",
    "train_x, test_x, train_y, test_y = train_test_split(df_sub.drop(['terminal', 'ecosystem', 'count', 'date', 'cluster'], axis=1), df_s['count'], test_size=0.3)\n",
    "\n",
    "# Fit data\n",
    "rf.fit(train_x, train_y)"
   ]
  },
  {
   "cell_type": "code",
   "execution_count": 266,
   "metadata": {
    "collapsed": false
   },
   "outputs": [
    {
     "data": {
      "text/plain": [
       "0.62165319832538213"
      ]
     },
     "execution_count": 266,
     "metadata": {},
     "output_type": "execute_result"
    }
   ],
   "source": [
    "rf.score(test_x,test_y)"
   ]
  },
  {
   "cell_type": "code",
   "execution_count": 261,
   "metadata": {
    "collapsed": false
   },
   "outputs": [
    {
     "name": "stdout",
     "output_type": "stream",
     "text": [
      "Index([u'TEMP', u'SPD', u'CLG', u'DEWP', u'SLP', u'STP', u'elevation',\n",
      "       u'hour_avg_lagged', u'month_avg_lagged', u'dow_avg'],\n",
      "      dtype='object')\n"
     ]
    }
   ],
   "source": [
    "feature_names = df_s.drop(['count', 'date','terminal','ecosystem','cluster'], axis=1).columns\n",
    "importances = rf.feature_importances_\n",
    "important_names = feature_names[importances > np.mean(importances)]\n",
    "print important_names"
   ]
  },
  {
   "cell_type": "code",
   "execution_count": 262,
   "metadata": {
    "collapsed": false
   },
   "outputs": [
    {
     "name": "stdout",
     "output_type": "stream",
     "text": [
      "TEMP 0.0829767213642\n",
      "SPD 0.0748926398441\n",
      "PCP01 0.014563114037\n",
      "CLG 0.0624333081164\n",
      "VSB 0.0174747969683\n",
      "DEWP 0.0776205933906\n",
      "SLP 0.0701124185076\n",
      "STP 0.0704425771265\n",
      "dockcount 0.0302768812555\n",
      "elevation 0.0715647170519\n",
      "hour_avg_lagged 0.182398969635\n",
      "month_avg_lagged 0.103237611891\n",
      "dow_avg 0.104516703382\n",
      "Afternoon 0.00924248739928\n",
      "Commute_from_work 0.0107259949591\n",
      "Commute_to_work 0.00930263963691\n",
      "Night 0.00821782543482\n"
     ]
    }
   ],
   "source": [
    "for fn, imp in zip(feature_names, importances):\n",
    "    print fn, imp"
   ]
  },
  {
   "cell_type": "code",
   "execution_count": 294,
   "metadata": {
    "collapsed": false
   },
   "outputs": [
    {
     "data": {
      "text/plain": [
       "RandomForestClassifier(bootstrap=True, class_weight=None, criterion='gini',\n",
       "            max_depth=None, max_features='auto', max_leaf_nodes=None,\n",
       "            min_samples_leaf=1, min_samples_split=2,\n",
       "            min_weight_fraction_leaf=0.0, n_estimators=100, n_jobs=-1,\n",
       "            oob_score=False, random_state=None, verbose=0,\n",
       "            warm_start=False)"
      ]
     },
     "execution_count": 294,
     "metadata": {},
     "output_type": "execute_result"
    }
   ],
   "source": [
    "# Split data\n",
    "rf = RFC(n_jobs=-1, n_estimators=100)\n",
    "df_d = md.clean(df_d)\n",
    "df_d.ix[df_d['count'] > 0, 'count'] = 1\n",
    "train_x, test_x, train_y, test_y = train_test_split(df_d.drop(['terminal', 'ecosystem', 'count', 'date', 'cluster'], axis=1), df_d['count'], test_size=0.3)\n",
    "\n",
    "# Fit data\n",
    "rf.fit(train_x, train_y)"
   ]
  },
  {
   "cell_type": "code",
   "execution_count": 295,
   "metadata": {
    "collapsed": true
   },
   "outputs": [],
   "source": [
    "from sklearn.metrics import precision_score"
   ]
  },
  {
   "cell_type": "code",
   "execution_count": 298,
   "metadata": {
    "collapsed": false
   },
   "outputs": [
    {
     "data": {
      "text/plain": [
       "0.7757312012954154"
      ]
     },
     "execution_count": 298,
     "metadata": {},
     "output_type": "execute_result"
    }
   ],
   "source": [
    "precision_score(test_y, rf.predict(test_x))"
   ]
  },
  {
   "cell_type": "code",
   "execution_count": 303,
   "metadata": {
    "collapsed": false
   },
   "outputs": [],
   "source": [
    "x = confusion_matrix(test_y, rf.predict(test_x))"
   ]
  },
  {
   "cell_type": "code",
   "execution_count": 305,
   "metadata": {
    "collapsed": false
   },
   "outputs": [],
   "source": [
    "recall = float(x[1,1])/(x[1,1] + x[1,0])\n",
    "specificity = float(x[0,0])/(x[0,0] + x[0,1])"
   ]
  },
  {
   "cell_type": "code",
   "execution_count": 306,
   "metadata": {
    "collapsed": false
   },
   "outputs": [
    {
     "data": {
      "text/plain": [
       "0.7359577532405185"
      ]
     },
     "execution_count": 306,
     "metadata": {},
     "output_type": "execute_result"
    }
   ],
   "source": [
    "recall"
   ]
  },
  {
   "cell_type": "code",
   "execution_count": 308,
   "metadata": {
    "collapsed": false
   },
   "outputs": [
    {
     "data": {
      "text/plain": [
       "0.8226064681396094"
      ]
     },
     "execution_count": 308,
     "metadata": {},
     "output_type": "execute_result"
    }
   ],
   "source": [
    "specificity"
   ]
  },
  {
   "cell_type": "code",
   "execution_count": 313,
   "metadata": {
    "collapsed": false
   },
   "outputs": [],
   "source": [
    "df_sub = df_s.ix[(df_s['count'] > 0) & (df_s['count'] < 15), :]\n",
    "df_sub = md.clean(df_sub)\n",
    "df_sub['count'] = pd.cut(df_sub['count'], [1,3,5,9,50], include_lowest=True, right=False).astype(str)"
   ]
  },
  {
   "cell_type": "code",
   "execution_count": 314,
   "metadata": {
    "collapsed": true
   },
   "outputs": [],
   "source": [
    "sample_weights = (len(df_sub['count']) /(df_sub['count'].value_counts()*4)).to_dict()\n",
    "rf = RFC(n_jobs=-1, n_estimators=100, class_weight=sample_weights)"
   ]
  },
  {
   "cell_type": "code",
   "execution_count": 316,
   "metadata": {
    "collapsed": false
   },
   "outputs": [
    {
     "data": {
      "text/plain": [
       "RandomForestClassifier(bootstrap=True,\n",
       "            class_weight={'[1, 3)': 0.42416245415799386, '[5, 9)': 1.6917869144099624, '[3, 5)': 1.1112373409504024, '[9, 50)': 6.6039737654320989},\n",
       "            criterion='gini', max_depth=None, max_features='auto',\n",
       "            max_leaf_nodes=None, min_samples_leaf=1, min_samples_split=2,\n",
       "            min_weight_fraction_leaf=0.0, n_estimators=100, n_jobs=-1,\n",
       "            oob_score=False, random_state=None, verbose=0,\n",
       "            warm_start=False)"
      ]
     },
     "execution_count": 316,
     "metadata": {},
     "output_type": "execute_result"
    }
   ],
   "source": [
    "# Split data\n",
    "train_x, test_x, train_y, test_y = train_test_split(df_sub.drop(['terminal', 'ecosystem', 'count', 'date', 'cluster'], axis=1), df_sub['count'], test_size=0.3)\n",
    "\n",
    "# Fit data\n",
    "rf.fit(train_x, train_y)"
   ]
  },
  {
   "cell_type": "code",
   "execution_count": 317,
   "metadata": {
    "collapsed": false
   },
   "outputs": [
    {
     "data": {
      "text/plain": [
       "0.61522733911011585"
      ]
     },
     "execution_count": 317,
     "metadata": {},
     "output_type": "execute_result"
    }
   ],
   "source": [
    "rf.score(test_x,test_y)"
   ]
  },
  {
   "cell_type": "code",
   "execution_count": 344,
   "metadata": {
    "collapsed": false
   },
   "outputs": [
    {
     "data": {
      "text/plain": [
       "RandomForestClassifier(bootstrap=True, class_weight=None, criterion='gini',\n",
       "            max_depth=None, max_features='auto', max_leaf_nodes=None,\n",
       "            min_samples_leaf=1, min_samples_split=2,\n",
       "            min_weight_fraction_leaf=0.0, n_estimators=100, n_jobs=-1,\n",
       "            oob_score=False, random_state=None, verbose=0,\n",
       "            warm_start=False)"
      ]
     },
     "execution_count": 344,
     "metadata": {},
     "output_type": "execute_result"
    }
   ],
   "source": [
    "rf = RFC(n_jobs=-1, n_estimators=100)\n",
    "df_s.ix[df_s['count'] > 0, 'count'] = 1\n",
    "\n",
    "# Split data\n",
    "train_x, test_x, train_y, test_y = train_test_split(df_s.drop(['terminal', 'ecosystem', 'count', 'date', 'cluster'], axis=1), df_s['count'], test_size=0.3)\n",
    "\n",
    "# Fit data\n",
    "rf.fit(train_x, train_y)"
   ]
  },
  {
   "cell_type": "code",
   "execution_count": 345,
   "metadata": {
    "collapsed": false
   },
   "outputs": [
    {
     "name": "stdout",
     "output_type": "stream",
     "text": [
      "0.733646652599 0.818123547793\n"
     ]
    }
   ],
   "source": [
    "x = confusion_matrix(test_y, rf.predict(test_x))\n",
    "recall = float(x[1,1])/(x[1,1] + x[1,0])\n",
    "specificity = float(x[0,0])/(x[0,0] + x[0,1])\n",
    "print recall, specificity"
   ]
  },
  {
   "cell_type": "code",
   "execution_count": null,
   "metadata": {
    "collapsed": true
   },
   "outputs": [],
   "source": []
  }
 ],
 "metadata": {
  "kernelspec": {
   "display_name": "Python 2",
   "language": "python",
   "name": "python2"
  },
  "language_info": {
   "codemirror_mode": {
    "name": "ipython",
    "version": 2
   },
   "file_extension": ".py",
   "mimetype": "text/x-python",
   "name": "python",
   "nbconvert_exporter": "python",
   "pygments_lexer": "ipython2",
   "version": "2.7.10"
  }
 },
 "nbformat": 4,
 "nbformat_minor": 0
}

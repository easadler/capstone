{
 "cells": [
  {
   "cell_type": "code",
   "execution_count": 1,
   "metadata": {
    "collapsed": false
   },
   "outputs": [],
   "source": [
    "import numpy as np\n",
    "import pandas as pd\n",
    "import matplotlib.pyplot as plt\n",
    "from pandas.tools.plotting import scatter_matrix\n",
    "from scipy.stats import gaussian_kde\n",
    "\n"
   ]
  },
  {
   "cell_type": "code",
   "execution_count": 2,
   "metadata": {
    "collapsed": false
   },
   "outputs": [],
   "source": [
    "df_t = pd.read_csv('data/cleaned/cleaned_trips.csv', parse_dates=['datetime'], infer_datetime_format=True)"
   ]
  },
  {
   "cell_type": "code",
   "execution_count": 103,
   "metadata": {
    "collapsed": false
   },
   "outputs": [
    {
     "data": {
      "text/plain": [
       "116268"
      ]
     },
     "execution_count": 103,
     "metadata": {},
     "output_type": "execute_result"
    }
   ],
   "source": [
    "len(df_t.ix[(df_t['tripduration'] >= 4) & (df_t['tripduration'] <= 60),:])\n",
    "len(df_t.ix[(df_t['from_station_id'] != df_t['to_station_id']) & (df_t['tripduration'] >= 4) & (df_t['tripduration'] <= 60), :])\n"
   ]
  },
  {
   "cell_type": "code",
   "execution_count": 3,
   "metadata": {
    "collapsed": false
   },
   "outputs": [
    {
     "data": {
      "text/plain": [
       "array([10, 11, 12, 13, 14, 15, 17, 19,  7,  8,  9, 16, 22, 23, 21,  0,  1,\n",
       "       20, 18,  4,  3,  2,  6,  5])"
      ]
     },
     "execution_count": 3,
     "metadata": {},
     "output_type": "execute_result"
    }
   ],
   "source": [
    "df_t['hour'].unique()"
   ]
  },
  {
   "cell_type": "code",
   "execution_count": 27,
   "metadata": {
    "collapsed": false
   },
   "outputs": [],
   "source": [
    "plt.hist(df_t['hour'], bins=50)\n",
    "plt.show()"
   ]
  },
  {
   "cell_type": "code",
   "execution_count": null,
   "metadata": {
    "collapsed": false
   },
   "outputs": [],
   "source": [
    "pd.cut(df_t['hour'],[0,6,10,15,19] , include_lowest=True, right=True)"
   ]
  },
  {
   "cell_type": "code",
   "execution_count": 28,
   "metadata": {
    "collapsed": false
   },
   "outputs": [],
   "source": [
    "#df_t['hour'] = pd.cut(df_t['hour'],[0,6,10,15,19] , include_lowest=True, right=True)"
   ]
  },
  {
   "cell_type": "code",
   "execution_count": 29,
   "metadata": {
    "collapsed": false
   },
   "outputs": [
    {
     "ename": "NameError",
     "evalue": "name 'df_w' is not defined",
     "output_type": "error",
     "traceback": [
      "\u001b[0;31m---------------------------------------------------------------------------\u001b[0m",
      "\u001b[0;31mNameError\u001b[0m                                 Traceback (most recent call last)",
      "\u001b[0;32m<ipython-input-29-cc1ad6408fe5>\u001b[0m in \u001b[0;36m<module>\u001b[0;34m()\u001b[0m\n\u001b[0;32m----> 1\u001b[0;31m \u001b[0mdf_w\u001b[0m\u001b[0;34m.\u001b[0m\u001b[0mhead\u001b[0m\u001b[0;34m(\u001b[0m\u001b[0;34m)\u001b[0m\u001b[0;34m\u001b[0m\u001b[0m\n\u001b[0m",
      "\u001b[0;31mNameError\u001b[0m: name 'df_w' is not defined"
     ]
    }
   ],
   "source": []
  },
  {
   "cell_type": "code",
   "execution_count": 15,
   "metadata": {
    "collapsed": false
   },
   "outputs": [],
   "source": [
    "eco_dict = {'Seattle': 0, 'Udist': 1, 'Outliers': -1}\n",
    "eco_list=['Seattle']\n",
    "eco_list = [eco_dict[x] for x in eco_list]"
   ]
  },
  {
   "cell_type": "code",
   "execution_count": 17,
   "metadata": {
    "collapsed": false
   },
   "outputs": [
    {
     "data": {
      "text/plain": [
       "124339"
      ]
     },
     "execution_count": 17,
     "metadata": {},
     "output_type": "execute_result"
    }
   ],
   "source": [
    "len(df_t.ix[(df_t['ecosystem_to'].isin(eco_list)) & (df_t['ecosystem_from'].isin(eco_list)),:])"
   ]
  },
  {
   "cell_type": "code",
   "execution_count": 26,
   "metadata": {
    "collapsed": false
   },
   "outputs": [
    {
     "data": {
      "text/plain": [
       "55230"
      ]
     },
     "execution_count": 26,
     "metadata": {},
     "output_type": "execute_result"
    }
   ],
   "source": [
    "usertypes=['Short-Term Pass Holder']\n",
    "df_t.ix[df_t['usertype'].isin(usertypes),:]"
   ]
  },
  {
   "cell_type": "code",
   "execution_count": 35,
   "metadata": {
    "collapsed": false
   },
   "outputs": [
    {
     "name": "stdout",
     "output_type": "stream",
     "text": [
      "['datetime', 'TEMP', 'SPD', 'PCP01', 'CLG', 'DIR', 'VSB', 'DEWP', 'SLP', 'STP']\n"
     ]
    }
   ],
   "source": [
    "print list(df_w.columns)"
   ]
  },
  {
   "cell_type": "code",
   "execution_count": 38,
   "metadata": {
    "collapsed": false
   },
   "outputs": [
    {
     "name": "stdout",
     "output_type": "stream",
     "text": [
      "<class 'pandas.core.frame.DataFrame'>\n",
      "Int64Index: 9529 entries, 0 to 9528\n",
      "Data columns (total 10 columns):\n",
      "datetime    9529 non-null datetime64[ns]\n",
      "TEMP        9529 non-null float64\n",
      "SPD         9528 non-null float64\n",
      "PCP01       9073 non-null float64\n",
      "CLG         9527 non-null float64\n",
      "DIR         8327 non-null float64\n",
      "VSB         9529 non-null float64\n",
      "DEWP        9529 non-null float64\n",
      "SLP         9528 non-null float64\n",
      "STP         9528 non-null float64\n",
      "dtypes: datetime64[ns](1), float64(9)\n",
      "memory usage: 818.9 KB\n"
     ]
    }
   ],
   "source": [
    "df_w.info()"
   ]
  },
  {
   "cell_type": "code",
   "execution_count": null,
   "metadata": {
    "collapsed": true
   },
   "outputs": [],
   "source": [
    "df_t.ix[df_t['ecosystem_to'].isin()]"
   ]
  },
  {
   "cell_type": "code",
   "execution_count": null,
   "metadata": {
    "collapsed": true
   },
   "outputs": [],
   "source": [
    "def remove_trip_outliers(df, duration=[3, 60], same=False):\n",
    "    # subset by min/max duration\n",
    "    df = df.ix[(df_t['tripduration'] >= duration[0]) & (df_t['tripduration'] <= duration[1]),:]\n",
    "    \n",
    "    #remove trips with same origin and destination\n",
    "    if same:\n",
    "        df = df.ix[df_t['from_station_id'] != df_t['to_station_id'], :]\n",
    "    return df"
   ]
  },
  {
   "cell_type": "code",
   "execution_count": 97,
   "metadata": {
    "collapsed": false
   },
   "outputs": [
    {
     "data": {
      "text/plain": [
       "141943"
      ]
     },
     "execution_count": 97,
     "metadata": {},
     "output_type": "execute_result"
    }
   ],
   "source": [
    "len(df_t)"
   ]
  },
  {
   "cell_type": "code",
   "execution_count": 30,
   "metadata": {
    "collapsed": false
   },
   "outputs": [],
   "source": [
    "df_w = pd.read_csv('data/cleaned/cleaned_weather.csv', parse_dates=['datetime'], infer_datetime_format=True)"
   ]
  },
  {
   "cell_type": "code",
   "execution_count": 70,
   "metadata": {
    "collapsed": true
   },
   "outputs": [],
   "source": [
    "df_c = pd.read_csv('data/raw/clusters.csv')"
   ]
  },
  {
   "cell_type": "code",
   "execution_count": 69,
   "metadata": {
    "collapsed": false
   },
   "outputs": [],
   "source": [
    "df_c.rename(columns={'big_cluster': 'ecosystem', 'smallgroups': 'cluster'}, inplace = True)\n",
    "df_c.to_csv('data/raw/clusters.csv', index= False)"
   ]
  },
  {
   "cell_type": "code",
   "execution_count": 104,
   "metadata": {
    "collapsed": false
   },
   "outputs": [],
   "source": [
    "# df = df_t.merge(df_c[['dockcount','elevation','cluster','ecosystem','terminal']], left_on = 'from_station_id', right_on = 'terminal',  how='left')\n",
    "# # df.drop('terminal', axis=1, inplace=True)\n",
    "# df.merge(df_c[['terminal', 'cluster', 'ecosystem']], left_on ='to_station_id', right_on='terminal', suffixes=['_from','_to'])"
   ]
  },
  {
   "cell_type": "code",
   "execution_count": null,
   "metadata": {
    "collapsed": false
   },
   "outputs": [],
   "source": []
  },
  {
   "cell_type": "code",
   "execution_count": 131,
   "metadata": {
    "collapsed": true
   },
   "outputs": [],
   "source": [
    "# Convert columns and create hour column\n",
    "#df_trips['date'] = df_trips['starttime'].str.replace('\\s.*','')\n",
    "df_trips['starttime'] = pd.to_datetime(df_trips['starttime'])"
   ]
  },
  {
   "cell_type": "code",
   "execution_count": 135,
   "metadata": {
    "collapsed": false
   },
   "outputs": [],
   "source": [
    "df_trips['tripduration'] = df_trips['tripduration'] / float(60)"
   ]
  },
  {
   "cell_type": "code",
   "execution_count": 1,
   "metadata": {
    "collapsed": false
   },
   "outputs": [
    {
     "name": "stdout",
     "output_type": "stream",
     "text": [
      "Index([u'trip_id', u'starttime', u'stoptime', u'bikeid', u'tripduration',\n",
      "       u'from_station_name', u'to_station_name', u'from_station_id',\n",
      "       u'to_station_id', u'usertype', u'gender', u'birthyear'],\n",
      "      dtype='object')\n"
     ]
    }
   ],
   "source": [
    "df_trips = df_trips.drop(['from_station_name', 'to_station_name', 'trip_id'], axis = 1)\n",
    "\n",
    "\n",
    "df_trips['hour'] = df_trips['starttime'].map(lambda x: x.hour)\n",
    "\n",
    "df_trips = df_trips.ix[(df_trips['tripduration'] > 4) & (df_trips['tripduration'] < 120) , :]\n",
    "df_trips = df_trips.ix[(df_trips['usertype'] =='Annual Member') &  (df_trips['from_station_id'] != df_trips['to_station_id']), :]\n",
    "\n",
    "# Group by to get totals per day, per hour, per station\n",
    "#df= df_trips.groupby(['date','hour','from_station_id'])['bikeid'].count().reset_index()\n",
    "\n",
    "df = df_trips\n",
    "# rename columns \n",
    "df = df.rename(columns = {'from_station_id': 'terminal', 'bikeid': 'count'})\n",
    "\n",
    "#remove pronto shop columns\n",
    "df = df.ix[~df['terminal'].isin(['UW-01','Pronto shop']),:]\n",
    "df['count'] = 1\n",
    "\n",
    "# Get list of terminals and hours\n",
    "terminals = df['terminal'].unique()\n",
    "hours = df['hour'].unique()"
   ]
  },
  {
   "cell_type": "code",
   "execution_count": 3,
   "metadata": {
    "collapsed": false
   },
   "outputs": [],
   "source": [
    "df_h = pd.read_table('../open_data_year_one/hw.txt',sep=' ', error_bad_lines= False, index_col=False)\n"
   ]
  },
  {
   "cell_type": "code",
   "execution_count": 97,
   "metadata": {
    "collapsed": false
   },
   "outputs": [
    {
     "data": {
      "text/html": [
       "<div style=\"max-height:1000px;max-width:1500px;overflow:auto;\">\n",
       "<table border=\"1\" class=\"dataframe\">\n",
       "  <thead>\n",
       "    <tr style=\"text-align: right;\">\n",
       "      <th></th>\n",
       "      <th>USAF</th>\n",
       "      <th>WBAN</th>\n",
       "      <th>YR--MODAHRMN</th>\n",
       "      <th>DIR</th>\n",
       "      <th>SPD</th>\n",
       "      <th>GUS</th>\n",
       "      <th>CLG</th>\n",
       "      <th>SKC</th>\n",
       "      <th>L</th>\n",
       "      <th>M</th>\n",
       "      <th>...</th>\n",
       "      <th>SLP</th>\n",
       "      <th>ALT</th>\n",
       "      <th>STP</th>\n",
       "      <th>MAX</th>\n",
       "      <th>MIN</th>\n",
       "      <th>PCP01</th>\n",
       "      <th>PCP06</th>\n",
       "      <th>PCP24</th>\n",
       "      <th>PCPXX</th>\n",
       "      <th>SD</th>\n",
       "    </tr>\n",
       "  </thead>\n",
       "  <tbody>\n",
       "    <tr>\n",
       "      <th>0</th>\n",
       "      <td>727930</td>\n",
       "      <td>24233</td>\n",
       "      <td>201410010000</td>\n",
       "      <td>020</td>\n",
       "      <td>8</td>\n",
       "      <td>***</td>\n",
       "      <td>***</td>\n",
       "      <td>BKN</td>\n",
       "      <td>*</td>\n",
       "      <td>*</td>\n",
       "      <td>...</td>\n",
       "      <td>1019.8</td>\n",
       "      <td>*****</td>\n",
       "      <td>1002.9</td>\n",
       "      <td>67</td>\n",
       "      <td>54</td>\n",
       "      <td>*****</td>\n",
       "      <td>*****</td>\n",
       "      <td>*****</td>\n",
       "      <td>*****</td>\n",
       "      <td>**</td>\n",
       "    </tr>\n",
       "    <tr>\n",
       "      <th>1</th>\n",
       "      <td>727930</td>\n",
       "      <td>24233</td>\n",
       "      <td>201410010053</td>\n",
       "      <td>040</td>\n",
       "      <td>8</td>\n",
       "      <td>***</td>\n",
       "      <td>722</td>\n",
       "      <td>SCT</td>\n",
       "      <td>*</td>\n",
       "      <td>*</td>\n",
       "      <td>...</td>\n",
       "      <td>1019.9</td>\n",
       "      <td>30.10</td>\n",
       "      <td>1003.5</td>\n",
       "      <td>***</td>\n",
       "      <td>***</td>\n",
       "      <td>0.00</td>\n",
       "      <td>*****</td>\n",
       "      <td>*****</td>\n",
       "      <td>*****</td>\n",
       "      <td>**</td>\n",
       "    </tr>\n",
       "    <tr>\n",
       "      <th>2</th>\n",
       "      <td>727930</td>\n",
       "      <td>24233</td>\n",
       "      <td>201410010153</td>\n",
       "      <td>080</td>\n",
       "      <td>5</td>\n",
       "      <td>***</td>\n",
       "      <td>722</td>\n",
       "      <td>SCT</td>\n",
       "      <td>*</td>\n",
       "      <td>*</td>\n",
       "      <td>...</td>\n",
       "      <td>1020.4</td>\n",
       "      <td>30.12</td>\n",
       "      <td>1004.1</td>\n",
       "      <td>***</td>\n",
       "      <td>***</td>\n",
       "      <td>0.00</td>\n",
       "      <td>*****</td>\n",
       "      <td>*****</td>\n",
       "      <td>*****</td>\n",
       "      <td>**</td>\n",
       "    </tr>\n",
       "    <tr>\n",
       "      <th>3</th>\n",
       "      <td>727930</td>\n",
       "      <td>24233</td>\n",
       "      <td>201410010253</td>\n",
       "      <td>070</td>\n",
       "      <td>6</td>\n",
       "      <td>***</td>\n",
       "      <td>75</td>\n",
       "      <td>***</td>\n",
       "      <td>*</td>\n",
       "      <td>*</td>\n",
       "      <td>...</td>\n",
       "      <td>1021.0</td>\n",
       "      <td>30.14</td>\n",
       "      <td>1004.8</td>\n",
       "      <td>***</td>\n",
       "      <td>***</td>\n",
       "      <td>0.00</td>\n",
       "      <td>*****</td>\n",
       "      <td>*****</td>\n",
       "      <td>*****</td>\n",
       "      <td>**</td>\n",
       "    </tr>\n",
       "    <tr>\n",
       "      <th>4</th>\n",
       "      <td>727930</td>\n",
       "      <td>24233</td>\n",
       "      <td>201410010353</td>\n",
       "      <td>080</td>\n",
       "      <td>8</td>\n",
       "      <td>***</td>\n",
       "      <td>80</td>\n",
       "      <td>***</td>\n",
       "      <td>*</td>\n",
       "      <td>*</td>\n",
       "      <td>...</td>\n",
       "      <td>1021.6</td>\n",
       "      <td>30.15</td>\n",
       "      <td>1005.1</td>\n",
       "      <td>***</td>\n",
       "      <td>***</td>\n",
       "      <td>0.00</td>\n",
       "      <td>*****</td>\n",
       "      <td>*****</td>\n",
       "      <td>*****</td>\n",
       "      <td>**</td>\n",
       "    </tr>\n",
       "  </tbody>\n",
       "</table>\n",
       "<p>5 rows × 33 columns</p>\n",
       "</div>"
      ],
      "text/plain": [
       "     USAF   WBAN  YR--MODAHRMN  DIR SPD  GUS  CLG  SKC  L  M ...     SLP  \\\n",
       "0  727930  24233  201410010000  020   8  ***  ***  BKN  *  * ...  1019.8   \n",
       "1  727930  24233  201410010053  040   8  ***  722  SCT  *  * ...  1019.9   \n",
       "2  727930  24233  201410010153  080   5  ***  722  SCT  *  * ...  1020.4   \n",
       "3  727930  24233  201410010253  070   6  ***   75  ***  *  * ...  1021.0   \n",
       "4  727930  24233  201410010353  080   8  ***   80  ***  *  * ...  1021.6   \n",
       "\n",
       "     ALT     STP  MAX  MIN  PCP01  PCP06  PCP24  PCPXX  SD  \n",
       "0  *****  1002.9   67   54  *****  *****  *****  *****  **  \n",
       "1  30.10  1003.5  ***  ***   0.00  *****  *****  *****  **  \n",
       "2  30.12  1004.1  ***  ***   0.00  *****  *****  *****  **  \n",
       "3  30.14  1004.8  ***  ***   0.00  *****  *****  *****  **  \n",
       "4  30.15  1005.1  ***  ***   0.00  *****  *****  *****  **  \n",
       "\n",
       "[5 rows x 33 columns]"
      ]
     },
     "execution_count": 97,
     "metadata": {},
     "output_type": "execute_result"
    }
   ],
   "source": [
    "df_h.ix[]"
   ]
  },
  {
   "cell_type": "code",
   "execution_count": 4,
   "metadata": {
    "collapsed": false
   },
   "outputs": [],
   "source": [
    "df_h = df_h.replace('\\*+|T', np.nan, regex=True)"
   ]
  },
  {
   "cell_type": "code",
   "execution_count": 40,
   "metadata": {
    "collapsed": false
   },
   "outputs": [],
   "source": [
    "df_h.ix[df_h['TEMP'] == '****', 'TEMP'] = np.nan\n",
    "df_h.ix[df_h['SPD'] == '***', 'SPD'] = np.nan\n",
    "df_h.ix[df_h['PCP01'].isin(['****','0.00T*****','0.00T','*****']), 'PCP01'] = np.nan\n",
    "df_h.ix[df_h['CLG'] == '***', 'CLG'] = np.nan"
   ]
  },
  {
   "cell_type": "code",
   "execution_count": 41,
   "metadata": {
    "collapsed": false
   },
   "outputs": [],
   "source": [
    "df_h['TEMP'] = df_h['TEMP'].astype(float)\n",
    "df_h['TEMP'].hist()\n",
    "plt.show()"
   ]
  },
  {
   "cell_type": "code",
   "execution_count": 5,
   "metadata": {
    "collapsed": false
   },
   "outputs": [
    {
     "data": {
      "text/plain": [
       "<matplotlib.axes._subplots.AxesSubplot at 0x10c614bd0>"
      ]
     },
     "execution_count": 5,
     "metadata": {},
     "output_type": "execute_result"
    }
   ],
   "source": [
    "df_h['SPD'] = df_h['SPD'].astype(float)\n",
    "df_h['SPD'].hist()\n",
    "#plt.show()"
   ]
  },
  {
   "cell_type": "code",
   "execution_count": 45,
   "metadata": {
    "collapsed": false
   },
   "outputs": [
    {
     "data": {
      "text/plain": [
       "<matplotlib.axes._subplots.AxesSubplot at 0x10ab35390>"
      ]
     },
     "execution_count": 45,
     "metadata": {},
     "output_type": "execute_result"
    }
   ],
   "source": [
    "df_h['PCP01'] =  df_h['PCP01'].astype(float)\n",
    "df_h['PCP01'].hist(bins = 100)\n",
    "#plt.show()"
   ]
  },
  {
   "cell_type": "code",
   "execution_count": 46,
   "metadata": {
    "collapsed": false
   },
   "outputs": [
    {
     "data": {
      "text/plain": [
       "<matplotlib.axes._subplots.AxesSubplot at 0x10ab35390>"
      ]
     },
     "execution_count": 46,
     "metadata": {},
     "output_type": "execute_result"
    }
   ],
   "source": [
    "df_h['CLG'] =  df_h['CLG'].astype(float)\n",
    "df_h['CLG'].hist(bins = 100)\n",
    "#plt.show()"
   ]
  },
  {
   "cell_type": "code",
   "execution_count": null,
   "metadata": {
    "collapsed": true
   },
   "outputs": [],
   "source": [
    "df_h = df_h[['TEMP','SPD','PCP01','CLG','DIR','VSB','DEWP','SLP','STP']].astype(float)"
   ]
  },
  {
   "cell_type": "code",
   "execution_count": 239,
   "metadata": {
    "collapsed": false
   },
   "outputs": [
    {
     "data": {
      "text/plain": [
       "0    201410010000\n",
       "1    201410010053\n",
       "2    201410010153\n",
       "3    201410010253\n",
       "4    201410010353\n",
       "Name: YR--MODAHRMN, dtype: int64"
      ]
     },
     "execution_count": 239,
     "metadata": {},
     "output_type": "execute_result"
    }
   ],
   "source": [
    "df_h['YR--MODAHRMN'][:5]"
   ]
  },
  {
   "cell_type": "code",
   "execution_count": 262,
   "metadata": {
    "collapsed": false
   },
   "outputs": [],
   "source": [
    "x = pd.to_datetime(df_h['YR--MODAHRMN'][:10], format='%Y%m%d%H%M')"
   ]
  },
  {
   "cell_type": "code",
   "execution_count": 290,
   "metadata": {
    "collapsed": false
   },
   "outputs": [],
   "source": [
    "def round_to_hour(x):\n",
    "    if x.minute > 30:\n",
    "        x = x.replace(minute=0)\n",
    "        x = x + pd.offsets.Hour(1)\n",
    "        \n",
    "    else:\n",
    "        x = x.replace(minute=0)\n",
    "    return x"
   ]
  },
  {
   "cell_type": "code",
   "execution_count": 291,
   "metadata": {
    "collapsed": false
   },
   "outputs": [
    {
     "data": {
      "text/plain": [
       "[Timestamp('2014-10-01 00:00:00'),\n",
       " Timestamp('2014-10-01 01:00:00'),\n",
       " Timestamp('2014-10-01 02:00:00'),\n",
       " Timestamp('2014-10-01 03:00:00'),\n",
       " Timestamp('2014-10-01 04:00:00'),\n",
       " Timestamp('2014-10-01 05:00:00'),\n",
       " Timestamp('2014-10-01 06:00:00'),\n",
       " Timestamp('2014-10-01 06:00:00'),\n",
       " Timestamp('2014-10-01 07:00:00'),\n",
       " Timestamp('2014-10-01 08:00:00')]"
      ]
     },
     "execution_count": 291,
     "metadata": {},
     "output_type": "execute_result"
    }
   ],
   "source": [
    "map(round_to_hour,x)"
   ]
  },
  {
   "cell_type": "code",
   "execution_count": 248,
   "metadata": {
    "collapsed": false
   },
   "outputs": [
    {
     "data": {
      "text/plain": [
       "DatetimeIndex([   '1970-01-01 00:03:21.410010',\n",
       "               '1970-01-01 00:03:21.410010053',\n",
       "               '1970-01-01 00:03:21.410010153',\n",
       "               '1970-01-01 00:03:21.410010253',\n",
       "               '1970-01-01 00:03:21.410010353',\n",
       "               '1970-01-01 00:03:21.410010453',\n",
       "               '1970-01-01 00:03:21.410010553',\n",
       "               '1970-01-01 00:03:21.410010600',\n",
       "               '1970-01-01 00:03:21.410010653',\n",
       "               '1970-01-01 00:03:21.410010751'],\n",
       "              dtype='datetime64[ns]', freq=None, tz=None)"
      ]
     },
     "execution_count": 248,
     "metadata": {},
     "output_type": "execute_result"
    }
   ],
   "source": [
    "round_to_hour(df_h['YR--MODAHRMN'][:10])"
   ]
  },
  {
   "cell_type": "code",
   "execution_count": 102,
   "metadata": {
    "collapsed": false
   },
   "outputs": [],
   "source": [
    "df_h['rounded_time'] =pd.to_datetime(df_h['rounded_time'], format='%Y%m%d%H%M')"
   ]
  },
  {
   "cell_type": "code",
   "execution_count": 48,
   "metadata": {
    "collapsed": false
   },
   "outputs": [],
   "source": [
    "df_h = df_h[['rounded_time','TEMP','CLG','PCP01','SPD']]"
   ]
  },
  {
   "cell_type": "code",
   "execution_count": 49,
   "metadata": {
    "collapsed": false
   },
   "outputs": [],
   "source": [
    "df_h = df_h.groupby(['rounded_time']).mean().reset_index()"
   ]
  },
  {
   "cell_type": "code",
   "execution_count": 50,
   "metadata": {
    "collapsed": false,
    "scrolled": true
   },
   "outputs": [
    {
     "data": {
      "text/html": [
       "<div style=\"max-height:1000px;max-width:1500px;overflow:auto;\">\n",
       "<table border=\"1\" class=\"dataframe\">\n",
       "  <thead>\n",
       "    <tr style=\"text-align: right;\">\n",
       "      <th></th>\n",
       "      <th>rounded_time</th>\n",
       "      <th>TEMP</th>\n",
       "      <th>CLG</th>\n",
       "      <th>PCP01</th>\n",
       "    </tr>\n",
       "  </thead>\n",
       "  <tbody>\n",
       "    <tr>\n",
       "      <th>0</th>\n",
       "      <td>201410010000</td>\n",
       "      <td>65</td>\n",
       "      <td>722</td>\n",
       "      <td>0</td>\n",
       "    </tr>\n",
       "    <tr>\n",
       "      <th>1</th>\n",
       "      <td>201410010100</td>\n",
       "      <td>62</td>\n",
       "      <td>722</td>\n",
       "      <td>0</td>\n",
       "    </tr>\n",
       "    <tr>\n",
       "      <th>2</th>\n",
       "      <td>201410010200</td>\n",
       "      <td>61</td>\n",
       "      <td>75</td>\n",
       "      <td>0</td>\n",
       "    </tr>\n",
       "    <tr>\n",
       "      <th>3</th>\n",
       "      <td>201410010300</td>\n",
       "      <td>61</td>\n",
       "      <td>80</td>\n",
       "      <td>0</td>\n",
       "    </tr>\n",
       "    <tr>\n",
       "      <th>4</th>\n",
       "      <td>201410010400</td>\n",
       "      <td>59</td>\n",
       "      <td>55</td>\n",
       "      <td>0</td>\n",
       "    </tr>\n",
       "  </tbody>\n",
       "</table>\n",
       "</div>"
      ],
      "text/plain": [
       "   rounded_time  TEMP  CLG  PCP01\n",
       "0  201410010000    65  722      0\n",
       "1  201410010100    62  722      0\n",
       "2  201410010200    61   75      0\n",
       "3  201410010300    61   80      0\n",
       "4  201410010400    59   55      0"
      ]
     },
     "execution_count": 50,
     "metadata": {},
     "output_type": "execute_result"
    }
   ],
   "source": []
  },
  {
   "cell_type": "code",
   "execution_count": 12,
   "metadata": {
    "collapsed": false
   },
   "outputs": [],
   "source": [
    "datetimes =  df_h['rounded_time']"
   ]
  },
  {
   "cell_type": "code",
   "execution_count": 13,
   "metadata": {
    "collapsed": false
   },
   "outputs": [],
   "source": [
    "# create new full index and reindex\n",
    "full_index = pd.MultiIndex.from_product([datetimes, terminals], names=['datetime', 'terminal'])"
   ]
  },
  {
   "cell_type": "code",
   "execution_count": 14,
   "metadata": {
    "collapsed": false
   },
   "outputs": [],
   "source": [
    "df_h['terminal'] = 'BT-01'\n",
    "df_h.index = [df_h.rounded_time, df_h.terminal]"
   ]
  },
  {
   "cell_type": "code",
   "execution_count": null,
   "metadata": {
    "collapsed": false
   },
   "outputs": [],
   "source": []
  },
  {
   "cell_type": "code",
   "execution_count": 15,
   "metadata": {
    "collapsed": false
   },
   "outputs": [],
   "source": [
    "df_h.drop(['terminal','rounded_time'], axis = 1, inplace = True)\n",
    "df_h = df_h.reindex(full_index)\n",
    "df_h = df_h.reset_index()\n",
    "df_h = df_h.ix[:438000,:]"
   ]
  },
  {
   "cell_type": "code",
   "execution_count": 16,
   "metadata": {
    "collapsed": false
   },
   "outputs": [],
   "source": [
    "df_h['datetime'] = df_h['datetime'].astype(str)"
   ]
  },
  {
   "cell_type": "code",
   "execution_count": 17,
   "metadata": {
    "collapsed": false
   },
   "outputs": [],
   "source": [
    "count = 0\n",
    "s = 1\n",
    "for date in df_h['datetime'].unique()[8001:]:\n",
    "    df_h.ix[df_h.datetime == date, ~df_h.columns.isin(['datetime','terminal'])] = df_h.ix[(df_h.datetime == date) & (df_h.terminal == 'BT-01'), ~df_h.columns.isin(['datetime','terminal'])].values\n",
    "    count += 1\n",
    "    if count > 1000 * s:\n",
    "        s += 1\n",
    "        print count"
   ]
  },
  {
   "cell_type": "code",
   "execution_count": 18,
   "metadata": {
    "collapsed": false
   },
   "outputs": [],
   "source": [
    "df['date'] = pd.to_datetime(df['date'])"
   ]
  },
  {
   "cell_type": "code",
   "execution_count": null,
   "metadata": {
    "collapsed": true
   },
   "outputs": [],
   "source": []
  },
  {
   "cell_type": "code",
   "execution_count": 19,
   "metadata": {
    "collapsed": false
   },
   "outputs": [],
   "source": [
    "df['datetime'] = df['date'] + map(lambda x:pd.to_timedelta(int(x), unit='h'), df.hour)"
   ]
  },
  {
   "cell_type": "code",
   "execution_count": 20,
   "metadata": {
    "collapsed": true
   },
   "outputs": [],
   "source": [
    "df_h['datetime'] = pd.to_datetime(df_h['datetime'])"
   ]
  },
  {
   "cell_type": "code",
   "execution_count": 21,
   "metadata": {
    "collapsed": true
   },
   "outputs": [],
   "source": [
    "df = df[['terminal', 'datetime', 'count']]"
   ]
  },
  {
   "cell_type": "code",
   "execution_count": 22,
   "metadata": {
    "collapsed": false
   },
   "outputs": [],
   "source": [
    "df_final = df_h.merge(df, on = ['datetime','terminal'], how = 'left')"
   ]
  },
  {
   "cell_type": "code",
   "execution_count": 23,
   "metadata": {
    "collapsed": false
   },
   "outputs": [],
   "source": [
    "df_final['count'] = df_final['count'].fillna(0)"
   ]
  },
  {
   "cell_type": "code",
   "execution_count": 24,
   "metadata": {
    "collapsed": true
   },
   "outputs": [],
   "source": [
    "df_final.to_csv('annnual_members.csv', index= False)"
   ]
  },
  {
   "cell_type": "code",
   "execution_count": 37,
   "metadata": {
    "collapsed": false
   },
   "outputs": [],
   "source": [
    "#dff = pd.read_csv('weather_count.csv')"
   ]
  },
  {
   "cell_type": "code",
   "execution_count": 1,
   "metadata": {
    "collapsed": false
   },
   "outputs": [
    {
     "ename": "NameError",
     "evalue": "name 'pd' is not defined",
     "output_type": "error",
     "traceback": [
      "\u001b[0;31m---------------------------------------------------------------------------\u001b[0m",
      "\u001b[0;31mNameError\u001b[0m                                 Traceback (most recent call last)",
      "\u001b[0;32m<ipython-input-1-ba6b6496a98a>\u001b[0m in \u001b[0;36m<module>\u001b[0;34m()\u001b[0m\n\u001b[0;32m----> 1\u001b[0;31m \u001b[0mdf_c\u001b[0m \u001b[0;34m=\u001b[0m \u001b[0mpd\u001b[0m\u001b[0;34m.\u001b[0m\u001b[0mread_csv\u001b[0m\u001b[0;34m(\u001b[0m\u001b[0;34m'../clusters.csv'\u001b[0m\u001b[0;34m)\u001b[0m\u001b[0;34m\u001b[0m\u001b[0m\n\u001b[0m",
      "\u001b[0;31mNameError\u001b[0m: name 'pd' is not defined"
     ]
    }
   ],
   "source": [
    "df_c = pd.read_csv('../clusters.csv')\n",
    "df_t.merge(df_c[['dockcount','elevation','smallgroups','big_cluster','terminal']], on = 'terminal', how='left')"
   ]
  },
  {
   "cell_type": "code",
   "execution_count": 27,
   "metadata": {
    "collapsed": true
   },
   "outputs": [],
   "source": [
    "#dff = pd.read_csv('weather_count.csv')"
   ]
  },
  {
   "cell_type": "code",
   "execution_count": 28,
   "metadata": {
    "collapsed": false
   },
   "outputs": [],
   "source": [
    "dff['datetime'] = pd.to_datetime(dff['datetime'])\n",
    "dff['hour'] = map(lambda x: x.hour, dff['datetime'])\n",
    "dff['dow'] = map(lambda x: x.dayofweek, dff['datetime'])\n",
    "dff['month'] = map(lambda x: x.month, dff['datetime'])"
   ]
  },
  {
   "cell_type": "code",
   "execution_count": 216,
   "metadata": {
    "collapsed": false
   },
   "outputs": [],
   "source": [
    "hour_average = dff.groupby(['hour','terminal'])['count'].mean().reset_index()\n",
    "hour_average.columns = ['hour','terminal', 'hour_avg']\n",
    "\n",
    "month_average = dff.groupby(['month','terminal'])['count'].mean().reset_index()\n",
    "month_average.columns = ['month','terminal', 'month_avg']\n",
    "\n",
    "dow_average = dff.groupby(['dow','terminal'])['count'].mean().reset_index()\n",
    "dow_average.columns = ['dow','terminal', 'dow_avg']\n",
    "\n",
    "sg_hour = dff.groupby(['hour','smallgroups'])['count'].mean().reset_index()\n",
    "sg_hour.columns = ['hour','smallgroups', 'sg_avg']"
   ]
  },
  {
   "cell_type": "code",
   "execution_count": 294,
   "metadata": {
    "collapsed": false
   },
   "outputs": [],
   "source": [
    "dff = dff.sort('datetime')\n",
    "df_a = dff.merge(hour_average, on = ['hour','terminal']).merge(month_average, on = ['month', 'terminal']).merge(dow_average, on =['dow','terminal']).merge(sg_hour, on =['hour','smallgroups'])"
   ]
  },
  {
   "cell_type": "code",
   "execution_count": 219,
   "metadata": {
    "collapsed": true
   },
   "outputs": [],
   "source": [
    "df_a.to_csv('BEST_DATA.csv', index = False)"
   ]
  },
  {
   "cell_type": "code",
   "execution_count": 226,
   "metadata": {
    "collapsed": false
   },
   "outputs": [],
   "source": [
    "df_a = df_a.drop('count', axis = 1)\n",
    "\n",
    "df_test = df_a.merge(df, on = ['datetime','terminal'], how = 'left')"
   ]
  },
  {
   "cell_type": "code",
   "execution_count": 234,
   "metadata": {
    "collapsed": true
   },
   "outputs": [],
   "source": [
    "df_test.to_csv('df_test.csv', index = False)"
   ]
  },
  {
   "cell_type": "code",
   "execution_count": 30,
   "metadata": {
    "collapsed": false
   },
   "outputs": [
    {
     "data": {
      "text/html": [
       "<div style=\"max-height:1000px;max-width:1500px;overflow:auto;\">\n",
       "<table border=\"1\" class=\"dataframe\">\n",
       "  <thead>\n",
       "    <tr style=\"text-align: right;\">\n",
       "      <th></th>\n",
       "      <th>datetime</th>\n",
       "      <th>terminal</th>\n",
       "      <th>TEMP</th>\n",
       "      <th>CLG</th>\n",
       "      <th>PCP01</th>\n",
       "      <th>SPD</th>\n",
       "      <th>count</th>\n",
       "      <th>dockcount</th>\n",
       "      <th>elevation</th>\n",
       "      <th>smallgroups</th>\n",
       "      <th>big_cluster</th>\n",
       "      <th>hood</th>\n",
       "      <th>hour</th>\n",
       "      <th>dow</th>\n",
       "      <th>month</th>\n",
       "    </tr>\n",
       "  </thead>\n",
       "  <tbody>\n",
       "    <tr>\n",
       "      <th>0</th>\n",
       "      <td>2014-10-01</td>\n",
       "      <td>CBD-06</td>\n",
       "      <td>NaN</td>\n",
       "      <td>NaN</td>\n",
       "      <td>NaN</td>\n",
       "      <td>NaN</td>\n",
       "      <td>0</td>\n",
       "      <td>20</td>\n",
       "      <td>25.305275</td>\n",
       "      <td>4</td>\n",
       "      <td>0</td>\n",
       "      <td>CBD</td>\n",
       "      <td>0</td>\n",
       "      <td>2</td>\n",
       "      <td>10</td>\n",
       "    </tr>\n",
       "    <tr>\n",
       "      <th>1</th>\n",
       "      <td>2014-10-01</td>\n",
       "      <td>PS-04</td>\n",
       "      <td>NaN</td>\n",
       "      <td>NaN</td>\n",
       "      <td>NaN</td>\n",
       "      <td>NaN</td>\n",
       "      <td>0</td>\n",
       "      <td>18</td>\n",
       "      <td>8.136753</td>\n",
       "      <td>4</td>\n",
       "      <td>0</td>\n",
       "      <td>PS</td>\n",
       "      <td>0</td>\n",
       "      <td>2</td>\n",
       "      <td>10</td>\n",
       "    </tr>\n",
       "    <tr>\n",
       "      <th>2</th>\n",
       "      <td>2014-10-01</td>\n",
       "      <td>CBD-07</td>\n",
       "      <td>NaN</td>\n",
       "      <td>NaN</td>\n",
       "      <td>NaN</td>\n",
       "      <td>NaN</td>\n",
       "      <td>0</td>\n",
       "      <td>18</td>\n",
       "      <td>31.532837</td>\n",
       "      <td>4</td>\n",
       "      <td>0</td>\n",
       "      <td>CBD</td>\n",
       "      <td>0</td>\n",
       "      <td>2</td>\n",
       "      <td>10</td>\n",
       "    </tr>\n",
       "    <tr>\n",
       "      <th>3</th>\n",
       "      <td>2014-10-01</td>\n",
       "      <td>PS-05</td>\n",
       "      <td>NaN</td>\n",
       "      <td>NaN</td>\n",
       "      <td>NaN</td>\n",
       "      <td>NaN</td>\n",
       "      <td>0</td>\n",
       "      <td>18</td>\n",
       "      <td>11.623115</td>\n",
       "      <td>4</td>\n",
       "      <td>0</td>\n",
       "      <td>PS</td>\n",
       "      <td>0</td>\n",
       "      <td>2</td>\n",
       "      <td>10</td>\n",
       "    </tr>\n",
       "    <tr>\n",
       "      <th>4</th>\n",
       "      <td>2014-10-01</td>\n",
       "      <td>CBD-05</td>\n",
       "      <td>NaN</td>\n",
       "      <td>NaN</td>\n",
       "      <td>NaN</td>\n",
       "      <td>NaN</td>\n",
       "      <td>0</td>\n",
       "      <td>20</td>\n",
       "      <td>9.812873</td>\n",
       "      <td>4</td>\n",
       "      <td>0</td>\n",
       "      <td>CBD</td>\n",
       "      <td>0</td>\n",
       "      <td>2</td>\n",
       "      <td>10</td>\n",
       "    </tr>\n",
       "  </tbody>\n",
       "</table>\n",
       "</div>"
      ],
      "text/plain": [
       "    datetime terminal  TEMP  CLG  PCP01  SPD  count  dockcount  elevation  \\\n",
       "0 2014-10-01   CBD-06   NaN  NaN    NaN  NaN      0         20  25.305275   \n",
       "1 2014-10-01    PS-04   NaN  NaN    NaN  NaN      0         18   8.136753   \n",
       "2 2014-10-01   CBD-07   NaN  NaN    NaN  NaN      0         18  31.532837   \n",
       "3 2014-10-01    PS-05   NaN  NaN    NaN  NaN      0         18  11.623115   \n",
       "4 2014-10-01   CBD-05   NaN  NaN    NaN  NaN      0         20   9.812873   \n",
       "\n",
       "   smallgroups  big_cluster hood  hour  dow  month  \n",
       "0            4            0  CBD     0    2     10  \n",
       "1            4            0   PS     0    2     10  \n",
       "2            4            0  CBD     0    2     10  \n",
       "3            4            0   PS     0    2     10  \n",
       "4            4            0  CBD     0    2     10  "
      ]
     },
     "execution_count": 30,
     "metadata": {},
     "output_type": "execute_result"
    }
   ],
   "source": [
    "dff.head()"
   ]
  },
  {
   "cell_type": "code",
   "execution_count": 177,
   "metadata": {
    "collapsed": false
   },
   "outputs": [],
   "source": [
    "from sklearn.ensemble import RandomForestClassifier\n",
    "from sklearn.cross_validation import cross_val_score, train_test_split\n",
    "from sklearn.grid_search import GridSearchCV, RandomizedSearchCV\n",
    "from scipy.stats import randint as sp_randint\n",
    "from sklearn.metrics import roc_curve\n",
    "from sklearn.metrics import confusion_matrix"
   ]
  },
  {
   "cell_type": "code",
   "execution_count": 295,
   "metadata": {
    "collapsed": false
   },
   "outputs": [],
   "source": [
    "df_a = df_a.ix[(df_a['hood'] != 'UW') & (df_a['hour'].isin([7,8,9,10,11,4,5,6,7])), :]\n",
    "df_r = df_a[['TEMP', 'CLG', 'PCP01', 'SPD', 'count', 'dockcount', 'elevation','hour_avg', 'month_avg', 'dow_avg','sg_avg']]"
   ]
  },
  {
   "cell_type": "code",
   "execution_count": 296,
   "metadata": {
    "collapsed": false
   },
   "outputs": [],
   "source": [
    "df_r.loc[df_r['count'] > 0, 'count'] = 1\n",
    "df_r = df_r.fillna(0)"
   ]
  },
  {
   "cell_type": "code",
   "execution_count": 297,
   "metadata": {
    "collapsed": false
   },
   "outputs": [],
   "source": [
    "y = df_r['count']\n",
    "X = df_r.drop('count', axis = 1)"
   ]
  },
  {
   "cell_type": "code",
   "execution_count": 298,
   "metadata": {
    "collapsed": false
   },
   "outputs": [],
   "source": [
    "weights = float(len(y))/(2*np.bincount(y.astype(int)))\n",
    "weights = dict(zip([0,1],weights))\n",
    "rf = RandomForestClassifier(n_jobs=-1, class_weight= weights,  n_estimators= 50, oob_score=True, criterion='entropy')\n"
   ]
  },
  {
   "cell_type": "code",
   "execution_count": 299,
   "metadata": {
    "collapsed": false
   },
   "outputs": [],
   "source": [
    "X_t, X_h,y_t, y_h = train_test_split(X,y, test_size=0.2)"
   ]
  },
  {
   "cell_type": "code",
   "execution_count": 300,
   "metadata": {
    "collapsed": false
   },
   "outputs": [],
   "source": [
    "cv = cross_val_score(rf, X_t,y_t, n_jobs=-1,cv = 3, scoring = 'roc_auc')"
   ]
  },
  {
   "cell_type": "code",
   "execution_count": 301,
   "metadata": {
    "collapsed": false
   },
   "outputs": [
    {
     "data": {
      "text/plain": [
       "0.87145635880509875"
      ]
     },
     "execution_count": 301,
     "metadata": {},
     "output_type": "execute_result"
    }
   ],
   "source": [
    "cv.mean()"
   ]
  },
  {
   "cell_type": "code",
   "execution_count": null,
   "metadata": {
    "collapsed": false
   },
   "outputs": [],
   "source": [
    "# specify parameters and distributions to sample from\n",
    "param_grid = {\"max_depth\": [3, None],\n",
    "              \"max_features\": [1, 3, 9],\n",
    "              \"min_samples_split\": [1, 3, 10],\n",
    "              \"min_samples_leaf\": [1, 3, 10],\n",
    "              \"criterion\": [\"gini\", \"entropy\"]}\n",
    "# run randomized search\n",
    "random_search = GridSearchCV(rf, param_grid=param_grid, n_jobs=-1, verbose = True)"
   ]
  },
  {
   "cell_type": "code",
   "execution_count": null,
   "metadata": {
    "collapsed": false
   },
   "outputs": [],
   "source": [
    "random_search.fit(X_t,y_t)"
   ]
  },
  {
   "cell_type": "code",
   "execution_count": null,
   "metadata": {
    "collapsed": false
   },
   "outputs": [],
   "source": [
    "rf = RandomForestClassifier(bootstrap=True,\n",
    "            class_weight={0: 0.59739085366685307, 1: 3.0669761644679721},\n",
    "            criterion='entropy', max_depth=None, max_features='auto',\n",
    "            max_leaf_nodes=None, min_samples_leaf=1, min_samples_split=2,\n",
    "            min_weight_fraction_leaf=0.0, n_estimators=50, n_jobs=-1,\n",
    "            oob_score=True, random_state=None, verbose=0, warm_start=False)"
   ]
  },
  {
   "cell_type": "code",
   "execution_count": 302,
   "metadata": {
    "collapsed": false
   },
   "outputs": [
    {
     "data": {
      "text/plain": [
       "RandomForestClassifier(bootstrap=True,\n",
       "            class_weight={0: 0.58402051843480718, 1: 3.4754636683654705},\n",
       "            criterion='entropy', max_depth=None, max_features='auto',\n",
       "            max_leaf_nodes=None, min_samples_leaf=1, min_samples_split=2,\n",
       "            min_weight_fraction_leaf=0.0, n_estimators=50, n_jobs=-1,\n",
       "            oob_score=True, random_state=None, verbose=0, warm_start=False)"
      ]
     },
     "execution_count": 302,
     "metadata": {},
     "output_type": "execute_result"
    }
   ],
   "source": [
    "rf.fit(X_t,y_t)"
   ]
  },
  {
   "cell_type": "code",
   "execution_count": 303,
   "metadata": {
    "collapsed": true
   },
   "outputs": [],
   "source": [
    "preds = rf.predict(X_h)"
   ]
  },
  {
   "cell_type": "code",
   "execution_count": 310,
   "metadata": {
    "collapsed": false
   },
   "outputs": [],
   "source": [
    "preds = pd.Series(preds)"
   ]
  },
  {
   "cell_type": "code",
   "execution_count": 305,
   "metadata": {
    "collapsed": true
   },
   "outputs": [],
   "source": [
    "preds = rf.predict_proba(X_h)[:,1]\n",
    "fpr, tpr, _ = roc_curve(y_h,preds)\n",
    "plt.plot(fpr,tpr)\n",
    "plt.show()"
   ]
  },
  {
   "cell_type": "code",
   "execution_count": 306,
   "metadata": {
    "collapsed": false
   },
   "outputs": [
    {
     "data": {
      "text/plain": [
       "array([[21014,  1680],\n",
       "       [ 1683,  2083]])"
      ]
     },
     "execution_count": 306,
     "metadata": {},
     "output_type": "execute_result"
    }
   ],
   "source": [
    "preds[preds > .35] = 1\n",
    "preds[preds <= .35] = 0\n",
    "confusion_matrix(y_h,preds)"
   ]
  },
  {
   "cell_type": "code",
   "execution_count": 311,
   "metadata": {
    "collapsed": false
   },
   "outputs": [],
   "source": [
    "#### examine where model fails\n",
    "\n",
    "index = df_a.ix[X_h.index, ['terminal','smallgroups','big_cluster','hour','dow','month','hood']]"
   ]
  },
  {
   "cell_type": "code",
   "execution_count": 312,
   "metadata": {
    "collapsed": false
   },
   "outputs": [],
   "source": [
    "df_p = pd.concat([X_h.reset_index(),preds,y_h.reset_index(), index.reset_index()], axis = 1)\n"
   ]
  },
  {
   "cell_type": "code",
   "execution_count": 313,
   "metadata": {
    "collapsed": false
   },
   "outputs": [],
   "source": [
    "df_p['correct'] = 0\n",
    "df_p.ix[df_p['count'] == df_p[0], 'correct'] = 1\n",
    "df_s = df_p.ix[df_p['count'] == 1, :] "
   ]
  },
  {
   "cell_type": "code",
   "execution_count": 314,
   "metadata": {
    "collapsed": false
   },
   "outputs": [
    {
     "data": {
      "text/plain": [
       "terminal\n",
       "BT-01     0.618644\n",
       "BT-03     0.707483\n",
       "BT-04     0.322581\n",
       "BT-05     0.473118\n",
       "CBD-03    0.307692\n",
       "CBD-04    0.000000\n",
       "CBD-05    0.663717\n",
       "CBD-06    0.138462\n",
       "CBD-07    0.122449\n",
       "CBD-13    0.481132\n",
       "CD-01     0.250000\n",
       "CH-01     0.568627\n",
       "CH-02     0.659218\n",
       "CH-03     0.735714\n",
       "CH-05     0.708075\n",
       "CH-06     0.606383\n",
       "CH-07     0.831858\n",
       "CH-08     0.764331\n",
       "CH-09     0.151515\n",
       "CH-12     0.516129\n",
       "CH-15     0.694030\n",
       "DPD-01    0.269231\n",
       "DPD-03    0.000000\n",
       "EL-01     0.000000\n",
       "EL-03     0.544118\n",
       "EL-05     0.119048\n",
       "FH-01     0.294872\n",
       "FH-04     0.800000\n",
       "ID-04     0.045455\n",
       "PS-04     0.085106\n",
       "PS-05     0.577465\n",
       "SLU-01    0.445783\n",
       "SLU-02    0.710526\n",
       "SLU-04    0.052632\n",
       "SLU-07    0.204082\n",
       "SLU-15    0.711268\n",
       "SLU-16    0.682927\n",
       "SLU-17    0.117647\n",
       "SLU-18    0.520548\n",
       "SLU-19    0.652174\n",
       "SLU-20    0.150000\n",
       "UD-01     0.200000\n",
       "UD-02     0.000000\n",
       "UD-04     0.631579\n",
       "UD-07     0.219512\n",
       "WF-01     0.507246\n",
       "WF-04     0.066667\n",
       "Name: correct, dtype: float64"
      ]
     },
     "execution_count": 314,
     "metadata": {},
     "output_type": "execute_result"
    }
   ],
   "source": [
    "df_s.groupby(['terminal'])['correct'].mean()\n"
   ]
  },
  {
   "cell_type": "code",
   "execution_count": 315,
   "metadata": {
    "collapsed": false
   },
   "outputs": [
    {
     "name": "stdout",
     "output_type": "stream",
     "text": [
      "TEMP 0.130758071482\n",
      "CLG 0.085450207658\n",
      "PCP01 0.0155823355456\n",
      "SPD 0.0948448739228\n",
      "dockcount 0.0157434811651\n",
      "elevation 0.0370093660695\n",
      "hour_avg 0.225918482019\n",
      "month_avg 0.141628198645\n",
      "dow_avg 0.151840456662\n",
      "sg_avg 0.101224526831\n"
     ]
    }
   ],
   "source": [
    "for i,j in zip(X.columns, rf.feature_importances_):\n",
    "    print i, j"
   ]
  },
  {
   "cell_type": "code",
   "execution_count": 45,
   "metadata": {
    "collapsed": false
   },
   "outputs": [],
   "source": [
    "df_t = pd.read_csv('data/cleaned/cleaned_trips.csv', parse_dates=['datetime'], infer_datetime_format=True)"
   ]
  },
  {
   "cell_type": "code",
   "execution_count": 4,
   "metadata": {
    "collapsed": true
   },
   "outputs": [],
   "source": [
    "df_w = pd.read_csv('data/cleaned/cleaned_weather.csv', parse_dates=['datetime'], infer_datetime_format=True)"
   ]
  },
  {
   "cell_type": "code",
   "execution_count": 32,
   "metadata": {
    "collapsed": false
   },
   "outputs": [],
   "source": [
    "datetimes = df_w['datetime']\n",
    "terminals = df_t['from_station_id'].unique()"
   ]
  },
  {
   "cell_type": "code",
   "execution_count": 33,
   "metadata": {
    "collapsed": false
   },
   "outputs": [
    {
     "name": "stdout",
     "output_type": "stream",
     "text": [
      "0.007196 seconds process time\n"
     ]
    }
   ],
   "source": [
    "import time\n",
    "t0 = time.clock()\n",
    "full_index = pd.MultiIndex.from_product([datetimes, terminals], names=['datetime', 'terminal'])\n",
    "print time.clock() - t0, \"seconds process time\""
   ]
  },
  {
   "cell_type": "code",
   "execution_count": 132,
   "metadata": {
    "collapsed": false
   },
   "outputs": [],
   "source": [
    "df_t['dow'] = map(lambda x: x.dayofweek, df_t['datetime'])\n",
    "df_t['month'] = map(lambda x: x.month, df_t['datetime'])\n"
   ]
  },
  {
   "cell_type": "code",
   "execution_count": 62,
   "metadata": {
    "collapsed": true
   },
   "outputs": [],
   "source": [
    "df_t['count'] = 1\n",
    "#df_t= df_t.rename(columns={'from_station_id': 'terminal'})"
   ]
  },
  {
   "cell_type": "code",
   "execution_count": 85,
   "metadata": {
    "collapsed": false
   },
   "outputs": [],
   "source": [
    "df_test = df_t.groupby(['terminal','dow','hour','month'])['count'].sum().reset_index()\n"
   ]
  },
  {
   "cell_type": "code",
   "execution_count": null,
   "metadata": {
    "collapsed": false
   },
   "outputs": [],
   "source": [
    "df_test.set_index(['datetime', 'terminal'], inplace=True)\n"
   ]
  },
  {
   "cell_type": "code",
   "execution_count": 105,
   "metadata": {
    "collapsed": false,
    "scrolled": true
   },
   "outputs": [],
   "source": [
    "df_test = df_t.groupby(['terminal','datetime'])['count'].sum().reset_index()\n"
   ]
  },
  {
   "cell_type": "code",
   "execution_count": 47,
   "metadata": {
    "collapsed": false
   },
   "outputs": [],
   "source": [
    "df_md= df_t[['dockcount_from', 'from_station_id','elevation_from', 'cluster_from', 'ecosystem_from']].drop_duplicates()\n",
    "df_md.rename(columns={'from_station_id': 'terminal','elevation_from': 'elevation', 'cluster_from': 'cluster', 'ecosystem_from': 'ecosystem', 'dockcount_from': 'dockcount'},inplace=True)\n",
    "df_ms = df_t[['dockcount_to', 'to_station_id','elevation_to', 'cluster_to', 'ecosystem_to']].drop_duplicates()\n",
    "df_ms.rename(columns={'to_station_id': 'terminal','elevation_to': 'elevation', 'cluster_to': 'cluster', 'ecosystem_to': 'ecosystem', 'dockcount_to': 'dockcount'}, inplace=True)\n"
   ]
  },
  {
   "cell_type": "code",
   "execution_count": 50,
   "metadata": {
    "collapsed": false
   },
   "outputs": [],
   "source": [
    "df = pd.DataFrame(index=full_index).reset_index()\n",
    "df = df.merge(df_d, on=['datetime','terminal'], how='left')"
   ]
  },
  {
   "cell_type": "code",
   "execution_count": 63,
   "metadata": {
    "collapsed": false
   },
   "outputs": [],
   "source": [
    "df_d = df_t.groupby(['from_station_id','datetime'])['count'].sum().reset_index()\n"
   ]
  },
  {
   "cell_type": "code",
   "execution_count": 74,
   "metadata": {
    "collapsed": false
   },
   "outputs": [],
   "source": [
    "a = df.merge(df_md, on='terminal', )"
   ]
  },
  {
   "cell_type": "code",
   "execution_count": 81,
   "metadata": {
    "collapsed": false
   },
   "outputs": [],
   "source": [
    "a.ix[a['count'].isnull(), 'count'] = 0"
   ]
  },
  {
   "cell_type": "code",
   "execution_count": 83,
   "metadata": {
    "collapsed": false
   },
   "outputs": [
    {
     "data": {
      "text/plain": [
       "0     331527\n",
       "1      43474\n",
       "2      16313\n",
       "3       5467\n",
       "4       2121\n",
       "5        760\n",
       "6        339\n",
       "7        121\n",
       "8         46\n",
       "9         22\n",
       "10        16\n",
       "11         7\n",
       "12         2\n",
       "45         1\n",
       "14         1\n",
       "13         1\n",
       "dtype: int64"
      ]
     },
     "execution_count": 83,
     "metadata": {},
     "output_type": "execute_result"
    }
   ],
   "source": []
  },
  {
   "cell_type": "code",
   "execution_count": null,
   "metadata": {
    "collapsed": true
   },
   "outputs": [],
   "source": []
  }
 ],
 "metadata": {
  "kernelspec": {
   "display_name": "Python 2",
   "language": "python",
   "name": "python2"
  },
  "language_info": {
   "codemirror_mode": {
    "name": "ipython",
    "version": 2
   },
   "file_extension": ".py",
   "mimetype": "text/x-python",
   "name": "python",
   "nbconvert_exporter": "python",
   "pygments_lexer": "ipython2",
   "version": "2.7.10"
  }
 },
 "nbformat": 4,
 "nbformat_minor": 0
}

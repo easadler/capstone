{
 "cells": [
  {
   "cell_type": "code",
   "execution_count": 1,
   "metadata": {
    "collapsed": false
   },
   "outputs": [],
   "source": [
    "import numpy as np\n",
    "import pandas as pd\n",
    "import matplotlib.pyplot as plt\n",
    "from pandas.tools.plotting import scatter_matrix\n",
    "from scipy.stats import gaussian_kde\n",
    "\n"
   ]
  },
  {
   "cell_type": "code",
   "execution_count": 2,
   "metadata": {
    "collapsed": false
   },
   "outputs": [],
   "source": [
    "df_t = pd.read_csv('data/cleaned/cleaned_trips.csv', parse_dates=['datetime'], infer_datetime_format=True)"
   ]
  },
  {
   "cell_type": "code",
   "execution_count": 103,
   "metadata": {
    "collapsed": false
   },
   "outputs": [
    {
     "data": {
      "text/plain": [
       "116268"
      ]
     },
     "execution_count": 103,
     "metadata": {},
     "output_type": "execute_result"
    }
   ],
   "source": [
    "len(df_t.ix[(df_t['tripduration'] >= 4) & (df_t['tripduration'] <= 60),:])\n",
    "len(df_t.ix[(df_t['from_station_id'] != df_t['to_station_id']) & (df_t['tripduration'] >= 4) & (df_t['tripduration'] <= 60), :])\n"
   ]
  },
  {
   "cell_type": "code",
   "execution_count": 3,
   "metadata": {
    "collapsed": false
   },
   "outputs": [
    {
     "data": {
      "text/plain": [
       "array([10, 11, 12, 13, 14, 15, 17, 19,  7,  8,  9, 16, 22, 23, 21,  0,  1,\n",
       "       20, 18,  4,  3,  2,  6,  5])"
      ]
     },
     "execution_count": 3,
     "metadata": {},
     "output_type": "execute_result"
    }
   ],
   "source": [
    "df_t['hour'].unique()"
   ]
  },
  {
   "cell_type": "code",
   "execution_count": 27,
   "metadata": {
    "collapsed": false
   },
   "outputs": [],
   "source": [
    "plt.hist(df_t['hour'], bins=50)\n",
    "plt.show()"
   ]
  },
  {
   "cell_type": "code",
   "execution_count": null,
   "metadata": {
    "collapsed": false
   },
   "outputs": [],
   "source": [
    "pd.cut(df_t['hour'],[0,6,10,15,19] , include_lowest=True, right=True)"
   ]
  },
  {
   "cell_type": "code",
   "execution_count": 28,
   "metadata": {
    "collapsed": false
   },
   "outputs": [],
   "source": [
    "#df_t['hour'] = pd.cut(df_t['hour'],[0,6,10,15,19] , include_lowest=True, right=True)"
   ]
  },
  {
   "cell_type": "code",
   "execution_count": 29,
   "metadata": {
    "collapsed": false
   },
   "outputs": [
    {
     "ename": "NameError",
     "evalue": "name 'df_w' is not defined",
     "output_type": "error",
     "traceback": [
      "\u001b[0;31m---------------------------------------------------------------------------\u001b[0m",
      "\u001b[0;31mNameError\u001b[0m                                 Traceback (most recent call last)",
      "\u001b[0;32m<ipython-input-29-cc1ad6408fe5>\u001b[0m in \u001b[0;36m<module>\u001b[0;34m()\u001b[0m\n\u001b[0;32m----> 1\u001b[0;31m \u001b[0mdf_w\u001b[0m\u001b[0;34m.\u001b[0m\u001b[0mhead\u001b[0m\u001b[0;34m(\u001b[0m\u001b[0;34m)\u001b[0m\u001b[0;34m\u001b[0m\u001b[0m\n\u001b[0m",
      "\u001b[0;31mNameError\u001b[0m: name 'df_w' is not defined"
     ]
    }
   ],
   "source": []
  },
  {
   "cell_type": "code",
   "execution_count": 15,
   "metadata": {
    "collapsed": false
   },
   "outputs": [],
   "source": [
    "eco_dict = {'Seattle': 0, 'Udist': 1, 'Outliers': -1}\n",
    "eco_list=['Seattle']\n",
    "eco_list = [eco_dict[x] for x in eco_list]"
   ]
  },
  {
   "cell_type": "code",
   "execution_count": 17,
   "metadata": {
    "collapsed": false
   },
   "outputs": [
    {
     "data": {
      "text/plain": [
       "124339"
      ]
     },
     "execution_count": 17,
     "metadata": {},
     "output_type": "execute_result"
    }
   ],
   "source": [
    "len(df_t.ix[(df_t['ecosystem_to'].isin(eco_list)) & (df_t['ecosystem_from'].isin(eco_list)),:])"
   ]
  },
  {
   "cell_type": "code",
   "execution_count": 26,
   "metadata": {
    "collapsed": false
   },
   "outputs": [
    {
     "data": {
      "text/plain": [
       "55230"
      ]
     },
     "execution_count": 26,
     "metadata": {},
     "output_type": "execute_result"
    }
   ],
   "source": [
    "usertypes=['Short-Term Pass Holder']\n",
    "df_t.ix[df_t['usertype'].isin(usertypes),:]"
   ]
  },
  {
   "cell_type": "code",
   "execution_count": 35,
   "metadata": {
    "collapsed": false
   },
   "outputs": [
    {
     "name": "stdout",
     "output_type": "stream",
     "text": [
      "['datetime', 'TEMP', 'SPD', 'PCP01', 'CLG', 'DIR', 'VSB', 'DEWP', 'SLP', 'STP']\n"
     ]
    }
   ],
   "source": [
    "print list(df_w.columns)"
   ]
  },
  {
   "cell_type": "code",
   "execution_count": 38,
   "metadata": {
    "collapsed": false
   },
   "outputs": [
    {
     "name": "stdout",
     "output_type": "stream",
     "text": [
      "<class 'pandas.core.frame.DataFrame'>\n",
      "Int64Index: 9529 entries, 0 to 9528\n",
      "Data columns (total 10 columns):\n",
      "datetime    9529 non-null datetime64[ns]\n",
      "TEMP        9529 non-null float64\n",
      "SPD         9528 non-null float64\n",
      "PCP01       9073 non-null float64\n",
      "CLG         9527 non-null float64\n",
      "DIR         8327 non-null float64\n",
      "VSB         9529 non-null float64\n",
      "DEWP        9529 non-null float64\n",
      "SLP         9528 non-null float64\n",
      "STP         9528 non-null float64\n",
      "dtypes: datetime64[ns](1), float64(9)\n",
      "memory usage: 818.9 KB\n"
     ]
    }
   ],
   "source": [
    "df_w.info()"
   ]
  },
  {
   "cell_type": "code",
   "execution_count": null,
   "metadata": {
    "collapsed": true
   },
   "outputs": [],
   "source": [
    "df_t.ix[df_t['ecosystem_to'].isin()]"
   ]
  },
  {
   "cell_type": "code",
   "execution_count": null,
   "metadata": {
    "collapsed": true
   },
   "outputs": [],
   "source": [
    "def remove_trip_outliers(df, duration=[3, 60], same=False):\n",
    "    # subset by min/max duration\n",
    "    df = df.ix[(df_t['tripduration'] >= duration[0]) & (df_t['tripduration'] <= duration[1]),:]\n",
    "    \n",
    "    #remove trips with same origin and destination\n",
    "    if same:\n",
    "        df = df.ix[df_t['from_station_id'] != df_t['to_station_id'], :]\n",
    "    return df"
   ]
  },
  {
   "cell_type": "code",
   "execution_count": 97,
   "metadata": {
    "collapsed": false
   },
   "outputs": [
    {
     "data": {
      "text/plain": [
       "141943"
      ]
     },
     "execution_count": 97,
     "metadata": {},
     "output_type": "execute_result"
    }
   ],
   "source": [
    "len(df_t)"
   ]
  },
  {
   "cell_type": "code",
   "execution_count": 30,
   "metadata": {
    "collapsed": false
   },
   "outputs": [],
   "source": [
    "df_w = pd.read_csv('data/cleaned/cleaned_weather.csv', parse_dates=['datetime'], infer_datetime_format=True)"
   ]
  },
  {
   "cell_type": "code",
   "execution_count": 70,
   "metadata": {
    "collapsed": true
   },
   "outputs": [],
   "source": [
    "df_c = pd.read_csv('data/raw/clusters.csv')"
   ]
  },
  {
   "cell_type": "code",
   "execution_count": 69,
   "metadata": {
    "collapsed": false
   },
   "outputs": [],
   "source": [
    "df_c.rename(columns={'big_cluster': 'ecosystem', 'smallgroups': 'cluster'}, inplace = True)\n",
    "df_c.to_csv('data/raw/clusters.csv', index= False)"
   ]
  },
  {
   "cell_type": "code",
   "execution_count": 104,
   "metadata": {
    "collapsed": false
   },
   "outputs": [],
   "source": [
    "# df = df_t.merge(df_c[['dockcount','elevation','cluster','ecosystem','terminal']], left_on = 'from_station_id', right_on = 'terminal',  how='left')\n",
    "# # df.drop('terminal', axis=1, inplace=True)\n",
    "# df.merge(df_c[['terminal', 'cluster', 'ecosystem']], left_on ='to_station_id', right_on='terminal', suffixes=['_from','_to'])"
   ]
  },
  {
   "cell_type": "code",
   "execution_count": null,
   "metadata": {
    "collapsed": false
   },
   "outputs": [],
   "source": []
  },
  {
   "cell_type": "code",
   "execution_count": 131,
   "metadata": {
    "collapsed": true
   },
   "outputs": [],
   "source": [
    "# Convert columns and create hour column\n",
    "#df_trips['date'] = df_trips['starttime'].str.replace('\\s.*','')\n",
    "df_trips['starttime'] = pd.to_datetime(df_trips['starttime'])"
   ]
  },
  {
   "cell_type": "code",
   "execution_count": 135,
   "metadata": {
    "collapsed": false
   },
   "outputs": [],
   "source": [
    "df_trips['tripduration'] = df_trips['tripduration'] / float(60)"
   ]
  },
  {
   "cell_type": "code",
   "execution_count": 1,
   "metadata": {
    "collapsed": false
   },
   "outputs": [
    {
     "name": "stdout",
     "output_type": "stream",
     "text": [
      "Index([u'trip_id', u'starttime', u'stoptime', u'bikeid', u'tripduration',\n",
      "       u'from_station_name', u'to_station_name', u'from_station_id',\n",
      "       u'to_station_id', u'usertype', u'gender', u'birthyear'],\n",
      "      dtype='object')\n"
     ]
    }
   ],
   "source": [
    "df_trips = df_trips.drop(['from_station_name', 'to_station_name', 'trip_id'], axis = 1)\n",
    "\n",
    "\n",
    "df_trips['hour'] = df_trips['starttime'].map(lambda x: x.hour)\n",
    "\n",
    "df_trips = df_trips.ix[(df_trips['tripduration'] > 4) & (df_trips['tripduration'] < 120) , :]\n",
    "df_trips = df_trips.ix[(df_trips['usertype'] =='Annual Member') &  (df_trips['from_station_id'] != df_trips['to_station_id']), :]\n",
    "\n",
    "# Group by to get totals per day, per hour, per station\n",
    "#df= df_trips.groupby(['date','hour','from_station_id'])['bikeid'].count().reset_index()\n",
    "\n",
    "df = df_trips\n",
    "# rename columns \n",
    "df = df.rename(columns = {'from_station_id': 'terminal', 'bikeid': 'count'})\n",
    "\n",
    "#remove pronto shop columns\n",
    "df = df.ix[~df['terminal'].isin(['UW-01','Pronto shop']),:]\n",
    "df['count'] = 1\n",
    "\n",
    "# Get list of terminals and hours\n",
    "terminals = df['terminal'].unique()\n",
    "hours = df['hour'].unique()"
   ]
  },
  {
   "cell_type": "code",
   "execution_count": 3,
   "metadata": {
    "collapsed": false
   },
   "outputs": [],
   "source": [
    "df_h = pd.read_table('../open_data_year_one/hw.txt',sep=' ', error_bad_lines= False, index_col=False)\n"
   ]
  },
  {
   "cell_type": "code",
   "execution_count": 97,
   "metadata": {
    "collapsed": false
   },
   "outputs": [
    {
     "data": {
      "text/html": [
       "<div style=\"max-height:1000px;max-width:1500px;overflow:auto;\">\n",
       "<table border=\"1\" class=\"dataframe\">\n",
       "  <thead>\n",
       "    <tr style=\"text-align: right;\">\n",
       "      <th></th>\n",
       "      <th>USAF</th>\n",
       "      <th>WBAN</th>\n",
       "      <th>YR--MODAHRMN</th>\n",
       "      <th>DIR</th>\n",
       "      <th>SPD</th>\n",
       "      <th>GUS</th>\n",
       "      <th>CLG</th>\n",
       "      <th>SKC</th>\n",
       "      <th>L</th>\n",
       "      <th>M</th>\n",
       "      <th>...</th>\n",
       "      <th>SLP</th>\n",
       "      <th>ALT</th>\n",
       "      <th>STP</th>\n",
       "      <th>MAX</th>\n",
       "      <th>MIN</th>\n",
       "      <th>PCP01</th>\n",
       "      <th>PCP06</th>\n",
       "      <th>PCP24</th>\n",
       "      <th>PCPXX</th>\n",
       "      <th>SD</th>\n",
       "    </tr>\n",
       "  </thead>\n",
       "  <tbody>\n",
       "    <tr>\n",
       "      <th>0</th>\n",
       "      <td>727930</td>\n",
       "      <td>24233</td>\n",
       "      <td>201410010000</td>\n",
       "      <td>020</td>\n",
       "      <td>8</td>\n",
       "      <td>***</td>\n",
       "      <td>***</td>\n",
       "      <td>BKN</td>\n",
       "      <td>*</td>\n",
       "      <td>*</td>\n",
       "      <td>...</td>\n",
       "      <td>1019.8</td>\n",
       "      <td>*****</td>\n",
       "      <td>1002.9</td>\n",
       "      <td>67</td>\n",
       "      <td>54</td>\n",
       "      <td>*****</td>\n",
       "      <td>*****</td>\n",
       "      <td>*****</td>\n",
       "      <td>*****</td>\n",
       "      <td>**</td>\n",
       "    </tr>\n",
       "    <tr>\n",
       "      <th>1</th>\n",
       "      <td>727930</td>\n",
       "      <td>24233</td>\n",
       "      <td>201410010053</td>\n",
       "      <td>040</td>\n",
       "      <td>8</td>\n",
       "      <td>***</td>\n",
       "      <td>722</td>\n",
       "      <td>SCT</td>\n",
       "      <td>*</td>\n",
       "      <td>*</td>\n",
       "      <td>...</td>\n",
       "      <td>1019.9</td>\n",
       "      <td>30.10</td>\n",
       "      <td>1003.5</td>\n",
       "      <td>***</td>\n",
       "      <td>***</td>\n",
       "      <td>0.00</td>\n",
       "      <td>*****</td>\n",
       "      <td>*****</td>\n",
       "      <td>*****</td>\n",
       "      <td>**</td>\n",
       "    </tr>\n",
       "    <tr>\n",
       "      <th>2</th>\n",
       "      <td>727930</td>\n",
       "      <td>24233</td>\n",
       "      <td>201410010153</td>\n",
       "      <td>080</td>\n",
       "      <td>5</td>\n",
       "      <td>***</td>\n",
       "      <td>722</td>\n",
       "      <td>SCT</td>\n",
       "      <td>*</td>\n",
       "      <td>*</td>\n",
       "      <td>...</td>\n",
       "      <td>1020.4</td>\n",
       "      <td>30.12</td>\n",
       "      <td>1004.1</td>\n",
       "      <td>***</td>\n",
       "      <td>***</td>\n",
       "      <td>0.00</td>\n",
       "      <td>*****</td>\n",
       "      <td>*****</td>\n",
       "      <td>*****</td>\n",
       "      <td>**</td>\n",
       "    </tr>\n",
       "    <tr>\n",
       "      <th>3</th>\n",
       "      <td>727930</td>\n",
       "      <td>24233</td>\n",
       "      <td>201410010253</td>\n",
       "      <td>070</td>\n",
       "      <td>6</td>\n",
       "      <td>***</td>\n",
       "      <td>75</td>\n",
       "      <td>***</td>\n",
       "      <td>*</td>\n",
       "      <td>*</td>\n",
       "      <td>...</td>\n",
       "      <td>1021.0</td>\n",
       "      <td>30.14</td>\n",
       "      <td>1004.8</td>\n",
       "      <td>***</td>\n",
       "      <td>***</td>\n",
       "      <td>0.00</td>\n",
       "      <td>*****</td>\n",
       "      <td>*****</td>\n",
       "      <td>*****</td>\n",
       "      <td>**</td>\n",
       "    </tr>\n",
       "    <tr>\n",
       "      <th>4</th>\n",
       "      <td>727930</td>\n",
       "      <td>24233</td>\n",
       "      <td>201410010353</td>\n",
       "      <td>080</td>\n",
       "      <td>8</td>\n",
       "      <td>***</td>\n",
       "      <td>80</td>\n",
       "      <td>***</td>\n",
       "      <td>*</td>\n",
       "      <td>*</td>\n",
       "      <td>...</td>\n",
       "      <td>1021.6</td>\n",
       "      <td>30.15</td>\n",
       "      <td>1005.1</td>\n",
       "      <td>***</td>\n",
       "      <td>***</td>\n",
       "      <td>0.00</td>\n",
       "      <td>*****</td>\n",
       "      <td>*****</td>\n",
       "      <td>*****</td>\n",
       "      <td>**</td>\n",
       "    </tr>\n",
       "  </tbody>\n",
       "</table>\n",
       "<p>5 rows × 33 columns</p>\n",
       "</div>"
      ],
      "text/plain": [
       "     USAF   WBAN  YR--MODAHRMN  DIR SPD  GUS  CLG  SKC  L  M ...     SLP  \\\n",
       "0  727930  24233  201410010000  020   8  ***  ***  BKN  *  * ...  1019.8   \n",
       "1  727930  24233  201410010053  040   8  ***  722  SCT  *  * ...  1019.9   \n",
       "2  727930  24233  201410010153  080   5  ***  722  SCT  *  * ...  1020.4   \n",
       "3  727930  24233  201410010253  070   6  ***   75  ***  *  * ...  1021.0   \n",
       "4  727930  24233  201410010353  080   8  ***   80  ***  *  * ...  1021.6   \n",
       "\n",
       "     ALT     STP  MAX  MIN  PCP01  PCP06  PCP24  PCPXX  SD  \n",
       "0  *****  1002.9   67   54  *****  *****  *****  *****  **  \n",
       "1  30.10  1003.5  ***  ***   0.00  *****  *****  *****  **  \n",
       "2  30.12  1004.1  ***  ***   0.00  *****  *****  *****  **  \n",
       "3  30.14  1004.8  ***  ***   0.00  *****  *****  *****  **  \n",
       "4  30.15  1005.1  ***  ***   0.00  *****  *****  *****  **  \n",
       "\n",
       "[5 rows x 33 columns]"
      ]
     },
     "execution_count": 97,
     "metadata": {},
     "output_type": "execute_result"
    }
   ],
   "source": [
    "df_h.ix[]"
   ]
  },
  {
   "cell_type": "code",
   "execution_count": 4,
   "metadata": {
    "collapsed": false
   },
   "outputs": [],
   "source": [
    "df_h = df_h.replace('\\*+|T', np.nan, regex=True)"
   ]
  },
  {
   "cell_type": "code",
   "execution_count": 40,
   "metadata": {
    "collapsed": false
   },
   "outputs": [],
   "source": [
    "df_h.ix[df_h['TEMP'] == '****', 'TEMP'] = np.nan\n",
    "df_h.ix[df_h['SPD'] == '***', 'SPD'] = np.nan\n",
    "df_h.ix[df_h['PCP01'].isin(['****','0.00T*****','0.00T','*****']), 'PCP01'] = np.nan\n",
    "df_h.ix[df_h['CLG'] == '***', 'CLG'] = np.nan"
   ]
  },
  {
   "cell_type": "code",
   "execution_count": 41,
   "metadata": {
    "collapsed": false
   },
   "outputs": [],
   "source": [
    "df_h['TEMP'] = df_h['TEMP'].astype(float)\n",
    "df_h['TEMP'].hist()\n",
    "plt.show()"
   ]
  },
  {
   "cell_type": "code",
   "execution_count": 5,
   "metadata": {
    "collapsed": false
   },
   "outputs": [
    {
     "data": {
      "text/plain": [
       "<matplotlib.axes._subplots.AxesSubplot at 0x10c614bd0>"
      ]
     },
     "execution_count": 5,
     "metadata": {},
     "output_type": "execute_result"
    }
   ],
   "source": [
    "df_h['SPD'] = df_h['SPD'].astype(float)\n",
    "df_h['SPD'].hist()\n",
    "#plt.show()"
   ]
  },
  {
   "cell_type": "code",
   "execution_count": 45,
   "metadata": {
    "collapsed": false
   },
   "outputs": [
    {
     "data": {
      "text/plain": [
       "<matplotlib.axes._subplots.AxesSubplot at 0x10ab35390>"
      ]
     },
     "execution_count": 45,
     "metadata": {},
     "output_type": "execute_result"
    }
   ],
   "source": [
    "df_h['PCP01'] =  df_h['PCP01'].astype(float)\n",
    "df_h['PCP01'].hist(bins = 100)\n",
    "#plt.show()"
   ]
  },
  {
   "cell_type": "code",
   "execution_count": 46,
   "metadata": {
    "collapsed": false
   },
   "outputs": [
    {
     "data": {
      "text/plain": [
       "<matplotlib.axes._subplots.AxesSubplot at 0x10ab35390>"
      ]
     },
     "execution_count": 46,
     "metadata": {},
     "output_type": "execute_result"
    }
   ],
   "source": [
    "df_h['CLG'] =  df_h['CLG'].astype(float)\n",
    "df_h['CLG'].hist(bins = 100)\n",
    "#plt.show()"
   ]
  },
  {
   "cell_type": "code",
   "execution_count": null,
   "metadata": {
    "collapsed": true
   },
   "outputs": [],
   "source": [
    "df_h = df_h[['TEMP','SPD','PCP01','CLG','DIR','VSB','DEWP','SLP','STP']].astype(float)"
   ]
  },
  {
   "cell_type": "code",
   "execution_count": 239,
   "metadata": {
    "collapsed": false
   },
   "outputs": [
    {
     "data": {
      "text/plain": [
       "0    201410010000\n",
       "1    201410010053\n",
       "2    201410010153\n",
       "3    201410010253\n",
       "4    201410010353\n",
       "Name: YR--MODAHRMN, dtype: int64"
      ]
     },
     "execution_count": 239,
     "metadata": {},
     "output_type": "execute_result"
    }
   ],
   "source": [
    "df_h['YR--MODAHRMN'][:5]"
   ]
  },
  {
   "cell_type": "code",
   "execution_count": 262,
   "metadata": {
    "collapsed": false
   },
   "outputs": [],
   "source": [
    "x = pd.to_datetime(df_h['YR--MODAHRMN'][:10], format='%Y%m%d%H%M')"
   ]
  },
  {
   "cell_type": "code",
   "execution_count": 290,
   "metadata": {
    "collapsed": false
   },
   "outputs": [],
   "source": [
    "def round_to_hour(x):\n",
    "    if x.minute > 30:\n",
    "        x = x.replace(minute=0)\n",
    "        x = x + pd.offsets.Hour(1)\n",
    "        \n",
    "    else:\n",
    "        x = x.replace(minute=0)\n",
    "    return x"
   ]
  },
  {
   "cell_type": "code",
   "execution_count": 291,
   "metadata": {
    "collapsed": false
   },
   "outputs": [
    {
     "data": {
      "text/plain": [
       "[Timestamp('2014-10-01 00:00:00'),\n",
       " Timestamp('2014-10-01 01:00:00'),\n",
       " Timestamp('2014-10-01 02:00:00'),\n",
       " Timestamp('2014-10-01 03:00:00'),\n",
       " Timestamp('2014-10-01 04:00:00'),\n",
       " Timestamp('2014-10-01 05:00:00'),\n",
       " Timestamp('2014-10-01 06:00:00'),\n",
       " Timestamp('2014-10-01 06:00:00'),\n",
       " Timestamp('2014-10-01 07:00:00'),\n",
       " Timestamp('2014-10-01 08:00:00')]"
      ]
     },
     "execution_count": 291,
     "metadata": {},
     "output_type": "execute_result"
    }
   ],
   "source": [
    "map(round_to_hour,x)"
   ]
  },
  {
   "cell_type": "code",
   "execution_count": 248,
   "metadata": {
    "collapsed": false
   },
   "outputs": [
    {
     "data": {
      "text/plain": [
       "DatetimeIndex([   '1970-01-01 00:03:21.410010',\n",
       "               '1970-01-01 00:03:21.410010053',\n",
       "               '1970-01-01 00:03:21.410010153',\n",
       "               '1970-01-01 00:03:21.410010253',\n",
       "               '1970-01-01 00:03:21.410010353',\n",
       "               '1970-01-01 00:03:21.410010453',\n",
       "               '1970-01-01 00:03:21.410010553',\n",
       "               '1970-01-01 00:03:21.410010600',\n",
       "               '1970-01-01 00:03:21.410010653',\n",
       "               '1970-01-01 00:03:21.410010751'],\n",
       "              dtype='datetime64[ns]', freq=None, tz=None)"
      ]
     },
     "execution_count": 248,
     "metadata": {},
     "output_type": "execute_result"
    }
   ],
   "source": [
    "round_to_hour(df_h['YR--MODAHRMN'][:10])"
   ]
  },
  {
   "cell_type": "code",
   "execution_count": 102,
   "metadata": {
    "collapsed": false
   },
   "outputs": [],
   "source": [
    "df_h['rounded_time'] =pd.to_datetime(df_h['rounded_time'], format='%Y%m%d%H%M')"
   ]
  },
  {
   "cell_type": "code",
   "execution_count": 48,
   "metadata": {
    "collapsed": false
   },
   "outputs": [],
   "source": [
    "df_h = df_h[['rounded_time','TEMP','CLG','PCP01','SPD']]"
   ]
  },
  {
   "cell_type": "code",
   "execution_count": 49,
   "metadata": {
    "collapsed": false
   },
   "outputs": [],
   "source": [
    "df_h = df_h.groupby(['rounded_time']).mean().reset_index()"
   ]
  },
  {
   "cell_type": "code",
   "execution_count": 50,
   "metadata": {
    "collapsed": false,
    "scrolled": true
   },
   "outputs": [
    {
     "data": {
      "text/html": [
       "<div style=\"max-height:1000px;max-width:1500px;overflow:auto;\">\n",
       "<table border=\"1\" class=\"dataframe\">\n",
       "  <thead>\n",
       "    <tr style=\"text-align: right;\">\n",
       "      <th></th>\n",
       "      <th>rounded_time</th>\n",
       "      <th>TEMP</th>\n",
       "      <th>CLG</th>\n",
       "      <th>PCP01</th>\n",
       "    </tr>\n",
       "  </thead>\n",
       "  <tbody>\n",
       "    <tr>\n",
       "      <th>0</th>\n",
       "      <td>201410010000</td>\n",
       "      <td>65</td>\n",
       "      <td>722</td>\n",
       "      <td>0</td>\n",
       "    </tr>\n",
       "    <tr>\n",
       "      <th>1</th>\n",
       "      <td>201410010100</td>\n",
       "      <td>62</td>\n",
       "      <td>722</td>\n",
       "      <td>0</td>\n",
       "    </tr>\n",
       "    <tr>\n",
       "      <th>2</th>\n",
       "      <td>201410010200</td>\n",
       "      <td>61</td>\n",
       "      <td>75</td>\n",
       "      <td>0</td>\n",
       "    </tr>\n",
       "    <tr>\n",
       "      <th>3</th>\n",
       "      <td>201410010300</td>\n",
       "      <td>61</td>\n",
       "      <td>80</td>\n",
       "      <td>0</td>\n",
       "    </tr>\n",
       "    <tr>\n",
       "      <th>4</th>\n",
       "      <td>201410010400</td>\n",
       "      <td>59</td>\n",
       "      <td>55</td>\n",
       "      <td>0</td>\n",
       "    </tr>\n",
       "  </tbody>\n",
       "</table>\n",
       "</div>"
      ],
      "text/plain": [
       "   rounded_time  TEMP  CLG  PCP01\n",
       "0  201410010000    65  722      0\n",
       "1  201410010100    62  722      0\n",
       "2  201410010200    61   75      0\n",
       "3  201410010300    61   80      0\n",
       "4  201410010400    59   55      0"
      ]
     },
     "execution_count": 50,
     "metadata": {},
     "output_type": "execute_result"
    }
   ],
   "source": []
  },
  {
   "cell_type": "code",
   "execution_count": 12,
   "metadata": {
    "collapsed": false
   },
   "outputs": [],
   "source": [
    "datetimes =  df_h['rounded_time']"
   ]
  },
  {
   "cell_type": "code",
   "execution_count": 13,
   "metadata": {
    "collapsed": false
   },
   "outputs": [],
   "source": [
    "# create new full index and reindex\n",
    "full_index = pd.MultiIndex.from_product([datetimes, terminals], names=['datetime', 'terminal'])"
   ]
  },
  {
   "cell_type": "code",
   "execution_count": 14,
   "metadata": {
    "collapsed": false
   },
   "outputs": [],
   "source": [
    "df_h['terminal'] = 'BT-01'\n",
    "df_h.index = [df_h.rounded_time, df_h.terminal]"
   ]
  },
  {
   "cell_type": "code",
   "execution_count": null,
   "metadata": {
    "collapsed": false
   },
   "outputs": [],
   "source": []
  },
  {
   "cell_type": "code",
   "execution_count": 15,
   "metadata": {
    "collapsed": false
   },
   "outputs": [],
   "source": [
    "df_h.drop(['terminal','rounded_time'], axis = 1, inplace = True)\n",
    "df_h = df_h.reindex(full_index)\n",
    "df_h = df_h.reset_index()\n",
    "df_h = df_h.ix[:438000,:]"
   ]
  },
  {
   "cell_type": "code",
   "execution_count": 16,
   "metadata": {
    "collapsed": false
   },
   "outputs": [],
   "source": [
    "df_h['datetime'] = df_h['datetime'].astype(str)"
   ]
  },
  {
   "cell_type": "code",
   "execution_count": 17,
   "metadata": {
    "collapsed": false
   },
   "outputs": [],
   "source": [
    "count = 0\n",
    "s = 1\n",
    "for date in df_h['datetime'].unique()[8001:]:\n",
    "    df_h.ix[df_h.datetime == date, ~df_h.columns.isin(['datetime','terminal'])] = df_h.ix[(df_h.datetime == date) & (df_h.terminal == 'BT-01'), ~df_h.columns.isin(['datetime','terminal'])].values\n",
    "    count += 1\n",
    "    if count > 1000 * s:\n",
    "        s += 1\n",
    "        print count"
   ]
  },
  {
   "cell_type": "code",
   "execution_count": 18,
   "metadata": {
    "collapsed": false
   },
   "outputs": [],
   "source": [
    "df['date'] = pd.to_datetime(df['date'])"
   ]
  },
  {
   "cell_type": "code",
   "execution_count": null,
   "metadata": {
    "collapsed": true
   },
   "outputs": [],
   "source": []
  },
  {
   "cell_type": "code",
   "execution_count": 19,
   "metadata": {
    "collapsed": false
   },
   "outputs": [],
   "source": [
    "df['datetime'] = df['date'] + map(lambda x:pd.to_timedelta(int(x), unit='h'), df.hour)"
   ]
  },
  {
   "cell_type": "code",
   "execution_count": 20,
   "metadata": {
    "collapsed": true
   },
   "outputs": [],
   "source": [
    "df_h['datetime'] = pd.to_datetime(df_h['datetime'])"
   ]
  },
  {
   "cell_type": "code",
   "execution_count": 21,
   "metadata": {
    "collapsed": true
   },
   "outputs": [],
   "source": [
    "df = df[['terminal', 'datetime', 'count']]"
   ]
  },
  {
   "cell_type": "code",
   "execution_count": 22,
   "metadata": {
    "collapsed": false
   },
   "outputs": [],
   "source": [
    "df_final = df_h.merge(df, on = ['datetime','terminal'], how = 'left')"
   ]
  },
  {
   "cell_type": "code",
   "execution_count": 23,
   "metadata": {
    "collapsed": false
   },
   "outputs": [],
   "source": [
    "df_final['count'] = df_final['count'].fillna(0)"
   ]
  },
  {
   "cell_type": "code",
   "execution_count": 24,
   "metadata": {
    "collapsed": true
   },
   "outputs": [],
   "source": [
    "df_final.to_csv('annnual_members.csv', index= False)"
   ]
  },
  {
   "cell_type": "code",
   "execution_count": 37,
   "metadata": {
    "collapsed": false
   },
   "outputs": [],
   "source": [
    "#dff = pd.read_csv('weather_count.csv')"
   ]
  },
  {
   "cell_type": "code",
   "execution_count": 1,
   "metadata": {
    "collapsed": false
   },
   "outputs": [
    {
     "ename": "NameError",
     "evalue": "name 'pd' is not defined",
     "output_type": "error",
     "traceback": [
      "\u001b[0;31m---------------------------------------------------------------------------\u001b[0m",
      "\u001b[0;31mNameError\u001b[0m                                 Traceback (most recent call last)",
      "\u001b[0;32m<ipython-input-1-ba6b6496a98a>\u001b[0m in \u001b[0;36m<module>\u001b[0;34m()\u001b[0m\n\u001b[0;32m----> 1\u001b[0;31m \u001b[0mdf_c\u001b[0m \u001b[0;34m=\u001b[0m \u001b[0mpd\u001b[0m\u001b[0;34m.\u001b[0m\u001b[0mread_csv\u001b[0m\u001b[0;34m(\u001b[0m\u001b[0;34m'../clusters.csv'\u001b[0m\u001b[0;34m)\u001b[0m\u001b[0;34m\u001b[0m\u001b[0m\n\u001b[0m",
      "\u001b[0;31mNameError\u001b[0m: name 'pd' is not defined"
     ]
    }
   ],
   "source": [
    "df_c = pd.read_csv('../clusters.csv')\n",
    "df_t.merge(df_c[['dockcount','elevation','smallgroups','big_cluster','terminal']], on = 'terminal', how='left')"
   ]
  },
  {
   "cell_type": "code",
   "execution_count": 27,
   "metadata": {
    "collapsed": true
   },
   "outputs": [],
   "source": [
    "#dff = pd.read_csv('weather_count.csv')"
   ]
  },
  {
   "cell_type": "code",
   "execution_count": 28,
   "metadata": {
    "collapsed": false
   },
   "outputs": [],
   "source": [
    "dff['datetime'] = pd.to_datetime(dff['datetime'])\n",
    "dff['hour'] = map(lambda x: x.hour, dff['datetime'])\n",
    "dff['dow'] = map(lambda x: x.dayofweek, dff['datetime'])\n",
    "dff['month'] = map(lambda x: x.month, dff['datetime'])"
   ]
  },
  {
   "cell_type": "code",
   "execution_count": 216,
   "metadata": {
    "collapsed": false
   },
   "outputs": [],
   "source": [
    "hour_average = dff.groupby(['hour','terminal'])['count'].mean().reset_index()\n",
    "hour_average.columns = ['hour','terminal', 'hour_avg']\n",
    "\n",
    "month_average = dff.groupby(['month','terminal'])['count'].mean().reset_index()\n",
    "month_average.columns = ['month','terminal', 'month_avg']\n",
    "\n",
    "dow_average = dff.groupby(['dow','terminal'])['count'].mean().reset_index()\n",
    "dow_average.columns = ['dow','terminal', 'dow_avg']\n",
    "\n",
    "sg_hour = dff.groupby(['hour','smallgroups'])['count'].mean().reset_index()\n",
    "sg_hour.columns = ['hour','smallgroups', 'sg_avg']"
   ]
  },
  {
   "cell_type": "code",
   "execution_count": 294,
   "metadata": {
    "collapsed": false
   },
   "outputs": [],
   "source": [
    "dff = dff.sort('datetime')\n",
    "df_a = dff.merge(hour_average, on = ['hour','terminal']).merge(month_average, on = ['month', 'terminal']).merge(dow_average, on =['dow','terminal']).merge(sg_hour, on =['hour','smallgroups'])"
   ]
  },
  {
   "cell_type": "code",
   "execution_count": 219,
   "metadata": {
    "collapsed": true
   },
   "outputs": [],
   "source": [
    "df_a.to_csv('BEST_DATA.csv', index = False)"
   ]
  },
  {
   "cell_type": "code",
   "execution_count": 226,
   "metadata": {
    "collapsed": false
   },
   "outputs": [],
   "source": [
    "df_a = df_a.drop('count', axis = 1)\n",
    "\n",
    "df_test = df_a.merge(df, on = ['datetime','terminal'], how = 'left')"
   ]
  },
  {
   "cell_type": "code",
   "execution_count": 234,
   "metadata": {
    "collapsed": true
   },
   "outputs": [],
   "source": [
    "df_test.to_csv('df_test.csv', index = False)"
   ]
  },
  {
   "cell_type": "code",
   "execution_count": 30,
   "metadata": {
    "collapsed": false
   },
   "outputs": [
    {
     "data": {
      "text/html": [
       "<div style=\"max-height:1000px;max-width:1500px;overflow:auto;\">\n",
       "<table border=\"1\" class=\"dataframe\">\n",
       "  <thead>\n",
       "    <tr style=\"text-align: right;\">\n",
       "      <th></th>\n",
       "      <th>datetime</th>\n",
       "      <th>terminal</th>\n",
       "      <th>TEMP</th>\n",
       "      <th>CLG</th>\n",
       "      <th>PCP01</th>\n",
       "      <th>SPD</th>\n",
       "      <th>count</th>\n",
       "      <th>dockcount</th>\n",
       "      <th>elevation</th>\n",
       "      <th>smallgroups</th>\n",
       "      <th>big_cluster</th>\n",
       "      <th>hood</th>\n",
       "      <th>hour</th>\n",
       "      <th>dow</th>\n",
       "      <th>month</th>\n",
       "    </tr>\n",
       "  </thead>\n",
       "  <tbody>\n",
       "    <tr>\n",
       "      <th>0</th>\n",
       "      <td>2014-10-01</td>\n",
       "      <td>CBD-06</td>\n",
       "      <td>NaN</td>\n",
       "      <td>NaN</td>\n",
       "      <td>NaN</td>\n",
       "      <td>NaN</td>\n",
       "      <td>0</td>\n",
       "      <td>20</td>\n",
       "      <td>25.305275</td>\n",
       "      <td>4</td>\n",
       "      <td>0</td>\n",
       "      <td>CBD</td>\n",
       "      <td>0</td>\n",
       "      <td>2</td>\n",
       "      <td>10</td>\n",
       "    </tr>\n",
       "    <tr>\n",
       "      <th>1</th>\n",
       "      <td>2014-10-01</td>\n",
       "      <td>PS-04</td>\n",
       "      <td>NaN</td>\n",
       "      <td>NaN</td>\n",
       "      <td>NaN</td>\n",
       "      <td>NaN</td>\n",
       "      <td>0</td>\n",
       "      <td>18</td>\n",
       "      <td>8.136753</td>\n",
       "      <td>4</td>\n",
       "      <td>0</td>\n",
       "      <td>PS</td>\n",
       "      <td>0</td>\n",
       "      <td>2</td>\n",
       "      <td>10</td>\n",
       "    </tr>\n",
       "    <tr>\n",
       "      <th>2</th>\n",
       "      <td>2014-10-01</td>\n",
       "      <td>CBD-07</td>\n",
       "      <td>NaN</td>\n",
       "      <td>NaN</td>\n",
       "      <td>NaN</td>\n",
       "      <td>NaN</td>\n",
       "      <td>0</td>\n",
       "      <td>18</td>\n",
       "      <td>31.532837</td>\n",
       "      <td>4</td>\n",
       "      <td>0</td>\n",
       "      <td>CBD</td>\n",
       "      <td>0</td>\n",
       "      <td>2</td>\n",
       "      <td>10</td>\n",
       "    </tr>\n",
       "    <tr>\n",
       "      <th>3</th>\n",
       "      <td>2014-10-01</td>\n",
       "      <td>PS-05</td>\n",
       "      <td>NaN</td>\n",
       "      <td>NaN</td>\n",
       "      <td>NaN</td>\n",
       "      <td>NaN</td>\n",
       "      <td>0</td>\n",
       "      <td>18</td>\n",
       "      <td>11.623115</td>\n",
       "      <td>4</td>\n",
       "      <td>0</td>\n",
       "      <td>PS</td>\n",
       "      <td>0</td>\n",
       "      <td>2</td>\n",
       "      <td>10</td>\n",
       "    </tr>\n",
       "    <tr>\n",
       "      <th>4</th>\n",
       "      <td>2014-10-01</td>\n",
       "      <td>CBD-05</td>\n",
       "      <td>NaN</td>\n",
       "      <td>NaN</td>\n",
       "      <td>NaN</td>\n",
       "      <td>NaN</td>\n",
       "      <td>0</td>\n",
       "      <td>20</td>\n",
       "      <td>9.812873</td>\n",
       "      <td>4</td>\n",
       "      <td>0</td>\n",
       "      <td>CBD</td>\n",
       "      <td>0</td>\n",
       "      <td>2</td>\n",
       "      <td>10</td>\n",
       "    </tr>\n",
       "  </tbody>\n",
       "</table>\n",
       "</div>"
      ],
      "text/plain": [
       "    datetime terminal  TEMP  CLG  PCP01  SPD  count  dockcount  elevation  \\\n",
       "0 2014-10-01   CBD-06   NaN  NaN    NaN  NaN      0         20  25.305275   \n",
       "1 2014-10-01    PS-04   NaN  NaN    NaN  NaN      0         18   8.136753   \n",
       "2 2014-10-01   CBD-07   NaN  NaN    NaN  NaN      0         18  31.532837   \n",
       "3 2014-10-01    PS-05   NaN  NaN    NaN  NaN      0         18  11.623115   \n",
       "4 2014-10-01   CBD-05   NaN  NaN    NaN  NaN      0         20   9.812873   \n",
       "\n",
       "   smallgroups  big_cluster hood  hour  dow  month  \n",
       "0            4            0  CBD     0    2     10  \n",
       "1            4            0   PS     0    2     10  \n",
       "2            4            0  CBD     0    2     10  \n",
       "3            4            0   PS     0    2     10  \n",
       "4            4            0  CBD     0    2     10  "
      ]
     },
     "execution_count": 30,
     "metadata": {},
     "output_type": "execute_result"
    }
   ],
   "source": [
    "dff.head()"
   ]
  },
  {
   "cell_type": "code",
   "execution_count": 177,
   "metadata": {
    "collapsed": false
   },
   "outputs": [],
   "source": [
    "from sklearn.ensemble import RandomForestClassifier\n",
    "from sklearn.cross_validation import cross_val_score, train_test_split\n",
    "from sklearn.grid_search import GridSearchCV, RandomizedSearchCV\n",
    "from scipy.stats import randint as sp_randint\n",
    "from sklearn.metrics import roc_curve\n",
    "from sklearn.metrics import confusion_matrix"
   ]
  },
  {
   "cell_type": "code",
   "execution_count": 295,
   "metadata": {
    "collapsed": false
   },
   "outputs": [],
   "source": [
    "df_a = df_a.ix[(df_a['hood'] != 'UW') & (df_a['hour'].isin([7,8,9,10,11,4,5,6,7])), :]\n",
    "df_r = df_a[['TEMP', 'CLG', 'PCP01', 'SPD', 'count', 'dockcount', 'elevation','hour_avg', 'month_avg', 'dow_avg','sg_avg']]"
   ]
  },
  {
   "cell_type": "code",
   "execution_count": 296,
   "metadata": {
    "collapsed": false
   },
   "outputs": [],
   "source": [
    "df_r.loc[df_r['count'] > 0, 'count'] = 1\n",
    "df_r = df_r.fillna(0)"
   ]
  },
  {
   "cell_type": "code",
   "execution_count": 297,
   "metadata": {
    "collapsed": false
   },
   "outputs": [],
   "source": [
    "y = df_r['count']\n",
    "X = df_r.drop('count', axis = 1)"
   ]
  },
  {
   "cell_type": "code",
   "execution_count": 298,
   "metadata": {
    "collapsed": false
   },
   "outputs": [],
   "source": [
    "weights = float(len(y))/(2*np.bincount(y.astype(int)))\n",
    "weights = dict(zip([0,1],weights))\n",
    "rf = RandomForestClassifier(n_jobs=-1, class_weight= weights,  n_estimators= 50, oob_score=True, criterion='entropy')\n"
   ]
  },
  {
   "cell_type": "code",
   "execution_count": 299,
   "metadata": {
    "collapsed": false
   },
   "outputs": [],
   "source": [
    "X_t, X_h,y_t, y_h = train_test_split(X,y, test_size=0.2)"
   ]
  },
  {
   "cell_type": "code",
   "execution_count": 300,
   "metadata": {
    "collapsed": false
   },
   "outputs": [],
   "source": [
    "cv = cross_val_score(rf, X_t,y_t, n_jobs=-1,cv = 3, scoring = 'roc_auc')"
   ]
  },
  {
   "cell_type": "code",
   "execution_count": 301,
   "metadata": {
    "collapsed": false
   },
   "outputs": [
    {
     "data": {
      "text/plain": [
       "0.87145635880509875"
      ]
     },
     "execution_count": 301,
     "metadata": {},
     "output_type": "execute_result"
    }
   ],
   "source": [
    "cv.mean()"
   ]
  },
  {
   "cell_type": "code",
   "execution_count": null,
   "metadata": {
    "collapsed": false
   },
   "outputs": [],
   "source": [
    "# specify parameters and distributions to sample from\n",
    "param_grid = {\"max_depth\": [3, None],\n",
    "              \"max_features\": [1, 3, 9],\n",
    "              \"min_samples_split\": [1, 3, 10],\n",
    "              \"min_samples_leaf\": [1, 3, 10],\n",
    "              \"criterion\": [\"gini\", \"entropy\"]}\n",
    "# run randomized search\n",
    "random_search = GridSearchCV(rf, param_grid=param_grid, n_jobs=-1, verbose = True)"
   ]
  },
  {
   "cell_type": "code",
   "execution_count": null,
   "metadata": {
    "collapsed": false
   },
   "outputs": [],
   "source": [
    "random_search.fit(X_t,y_t)"
   ]
  },
  {
   "cell_type": "code",
   "execution_count": null,
   "metadata": {
    "collapsed": false
   },
   "outputs": [],
   "source": [
    "rf = RandomForestClassifier(bootstrap=True,\n",
    "            class_weight={0: 0.59739085366685307, 1: 3.0669761644679721},\n",
    "            criterion='entropy', max_depth=None, max_features='auto',\n",
    "            max_leaf_nodes=None, min_samples_leaf=1, min_samples_split=2,\n",
    "            min_weight_fraction_leaf=0.0, n_estimators=50, n_jobs=-1,\n",
    "            oob_score=True, random_state=None, verbose=0, warm_start=False)"
   ]
  },
  {
   "cell_type": "code",
   "execution_count": 302,
   "metadata": {
    "collapsed": false
   },
   "outputs": [
    {
     "data": {
      "text/plain": [
       "RandomForestClassifier(bootstrap=True,\n",
       "            class_weight={0: 0.58402051843480718, 1: 3.4754636683654705},\n",
       "            criterion='entropy', max_depth=None, max_features='auto',\n",
       "            max_leaf_nodes=None, min_samples_leaf=1, min_samples_split=2,\n",
       "            min_weight_fraction_leaf=0.0, n_estimators=50, n_jobs=-1,\n",
       "            oob_score=True, random_state=None, verbose=0, warm_start=False)"
      ]
     },
     "execution_count": 302,
     "metadata": {},
     "output_type": "execute_result"
    }
   ],
   "source": [
    "rf.fit(X_t,y_t)"
   ]
  },
  {
   "cell_type": "code",
   "execution_count": 303,
   "metadata": {
    "collapsed": true
   },
   "outputs": [],
   "source": [
    "preds = rf.predict(X_h)"
   ]
  },
  {
   "cell_type": "code",
   "execution_count": 310,
   "metadata": {
    "collapsed": false
   },
   "outputs": [],
   "source": [
    "preds = pd.Series(preds)"
   ]
  },
  {
   "cell_type": "code",
   "execution_count": 305,
   "metadata": {
    "collapsed": true
   },
   "outputs": [],
   "source": [
    "preds = rf.predict_proba(X_h)[:,1]\n",
    "fpr, tpr, _ = roc_curve(y_h,preds)\n",
    "plt.plot(fpr,tpr)\n",
    "plt.show()"
   ]
  },
  {
   "cell_type": "code",
   "execution_count": 306,
   "metadata": {
    "collapsed": false
   },
   "outputs": [
    {
     "data": {
      "text/plain": [
       "array([[21014,  1680],\n",
       "       [ 1683,  2083]])"
      ]
     },
     "execution_count": 306,
     "metadata": {},
     "output_type": "execute_result"
    }
   ],
   "source": [
    "preds[preds > .35] = 1\n",
    "preds[preds <= .35] = 0\n",
    "confusion_matrix(y_h,preds)"
   ]
  },
  {
   "cell_type": "code",
   "execution_count": 311,
   "metadata": {
    "collapsed": false
   },
   "outputs": [],
   "source": [
    "#### examine where model fails\n",
    "\n",
    "index = df_a.ix[X_h.index, ['terminal','smallgroups','big_cluster','hour','dow','month','hood']]"
   ]
  },
  {
   "cell_type": "code",
   "execution_count": 312,
   "metadata": {
    "collapsed": false
   },
   "outputs": [],
   "source": [
    "df_p = pd.concat([X_h.reset_index(),preds,y_h.reset_index(), index.reset_index()], axis = 1)\n"
   ]
  },
  {
   "cell_type": "code",
   "execution_count": 313,
   "metadata": {
    "collapsed": false
   },
   "outputs": [],
   "source": [
    "df_p['correct'] = 0\n",
    "df_p.ix[df_p['count'] == df_p[0], 'correct'] = 1\n",
    "df_s = df_p.ix[df_p['count'] == 1, :] "
   ]
  },
  {
   "cell_type": "code",
   "execution_count": 314,
   "metadata": {
    "collapsed": false
   },
   "outputs": [
    {
     "data": {
      "text/plain": [
       "terminal\n",
       "BT-01     0.618644\n",
       "BT-03     0.707483\n",
       "BT-04     0.322581\n",
       "BT-05     0.473118\n",
       "CBD-03    0.307692\n",
       "CBD-04    0.000000\n",
       "CBD-05    0.663717\n",
       "CBD-06    0.138462\n",
       "CBD-07    0.122449\n",
       "CBD-13    0.481132\n",
       "CD-01     0.250000\n",
       "CH-01     0.568627\n",
       "CH-02     0.659218\n",
       "CH-03     0.735714\n",
       "CH-05     0.708075\n",
       "CH-06     0.606383\n",
       "CH-07     0.831858\n",
       "CH-08     0.764331\n",
       "CH-09     0.151515\n",
       "CH-12     0.516129\n",
       "CH-15     0.694030\n",
       "DPD-01    0.269231\n",
       "DPD-03    0.000000\n",
       "EL-01     0.000000\n",
       "EL-03     0.544118\n",
       "EL-05     0.119048\n",
       "FH-01     0.294872\n",
       "FH-04     0.800000\n",
       "ID-04     0.045455\n",
       "PS-04     0.085106\n",
       "PS-05     0.577465\n",
       "SLU-01    0.445783\n",
       "SLU-02    0.710526\n",
       "SLU-04    0.052632\n",
       "SLU-07    0.204082\n",
       "SLU-15    0.711268\n",
       "SLU-16    0.682927\n",
       "SLU-17    0.117647\n",
       "SLU-18    0.520548\n",
       "SLU-19    0.652174\n",
       "SLU-20    0.150000\n",
       "UD-01     0.200000\n",
       "UD-02     0.000000\n",
       "UD-04     0.631579\n",
       "UD-07     0.219512\n",
       "WF-01     0.507246\n",
       "WF-04     0.066667\n",
       "Name: correct, dtype: float64"
      ]
     },
     "execution_count": 314,
     "metadata": {},
     "output_type": "execute_result"
    }
   ],
   "source": [
    "df_s.groupby(['terminal'])['correct'].mean()\n"
   ]
  },
  {
   "cell_type": "code",
   "execution_count": 315,
   "metadata": {
    "collapsed": false
   },
   "outputs": [
    {
     "name": "stdout",
     "output_type": "stream",
     "text": [
      "TEMP 0.130758071482\n",
      "CLG 0.085450207658\n",
      "PCP01 0.0155823355456\n",
      "SPD 0.0948448739228\n",
      "dockcount 0.0157434811651\n",
      "elevation 0.0370093660695\n",
      "hour_avg 0.225918482019\n",
      "month_avg 0.141628198645\n",
      "dow_avg 0.151840456662\n",
      "sg_avg 0.101224526831\n"
     ]
    }
   ],
   "source": [
    "for i,j in zip(X.columns, rf.feature_importances_):\n",
    "    print i, j"
   ]
  },
  {
   "cell_type": "code",
   "execution_count": 45,
   "metadata": {
    "collapsed": false
   },
   "outputs": [],
   "source": [
    "df_t = pd.read_csv('data/cleaned/cleaned_trips.csv', parse_dates=['datetime'], infer_datetime_format=True)"
   ]
  },
  {
   "cell_type": "code",
   "execution_count": 4,
   "metadata": {
    "collapsed": true
   },
   "outputs": [],
   "source": [
    "df_w = pd.read_csv('data/cleaned/cleaned_weather.csv', parse_dates=['datetime'], infer_datetime_format=True)"
   ]
  },
  {
   "cell_type": "code",
   "execution_count": 32,
   "metadata": {
    "collapsed": false
   },
   "outputs": [],
   "source": [
    "datetimes = df_w['datetime']\n",
    "terminals = df_t['from_station_id'].unique()"
   ]
  },
  {
   "cell_type": "code",
   "execution_count": 33,
   "metadata": {
    "collapsed": false
   },
   "outputs": [
    {
     "name": "stdout",
     "output_type": "stream",
     "text": [
      "0.007196 seconds process time\n"
     ]
    }
   ],
   "source": [
    "import time\n",
    "t0 = time.clock()\n",
    "full_index = pd.MultiIndex.from_product([datetimes, terminals], names=['datetime', 'terminal'])\n",
    "print time.clock() - t0, \"seconds process time\""
   ]
  },
  {
   "cell_type": "code",
   "execution_count": 132,
   "metadata": {
    "collapsed": false
   },
   "outputs": [],
   "source": [
    "df_t['dow'] = map(lambda x: x.dayofweek, df_t['datetime'])\n",
    "df_t['month'] = map(lambda x: x.month, df_t['datetime'])\n"
   ]
  },
  {
   "cell_type": "code",
   "execution_count": 62,
   "metadata": {
    "collapsed": true
   },
   "outputs": [],
   "source": [
    "df_t['count'] = 1\n",
    "#df_t= df_t.rename(columns={'from_station_id': 'terminal'})"
   ]
  },
  {
   "cell_type": "code",
   "execution_count": 85,
   "metadata": {
    "collapsed": false
   },
   "outputs": [],
   "source": [
    "df_test = df_t.groupby(['terminal','dow','hour','month'])['count'].sum().reset_index()\n"
   ]
  },
  {
   "cell_type": "code",
   "execution_count": null,
   "metadata": {
    "collapsed": false
   },
   "outputs": [],
   "source": [
    "df_test.set_index(['datetime', 'terminal'], inplace=True)\n"
   ]
  },
  {
   "cell_type": "code",
   "execution_count": 105,
   "metadata": {
    "collapsed": false,
    "scrolled": true
   },
   "outputs": [],
   "source": [
    "df_test = df_t.groupby(['terminal','datetime'])['count'].sum().reset_index()\n"
   ]
  },
  {
   "cell_type": "code",
   "execution_count": 47,
   "metadata": {
    "collapsed": false
   },
   "outputs": [],
   "source": [
    "df_md= df_t[['dockcount_from', 'from_station_id','elevation_from', 'cluster_from', 'ecosystem_from']].drop_duplicates()\n",
    "df_md.rename(columns={'from_station_id': 'terminal','elevation_from': 'elevation', 'cluster_from': 'cluster', 'ecosystem_from': 'ecosystem', 'dockcount_from': 'dockcount'},inplace=True)\n",
    "df_ms = df_t[['dockcount_to', 'to_station_id','elevation_to', 'cluster_to', 'ecosystem_to']].drop_duplicates()\n",
    "df_ms.rename(columns={'to_station_id': 'terminal','elevation_to': 'elevation', 'cluster_to': 'cluster', 'ecosystem_to': 'ecosystem', 'dockcount_to': 'dockcount'}, inplace=True)\n"
   ]
  },
  {
   "cell_type": "code",
   "execution_count": 159,
   "metadata": {
    "collapsed": false
   },
   "outputs": [],
   "source": [
    "df = pd.DataFrame(index=full_index).reset_index()\n",
    "df = df.merge(df_d, on=['datetime','terminal'], how='left')"
   ]
  },
  {
   "cell_type": "code",
   "execution_count": 173,
   "metadata": {
    "collapsed": false
   },
   "outputs": [
    {
     "ename": "KeyError",
     "evalue": "'terminal'",
     "output_type": "error",
     "traceback": [
      "\u001b[0;31m---------------------------------------------------------------------------\u001b[0m",
      "\u001b[0;31mKeyError\u001b[0m                                  Traceback (most recent call last)",
      "\u001b[0;32m<ipython-input-173-3eea4972fb22>\u001b[0m in \u001b[0;36m<module>\u001b[0;34m()\u001b[0m\n\u001b[1;32m      2\u001b[0m \u001b[0mdf\u001b[0m\u001b[0;34m[\u001b[0m\u001b[0;34m'month'\u001b[0m\u001b[0;34m]\u001b[0m \u001b[0;34m=\u001b[0m \u001b[0mmap\u001b[0m\u001b[0;34m(\u001b[0m\u001b[0;32mlambda\u001b[0m \u001b[0mx\u001b[0m\u001b[0;34m:\u001b[0m \u001b[0mx\u001b[0m\u001b[0;34m.\u001b[0m\u001b[0mmonth\u001b[0m\u001b[0;34m,\u001b[0m \u001b[0mdf\u001b[0m\u001b[0;34m[\u001b[0m\u001b[0;34m'datetime'\u001b[0m\u001b[0;34m]\u001b[0m\u001b[0;34m)\u001b[0m\u001b[0;34m\u001b[0m\u001b[0m\n\u001b[1;32m      3\u001b[0m \u001b[0;34m\u001b[0m\u001b[0m\n\u001b[0;32m----> 4\u001b[0;31m \u001b[0mhour_average\u001b[0m \u001b[0;34m=\u001b[0m \u001b[0mdff\u001b[0m\u001b[0;34m.\u001b[0m\u001b[0mgroupby\u001b[0m\u001b[0;34m(\u001b[0m\u001b[0;34m[\u001b[0m\u001b[0;34m'hour'\u001b[0m\u001b[0;34m,\u001b[0m\u001b[0;34m'terminal'\u001b[0m\u001b[0;34m]\u001b[0m\u001b[0;34m)\u001b[0m\u001b[0;34m[\u001b[0m\u001b[0;34m'count'\u001b[0m\u001b[0;34m]\u001b[0m\u001b[0;34m.\u001b[0m\u001b[0mmean\u001b[0m\u001b[0;34m(\u001b[0m\u001b[0;34m)\u001b[0m\u001b[0;34m.\u001b[0m\u001b[0mreset_index\u001b[0m\u001b[0;34m(\u001b[0m\u001b[0;34m)\u001b[0m\u001b[0;34m\u001b[0m\u001b[0m\n\u001b[0m\u001b[1;32m      5\u001b[0m \u001b[0mhour_average\u001b[0m\u001b[0;34m.\u001b[0m\u001b[0mcolumns\u001b[0m \u001b[0;34m=\u001b[0m \u001b[0;34m[\u001b[0m\u001b[0;34m'hour'\u001b[0m\u001b[0;34m,\u001b[0m\u001b[0;34m'terminal'\u001b[0m\u001b[0;34m,\u001b[0m \u001b[0;34m'hour_avg'\u001b[0m\u001b[0;34m]\u001b[0m\u001b[0;34m\u001b[0m\u001b[0m\n\u001b[1;32m      6\u001b[0m \u001b[0;34m\u001b[0m\u001b[0m\n",
      "\u001b[0;32m/Library/Python/2.7/site-packages/pandas/core/generic.pyc\u001b[0m in \u001b[0;36mgroupby\u001b[0;34m(self, by, axis, level, as_index, sort, group_keys, squeeze)\u001b[0m\n\u001b[1;32m   3088\u001b[0m         \u001b[0maxis\u001b[0m \u001b[0;34m=\u001b[0m \u001b[0mself\u001b[0m\u001b[0;34m.\u001b[0m\u001b[0m_get_axis_number\u001b[0m\u001b[0;34m(\u001b[0m\u001b[0maxis\u001b[0m\u001b[0;34m)\u001b[0m\u001b[0;34m\u001b[0m\u001b[0m\n\u001b[1;32m   3089\u001b[0m         return groupby(self, by=by, axis=axis, level=level, as_index=as_index,\n\u001b[0;32m-> 3090\u001b[0;31m                        sort=sort, group_keys=group_keys, squeeze=squeeze)\n\u001b[0m\u001b[1;32m   3091\u001b[0m \u001b[0;34m\u001b[0m\u001b[0m\n\u001b[1;32m   3092\u001b[0m     \u001b[0;32mdef\u001b[0m \u001b[0masfreq\u001b[0m\u001b[0;34m(\u001b[0m\u001b[0mself\u001b[0m\u001b[0;34m,\u001b[0m \u001b[0mfreq\u001b[0m\u001b[0;34m,\u001b[0m \u001b[0mmethod\u001b[0m\u001b[0;34m=\u001b[0m\u001b[0mNone\u001b[0m\u001b[0;34m,\u001b[0m \u001b[0mhow\u001b[0m\u001b[0;34m=\u001b[0m\u001b[0mNone\u001b[0m\u001b[0;34m,\u001b[0m \u001b[0mnormalize\u001b[0m\u001b[0;34m=\u001b[0m\u001b[0mFalse\u001b[0m\u001b[0;34m)\u001b[0m\u001b[0;34m:\u001b[0m\u001b[0;34m\u001b[0m\u001b[0m\n",
      "\u001b[0;32m/Library/Python/2.7/site-packages/pandas/core/groupby.pyc\u001b[0m in \u001b[0;36mgroupby\u001b[0;34m(obj, by, **kwds)\u001b[0m\n\u001b[1;32m   1193\u001b[0m         \u001b[0;32mraise\u001b[0m \u001b[0mTypeError\u001b[0m\u001b[0;34m(\u001b[0m\u001b[0;34m'invalid type: %s'\u001b[0m \u001b[0;34m%\u001b[0m \u001b[0mtype\u001b[0m\u001b[0;34m(\u001b[0m\u001b[0mobj\u001b[0m\u001b[0;34m)\u001b[0m\u001b[0;34m)\u001b[0m\u001b[0;34m\u001b[0m\u001b[0m\n\u001b[1;32m   1194\u001b[0m \u001b[0;34m\u001b[0m\u001b[0m\n\u001b[0;32m-> 1195\u001b[0;31m     \u001b[0;32mreturn\u001b[0m \u001b[0mklass\u001b[0m\u001b[0;34m(\u001b[0m\u001b[0mobj\u001b[0m\u001b[0;34m,\u001b[0m \u001b[0mby\u001b[0m\u001b[0;34m,\u001b[0m \u001b[0;34m**\u001b[0m\u001b[0mkwds\u001b[0m\u001b[0;34m)\u001b[0m\u001b[0;34m\u001b[0m\u001b[0m\n\u001b[0m\u001b[1;32m   1196\u001b[0m \u001b[0;34m\u001b[0m\u001b[0m\n\u001b[1;32m   1197\u001b[0m \u001b[0;34m\u001b[0m\u001b[0m\n",
      "\u001b[0;32m/Library/Python/2.7/site-packages/pandas/core/groupby.pyc\u001b[0m in \u001b[0;36m__init__\u001b[0;34m(self, obj, keys, axis, level, grouper, exclusions, selection, as_index, sort, group_keys, squeeze)\u001b[0m\n\u001b[1;32m    386\u001b[0m         \u001b[0;32mif\u001b[0m \u001b[0mgrouper\u001b[0m \u001b[0;32mis\u001b[0m \u001b[0mNone\u001b[0m\u001b[0;34m:\u001b[0m\u001b[0;34m\u001b[0m\u001b[0m\n\u001b[1;32m    387\u001b[0m             grouper, exclusions, obj = _get_grouper(obj, keys, axis=axis,\n\u001b[0;32m--> 388\u001b[0;31m                                                     level=level, sort=sort)\n\u001b[0m\u001b[1;32m    389\u001b[0m \u001b[0;34m\u001b[0m\u001b[0m\n\u001b[1;32m    390\u001b[0m         \u001b[0mself\u001b[0m\u001b[0;34m.\u001b[0m\u001b[0mobj\u001b[0m \u001b[0;34m=\u001b[0m \u001b[0mobj\u001b[0m\u001b[0;34m\u001b[0m\u001b[0m\n",
      "\u001b[0;32m/Library/Python/2.7/site-packages/pandas/core/groupby.pyc\u001b[0m in \u001b[0;36m_get_grouper\u001b[0;34m(obj, key, axis, level, sort)\u001b[0m\n\u001b[1;32m   2140\u001b[0m \u001b[0;34m\u001b[0m\u001b[0m\n\u001b[1;32m   2141\u001b[0m         \u001b[0;32melif\u001b[0m \u001b[0mis_in_axis\u001b[0m\u001b[0;34m(\u001b[0m\u001b[0mgpr\u001b[0m\u001b[0;34m)\u001b[0m\u001b[0;34m:\u001b[0m  \u001b[0;31m# df.groupby('name')\u001b[0m\u001b[0;34m\u001b[0m\u001b[0m\n\u001b[0;32m-> 2142\u001b[0;31m             \u001b[0min_axis\u001b[0m\u001b[0;34m,\u001b[0m \u001b[0mname\u001b[0m\u001b[0;34m,\u001b[0m \u001b[0mgpr\u001b[0m \u001b[0;34m=\u001b[0m \u001b[0mTrue\u001b[0m\u001b[0;34m,\u001b[0m \u001b[0mgpr\u001b[0m\u001b[0;34m,\u001b[0m \u001b[0mobj\u001b[0m\u001b[0;34m[\u001b[0m\u001b[0mgpr\u001b[0m\u001b[0;34m]\u001b[0m\u001b[0;34m\u001b[0m\u001b[0m\n\u001b[0m\u001b[1;32m   2143\u001b[0m             \u001b[0mexclusions\u001b[0m\u001b[0;34m.\u001b[0m\u001b[0mappend\u001b[0m\u001b[0;34m(\u001b[0m\u001b[0mname\u001b[0m\u001b[0;34m)\u001b[0m\u001b[0;34m\u001b[0m\u001b[0m\n\u001b[1;32m   2144\u001b[0m \u001b[0;34m\u001b[0m\u001b[0m\n",
      "\u001b[0;32m/Library/Python/2.7/site-packages/pandas/core/frame.pyc\u001b[0m in \u001b[0;36m__getitem__\u001b[0;34m(self, key)\u001b[0m\n\u001b[1;32m   1789\u001b[0m             \u001b[0;32mreturn\u001b[0m \u001b[0mself\u001b[0m\u001b[0;34m.\u001b[0m\u001b[0m_getitem_multilevel\u001b[0m\u001b[0;34m(\u001b[0m\u001b[0mkey\u001b[0m\u001b[0;34m)\u001b[0m\u001b[0;34m\u001b[0m\u001b[0m\n\u001b[1;32m   1790\u001b[0m         \u001b[0;32melse\u001b[0m\u001b[0;34m:\u001b[0m\u001b[0;34m\u001b[0m\u001b[0m\n\u001b[0;32m-> 1791\u001b[0;31m             \u001b[0;32mreturn\u001b[0m \u001b[0mself\u001b[0m\u001b[0;34m.\u001b[0m\u001b[0m_getitem_column\u001b[0m\u001b[0;34m(\u001b[0m\u001b[0mkey\u001b[0m\u001b[0;34m)\u001b[0m\u001b[0;34m\u001b[0m\u001b[0m\n\u001b[0m\u001b[1;32m   1792\u001b[0m \u001b[0;34m\u001b[0m\u001b[0m\n\u001b[1;32m   1793\u001b[0m     \u001b[0;32mdef\u001b[0m \u001b[0m_getitem_column\u001b[0m\u001b[0;34m(\u001b[0m\u001b[0mself\u001b[0m\u001b[0;34m,\u001b[0m \u001b[0mkey\u001b[0m\u001b[0;34m)\u001b[0m\u001b[0;34m:\u001b[0m\u001b[0;34m\u001b[0m\u001b[0m\n",
      "\u001b[0;32m/Library/Python/2.7/site-packages/pandas/core/frame.pyc\u001b[0m in \u001b[0;36m_getitem_column\u001b[0;34m(self, key)\u001b[0m\n\u001b[1;32m   1796\u001b[0m         \u001b[0;31m# get column\u001b[0m\u001b[0;34m\u001b[0m\u001b[0;34m\u001b[0m\u001b[0m\n\u001b[1;32m   1797\u001b[0m         \u001b[0;32mif\u001b[0m \u001b[0mself\u001b[0m\u001b[0;34m.\u001b[0m\u001b[0mcolumns\u001b[0m\u001b[0;34m.\u001b[0m\u001b[0mis_unique\u001b[0m\u001b[0;34m:\u001b[0m\u001b[0;34m\u001b[0m\u001b[0m\n\u001b[0;32m-> 1798\u001b[0;31m             \u001b[0;32mreturn\u001b[0m \u001b[0mself\u001b[0m\u001b[0;34m.\u001b[0m\u001b[0m_get_item_cache\u001b[0m\u001b[0;34m(\u001b[0m\u001b[0mkey\u001b[0m\u001b[0;34m)\u001b[0m\u001b[0;34m\u001b[0m\u001b[0m\n\u001b[0m\u001b[1;32m   1799\u001b[0m \u001b[0;34m\u001b[0m\u001b[0m\n\u001b[1;32m   1800\u001b[0m         \u001b[0;31m# duplicate columns & possible reduce dimensionaility\u001b[0m\u001b[0;34m\u001b[0m\u001b[0;34m\u001b[0m\u001b[0m\n",
      "\u001b[0;32m/Library/Python/2.7/site-packages/pandas/core/generic.pyc\u001b[0m in \u001b[0;36m_get_item_cache\u001b[0;34m(self, item)\u001b[0m\n\u001b[1;32m   1082\u001b[0m         \u001b[0mres\u001b[0m \u001b[0;34m=\u001b[0m \u001b[0mcache\u001b[0m\u001b[0;34m.\u001b[0m\u001b[0mget\u001b[0m\u001b[0;34m(\u001b[0m\u001b[0mitem\u001b[0m\u001b[0;34m)\u001b[0m\u001b[0;34m\u001b[0m\u001b[0m\n\u001b[1;32m   1083\u001b[0m         \u001b[0;32mif\u001b[0m \u001b[0mres\u001b[0m \u001b[0;32mis\u001b[0m \u001b[0mNone\u001b[0m\u001b[0;34m:\u001b[0m\u001b[0;34m\u001b[0m\u001b[0m\n\u001b[0;32m-> 1084\u001b[0;31m             \u001b[0mvalues\u001b[0m \u001b[0;34m=\u001b[0m \u001b[0mself\u001b[0m\u001b[0;34m.\u001b[0m\u001b[0m_data\u001b[0m\u001b[0;34m.\u001b[0m\u001b[0mget\u001b[0m\u001b[0;34m(\u001b[0m\u001b[0mitem\u001b[0m\u001b[0;34m)\u001b[0m\u001b[0;34m\u001b[0m\u001b[0m\n\u001b[0m\u001b[1;32m   1085\u001b[0m             \u001b[0mres\u001b[0m \u001b[0;34m=\u001b[0m \u001b[0mself\u001b[0m\u001b[0;34m.\u001b[0m\u001b[0m_box_item_values\u001b[0m\u001b[0;34m(\u001b[0m\u001b[0mitem\u001b[0m\u001b[0;34m,\u001b[0m \u001b[0mvalues\u001b[0m\u001b[0;34m)\u001b[0m\u001b[0;34m\u001b[0m\u001b[0m\n\u001b[1;32m   1086\u001b[0m             \u001b[0mcache\u001b[0m\u001b[0;34m[\u001b[0m\u001b[0mitem\u001b[0m\u001b[0;34m]\u001b[0m \u001b[0;34m=\u001b[0m \u001b[0mres\u001b[0m\u001b[0;34m\u001b[0m\u001b[0m\n",
      "\u001b[0;32m/Library/Python/2.7/site-packages/pandas/core/internals.pyc\u001b[0m in \u001b[0;36mget\u001b[0;34m(self, item, fastpath)\u001b[0m\n\u001b[1;32m   2849\u001b[0m \u001b[0;34m\u001b[0m\u001b[0m\n\u001b[1;32m   2850\u001b[0m             \u001b[0;32mif\u001b[0m \u001b[0;32mnot\u001b[0m \u001b[0misnull\u001b[0m\u001b[0;34m(\u001b[0m\u001b[0mitem\u001b[0m\u001b[0;34m)\u001b[0m\u001b[0;34m:\u001b[0m\u001b[0;34m\u001b[0m\u001b[0m\n\u001b[0;32m-> 2851\u001b[0;31m                 \u001b[0mloc\u001b[0m \u001b[0;34m=\u001b[0m \u001b[0mself\u001b[0m\u001b[0;34m.\u001b[0m\u001b[0mitems\u001b[0m\u001b[0;34m.\u001b[0m\u001b[0mget_loc\u001b[0m\u001b[0;34m(\u001b[0m\u001b[0mitem\u001b[0m\u001b[0;34m)\u001b[0m\u001b[0;34m\u001b[0m\u001b[0m\n\u001b[0m\u001b[1;32m   2852\u001b[0m             \u001b[0;32melse\u001b[0m\u001b[0;34m:\u001b[0m\u001b[0;34m\u001b[0m\u001b[0m\n\u001b[1;32m   2853\u001b[0m                 \u001b[0mindexer\u001b[0m \u001b[0;34m=\u001b[0m \u001b[0mnp\u001b[0m\u001b[0;34m.\u001b[0m\u001b[0marange\u001b[0m\u001b[0;34m(\u001b[0m\u001b[0mlen\u001b[0m\u001b[0;34m(\u001b[0m\u001b[0mself\u001b[0m\u001b[0;34m.\u001b[0m\u001b[0mitems\u001b[0m\u001b[0;34m)\u001b[0m\u001b[0;34m)\u001b[0m\u001b[0;34m[\u001b[0m\u001b[0misnull\u001b[0m\u001b[0;34m(\u001b[0m\u001b[0mself\u001b[0m\u001b[0;34m.\u001b[0m\u001b[0mitems\u001b[0m\u001b[0;34m)\u001b[0m\u001b[0;34m]\u001b[0m\u001b[0;34m\u001b[0m\u001b[0m\n",
      "\u001b[0;32m/Library/Python/2.7/site-packages/pandas/core/index.pyc\u001b[0m in \u001b[0;36mget_loc\u001b[0;34m(self, key, method)\u001b[0m\n\u001b[1;32m   1576\u001b[0m         \"\"\"\n\u001b[1;32m   1577\u001b[0m         \u001b[0;32mif\u001b[0m \u001b[0mmethod\u001b[0m \u001b[0;32mis\u001b[0m \u001b[0mNone\u001b[0m\u001b[0;34m:\u001b[0m\u001b[0;34m\u001b[0m\u001b[0m\n\u001b[0;32m-> 1578\u001b[0;31m             \u001b[0;32mreturn\u001b[0m \u001b[0mself\u001b[0m\u001b[0;34m.\u001b[0m\u001b[0m_engine\u001b[0m\u001b[0;34m.\u001b[0m\u001b[0mget_loc\u001b[0m\u001b[0;34m(\u001b[0m\u001b[0m_values_from_object\u001b[0m\u001b[0;34m(\u001b[0m\u001b[0mkey\u001b[0m\u001b[0;34m)\u001b[0m\u001b[0;34m)\u001b[0m\u001b[0;34m\u001b[0m\u001b[0m\n\u001b[0m\u001b[1;32m   1579\u001b[0m \u001b[0;34m\u001b[0m\u001b[0m\n\u001b[1;32m   1580\u001b[0m         \u001b[0mindexer\u001b[0m \u001b[0;34m=\u001b[0m \u001b[0mself\u001b[0m\u001b[0;34m.\u001b[0m\u001b[0mget_indexer\u001b[0m\u001b[0;34m(\u001b[0m\u001b[0;34m[\u001b[0m\u001b[0mkey\u001b[0m\u001b[0;34m]\u001b[0m\u001b[0;34m,\u001b[0m \u001b[0mmethod\u001b[0m\u001b[0;34m=\u001b[0m\u001b[0mmethod\u001b[0m\u001b[0;34m)\u001b[0m\u001b[0;34m\u001b[0m\u001b[0m\n",
      "\u001b[0;32mpandas/index.pyx\u001b[0m in \u001b[0;36mpandas.index.IndexEngine.get_loc (pandas/index.c:3824)\u001b[0;34m()\u001b[0m\n",
      "\u001b[0;32mpandas/index.pyx\u001b[0m in \u001b[0;36mpandas.index.IndexEngine.get_loc (pandas/index.c:3704)\u001b[0;34m()\u001b[0m\n",
      "\u001b[0;32mpandas/hashtable.pyx\u001b[0m in \u001b[0;36mpandas.hashtable.PyObjectHashTable.get_item (pandas/hashtable.c:12349)\u001b[0;34m()\u001b[0m\n",
      "\u001b[0;32mpandas/hashtable.pyx\u001b[0m in \u001b[0;36mpandas.hashtable.PyObjectHashTable.get_item (pandas/hashtable.c:12300)\u001b[0;34m()\u001b[0m\n",
      "\u001b[0;31mKeyError\u001b[0m: 'terminal'"
     ]
    }
   ],
   "source": [
    "df['dow'] = map(lambda x: x.dayofweek, df['datetime'])\n",
    "df['month'] = map(lambda x: x.month, df['datetime'])\n",
    "\n",
    "hour_average = dff.groupby(['hour','terminal'])['count'].mean().reset_index()\n",
    "hour_average.columns = ['hour','terminal', 'hour_avg']\n",
    "\n",
    "month_average = dff.groupby(['month','terminal'])['count'].mean().reset_index()\n",
    "month_average.columns = ['month','terminal', 'month_avg']\n",
    "\n",
    "dow_average = dff.groupby(['dow','terminal'])['count'].mean().reset_index()\n",
    "dow_average.columns = ['dow','terminal', 'dow_avg']\n",
    "\n",
    "hour_average.merge(month_average, on='terminal').merge(dow_avg, on='terminal')\n"
   ]
  },
  {
   "cell_type": "code",
   "execution_count": 96,
   "metadata": {
    "collapsed": false
   },
   "outputs": [],
   "source": [
    "df_d = df_t.groupby(['from_station_id','datetime'])['count'].sum().reset_index()\n",
    "df_d.rename(columns={'from_station_id': 'terminal'}, inplace=True)\n",
    "df.ix[df['count'].isnull(), 'count'] = 0"
   ]
  },
  {
   "cell_type": "code",
   "execution_count": 101,
   "metadata": {
    "collapsed": false
   },
   "outputs": [],
   "source": [
    "hours=[0, 6, 10, 15, 19, 23]"
   ]
  },
  {
   "cell_type": "code",
   "execution_count": 160,
   "metadata": {
    "collapsed": false
   },
   "outputs": [],
   "source": [
    "df['hour'] = df['datetime'].map(lambda x: x.hour)\n",
    "df['date'] = df['datetime'].map(lambda x: x.strftime('%d-%m-%Y'))\n",
    "df['hour'] = pd.cut(df['hour'], hours, include_lowest=True, right=True, labels=['Early', 'Commute_to_work', 'Afternoon', 'Commute_from_work', 'Night'])\n",
    "df['hour'] = df['hour'].astype('str')\n",
    "dff = df.groupby(['date', 'terminal', 'hour'])['count'].sum()\n",
    "dff =dff.reset_index() "
   ]
  },
  {
   "cell_type": "code",
   "execution_count": 138,
   "metadata": {
    "collapsed": false
   },
   "outputs": [
    {
     "data": {
      "text/plain": [
       "0.53067903898719604"
      ]
     },
     "execution_count": 138,
     "metadata": {},
     "output_type": "execute_result"
    }
   ],
   "source": [
    "sum(dff['count'] == 0)/float(len(dff['count']))"
   ]
  },
  {
   "cell_type": "code",
   "execution_count": 147,
   "metadata": {
    "collapsed": false
   },
   "outputs": [],
   "source": [
    "#dff.merge(df_md, on='terminal')"
   ]
  },
  {
   "cell_type": "code",
   "execution_count": 163,
   "metadata": {
    "collapsed": true
   },
   "outputs": [],
   "source": [
    "df = df.merge(df_w, on='datetime')\n",
    "df['hour'] = df['datetime'].map(lambda x: x.hour)\n",
    "df['date'] = df['datetime'].map(lambda x: x.strftime('%d-%m-%Y'))\n",
    "df['hour'] = pd.cut(df['hour'], hours, include_lowest=True, right=True, labels=['Early', 'Commute_to_work', 'Afternoon', 'Commute_from_work', 'Night'])\n",
    "df['hour'] = df['hour'].astype('str')\n",
    "dff = df.groupby(['date', 'hour']).mean()\n",
    "dff =dff.reset_index() "
   ]
  },
  {
   "cell_type": "code",
   "execution_count": 155,
   "metadata": {
    "collapsed": false
   },
   "outputs": [],
   "source": [
    "dff = df.groupby(['date', 'hour']).mean()\n",
    "dff =dff.reset_index() "
   ]
  },
  {
   "cell_type": "code",
   "execution_count": 162,
   "metadata": {
    "collapsed": false
   },
   "outputs": [],
   "source": [
    "df1 = dff.copy()"
   ]
  },
  {
   "cell_type": "code",
   "execution_count": 179,
   "metadata": {
    "collapsed": false
   },
   "outputs": [],
   "source": [
    "df['date'] = pd.to_datetime(df['date'])\n",
    "df['dow'] = map(lambda x: x.dayofweek, df['date'])\n",
    "df['month'] = map(lambda x: x.month, df['date'])\n",
    "\n",
    "hour_average = df.groupby(['hour','terminal'])['count'].mean().reset_index()\n",
    "hour_average.columns = ['hour','terminal', 'hour_avg']\n",
    "\n",
    "month_average = df.groupby(['month','terminal'])['count'].mean().reset_index()\n",
    "month_average.columns = ['month','terminal', 'month_avg']\n",
    "\n",
    "dow_average = df.groupby(['dow','terminal'])['count'].mean().reset_index()\n",
    "dow_average.columns = ['dow','terminal', 'dow_avg']\n",
    "\n",
    "a = hour_average.merge(month_average, on='terminal').merge(dow_average, on='terminal')\n"
   ]
  },
  {
   "cell_type": "code",
   "execution_count": 192,
   "metadata": {
    "collapsed": false
   },
   "outputs": [],
   "source": [
    "a = month_average.pivot(index='month', columns='terminal', values='month_avg')"
   ]
  },
  {
   "cell_type": "code",
   "execution_count": 193,
   "metadata": {
    "collapsed": false
   },
   "outputs": [
    {
     "data": {
      "text/plain": [
       "{'BT-01': {1: 1.6973684210526316,\n",
       "  2: 1.8627450980392157,\n",
       "  3: 1.8928571428571428,\n",
       "  4: 2.133047210300429,\n",
       "  5: 2.0840336134453783,\n",
       "  6: 2.1490909090909089,\n",
       "  7: 2.4964285714285714,\n",
       "  8: 2.1677852348993287,\n",
       "  9: 2.0701754385964914,\n",
       "  10: 1.8251748251748252,\n",
       "  11: 1.78,\n",
       "  12: 1.8846153846153846},\n",
       " 'BT-03': {1: 1.5698324022346368,\n",
       "  2: 1.4545454545454546,\n",
       "  3: 1.4860335195530727,\n",
       "  4: 1.6905829596412556,\n",
       "  5: 1.7130044843049328,\n",
       "  6: 1.6175115207373272,\n",
       "  7: 1.6450216450216451,\n",
       "  8: 1.7322175732217573,\n",
       "  9: 1.6359223300970873,\n",
       "  10: 1.4438775510204083,\n",
       "  11: 1.3920454545454546,\n",
       "  12: 1.3888888888888888},\n",
       " 'BT-04': {1: 1.2307692307692308,\n",
       "  2: 1.3513513513513513,\n",
       "  3: 1.375,\n",
       "  4: 1.4102564102564104,\n",
       "  5: 1.263157894736842,\n",
       "  6: 1.4444444444444444,\n",
       "  7: 1.5538461538461539,\n",
       "  8: 1.3169014084507042,\n",
       "  9: 1.436241610738255,\n",
       "  10: 1.2671232876712328,\n",
       "  11: 1.2830188679245282,\n",
       "  12: 1.2413793103448276},\n",
       " 'BT-05': {1: 1.4459459459459461,\n",
       "  2: 1.5192307692307692,\n",
       "  3: 1.5394736842105263,\n",
       "  4: 1.6464088397790055,\n",
       "  5: 1.5080213903743316,\n",
       "  6: 1.5115207373271888,\n",
       "  7: 1.5343915343915344,\n",
       "  8: 1.5055555555555555,\n",
       "  9: 1.5664739884393064,\n",
       "  10: 1.4172185430463575,\n",
       "  11: 1.5726495726495726,\n",
       "  12: 1.3032786885245902},\n",
       " 'CBD-03': {1: 1.4024390243902438,\n",
       "  2: 1.3904109589041096,\n",
       "  3: 1.368421052631579,\n",
       "  4: 2.0,\n",
       "  5: 1.5033112582781456,\n",
       "  6: 1.5507246376811594,\n",
       "  7: 1.5776397515527951,\n",
       "  8: 1.624203821656051,\n",
       "  9: 1.4850746268656716,\n",
       "  10: 1.5212121212121212,\n",
       "  11: 1.304,\n",
       "  12: 1.3548387096774193},\n",
       " 'CBD-04': {1: 1.5555555555555556,\n",
       "  2: 2.0,\n",
       "  3: 1.5,\n",
       "  4: 1.3529411764705883,\n",
       "  5: 1.5714285714285714,\n",
       "  6: 1.2222222222222223,\n",
       "  7: 1.6388888888888888,\n",
       "  8: 1.8272727272727274,\n",
       "  9: 1.7959183673469388,\n",
       "  10: 2.0,\n",
       "  11: 2.0,\n",
       "  12: 1.3333333333333333},\n",
       " 'CBD-05': {1: 1.3274336283185841,\n",
       "  2: 1.4311926605504588,\n",
       "  3: 1.5272727272727273,\n",
       "  4: 1.6582278481012658,\n",
       "  5: 1.625,\n",
       "  6: 1.4535519125683061,\n",
       "  7: 1.5104166666666667,\n",
       "  8: 1.5925925925925926,\n",
       "  9: 1.5208333333333333,\n",
       "  10: 1.5063291139240507,\n",
       "  11: 1.5,\n",
       "  12: 1.6320754716981132},\n",
       " 'CBD-06': {1: 1.4399999999999999,\n",
       "  2: 1.4181818181818182,\n",
       "  3: 1.5594405594405594,\n",
       "  4: 1.6047904191616766,\n",
       "  5: 1.4357541899441342,\n",
       "  6: 1.6993464052287581,\n",
       "  7: 1.5854922279792747,\n",
       "  8: 1.5842105263157895,\n",
       "  9: 1.4887218045112782,\n",
       "  10: 1.5949367088607596,\n",
       "  11: 1.4482758620689655,\n",
       "  12: 1.2476190476190476},\n",
       " 'CBD-07': {1: 1.5633802816901408,\n",
       "  2: 1.4871794871794872,\n",
       "  3: 1.4230769230769231,\n",
       "  4: 1.4070796460176991,\n",
       "  5: 1.3545454545454545,\n",
       "  6: 1.6090909090909091,\n",
       "  7: 1.59375,\n",
       "  8: 1.4201680672268908,\n",
       "  9: 1.3369565217391304,\n",
       "  10: 1.4955752212389382,\n",
       "  11: 1.3150684931506849,\n",
       "  12: 1.3866666666666667},\n",
       " 'CBD-13': {1: 1.732620320855615,\n",
       "  2: 1.5233160621761659,\n",
       "  3: 1.758139534883721,\n",
       "  4: 2.0161290322580645,\n",
       "  5: 1.8835341365461848,\n",
       "  6: 1.8923076923076922,\n",
       "  7: 2.0150943396226415,\n",
       "  8: 1.8339622641509434,\n",
       "  9: 1.7623318385650224,\n",
       "  10: 1.742489270386266,\n",
       "  11: 1.6107784431137724,\n",
       "  12: 1.5389610389610389},\n",
       " 'CD-01': {1: 1.0,\n",
       "  2: 1.0833333333333333,\n",
       "  3: 1.1111111111111112,\n",
       "  4: 1.2307692307692308,\n",
       "  5: 1.2903225806451613,\n",
       "  6: 1.1632653061224489,\n",
       "  7: 1.2272727272727273,\n",
       "  8: 1.2372881355932204,\n",
       "  9: 1.0862068965517242,\n",
       "  10: 1.2307692307692308,\n",
       "  11: 1.3,\n",
       "  12: 1.2},\n",
       " 'CH-01': {1: 1.4148148148148147,\n",
       "  2: 1.4360902255639099,\n",
       "  3: 1.5731707317073171,\n",
       "  4: 1.4913294797687862,\n",
       "  5: 1.3554216867469879,\n",
       "  6: 1.4948453608247423,\n",
       "  7: 1.484375,\n",
       "  8: 1.4270833333333333,\n",
       "  9: 1.4303797468354431,\n",
       "  10: 1.4344827586206896,\n",
       "  11: 1.4105263157894736,\n",
       "  12: 1.3898305084745763},\n",
       " 'CH-02': {1: 1.4571428571428571,\n",
       "  2: 1.5769230769230769,\n",
       "  3: 1.591549295774648,\n",
       "  4: 1.596938775510204,\n",
       "  5: 1.6610878661087867,\n",
       "  6: 1.6378600823045268,\n",
       "  7: 1.5977443609022557,\n",
       "  8: 1.759090909090909,\n",
       "  9: 1.548936170212766,\n",
       "  10: 1.618421052631579,\n",
       "  11: 1.5600000000000001,\n",
       "  12: 1.3757575757575757},\n",
       " 'CH-03': {1: 1.6120689655172413,\n",
       "  2: 1.5350877192982457,\n",
       "  3: 1.7913669064748201,\n",
       "  4: 1.7753623188405796,\n",
       "  5: 1.6788990825688073,\n",
       "  6: 1.8266666666666667,\n",
       "  7: 1.7341040462427746,\n",
       "  8: 1.7972972972972974,\n",
       "  9: 1.7272727272727273,\n",
       "  10: 1.6736111111111112,\n",
       "  11: 1.6499999999999999,\n",
       "  12: 1.4489795918367347},\n",
       " 'CH-05': {1: 1.423841059602649,\n",
       "  2: 1.5661764705882353,\n",
       "  3: 1.5172413793103448,\n",
       "  4: 1.7032967032967032,\n",
       "  5: 1.6703296703296704,\n",
       "  6: 1.4869109947643979,\n",
       "  7: 1.5333333333333334,\n",
       "  8: 1.5758928571428572,\n",
       "  9: 1.6534090909090908,\n",
       "  10: 1.4540229885057472,\n",
       "  11: 1.4689655172413794,\n",
       "  12: 1.3404255319148937},\n",
       " 'CH-06': {1: 1.3658536585365855,\n",
       "  2: 1.1690140845070423,\n",
       "  3: 1.2244897959183674,\n",
       "  4: 1.2117647058823529,\n",
       "  5: 1.2678571428571428,\n",
       "  6: 1.4680851063829787,\n",
       "  7: 1.353448275862069,\n",
       "  8: 1.4757281553398058,\n",
       "  9: 1.25,\n",
       "  10: 1.3301886792452831,\n",
       "  11: 1.1911764705882353,\n",
       "  12: 1.25},\n",
       " 'CH-07': {1: 1.6350710900473933,\n",
       "  2: 1.4491978609625669,\n",
       "  3: 1.5044642857142858,\n",
       "  4: 1.642570281124498,\n",
       "  5: 1.764,\n",
       "  6: 1.588679245283019,\n",
       "  7: 1.8498293515358362,\n",
       "  8: 1.8254545454545454,\n",
       "  9: 1.6578947368421053,\n",
       "  10: 1.5732758620689655,\n",
       "  11: 1.569060773480663,\n",
       "  12: 1.553763440860215},\n",
       " 'CH-08': {1: 1.4927536231884058,\n",
       "  2: 1.5219780219780219,\n",
       "  3: 1.3590909090909091,\n",
       "  4: 1.7124999999999999,\n",
       "  5: 1.5462555066079295,\n",
       "  6: 1.6653846153846155,\n",
       "  7: 1.8098591549295775,\n",
       "  8: 1.6830985915492958,\n",
       "  9: 1.5620155038759691,\n",
       "  10: 1.5126903553299493,\n",
       "  11: 1.6712328767123288,\n",
       "  12: 1.5170068027210883},\n",
       " 'CH-09': {1: 1.3115942028985508,\n",
       "  2: 1.4420289855072463,\n",
       "  3: 1.2802547770700636,\n",
       "  4: 1.4904458598726114,\n",
       "  5: 1.4567901234567902,\n",
       "  6: 1.3223684210526316,\n",
       "  7: 1.402061855670103,\n",
       "  8: 1.4456521739130435,\n",
       "  9: 1.4871794871794872,\n",
       "  10: 1.4275862068965517,\n",
       "  11: 1.2564102564102564,\n",
       "  12: 1.3181818181818181},\n",
       " 'CH-12': {1: 1.3053435114503817,\n",
       "  2: 1.5510204081632653,\n",
       "  3: 1.5789473684210527,\n",
       "  4: 1.5476190476190477,\n",
       "  5: 1.4745762711864407,\n",
       "  6: 1.4430379746835442,\n",
       "  7: 1.6336633663366336,\n",
       "  8: 1.5685279187817258,\n",
       "  9: 1.4829545454545454,\n",
       "  10: 1.3493975903614457,\n",
       "  11: 1.3189655172413792,\n",
       "  12: 1.361904761904762},\n",
       " 'CH-15': {1: 1.3235294117647058,\n",
       "  2: 1.4845360824742269,\n",
       "  3: 1.3577981651376148,\n",
       "  4: 1.4098360655737705,\n",
       "  5: 1.8396946564885497,\n",
       "  6: 1.6687898089171975,\n",
       "  7: 1.6046511627906976,\n",
       "  8: 1.6374269005847952,\n",
       "  9: 1.8641975308641976,\n",
       "  10: 1.5,\n",
       "  11: 1.4269662921348314,\n",
       "  12: 1.4712643678160919},\n",
       " 'DPD-01': {1: 1.4369747899159664,\n",
       "  2: 1.2765957446808511,\n",
       "  3: 1.4745762711864407,\n",
       "  4: 1.536231884057971,\n",
       "  5: 1.8034188034188035,\n",
       "  6: 1.5303030303030303,\n",
       "  7: 1.5460992907801419,\n",
       "  8: 1.5909090909090908,\n",
       "  9: 1.6048387096774193,\n",
       "  10: 1.463768115942029,\n",
       "  11: 1.4285714285714286,\n",
       "  12: 1.4301075268817205},\n",
       " 'EL-01': {1: 1.2,\n",
       "  2: 1.4181818181818182,\n",
       "  3: 1.3181818181818181,\n",
       "  4: 1.5806451612903225,\n",
       "  5: 1.5833333333333333,\n",
       "  6: 1.4835164835164836,\n",
       "  7: 1.6016260162601625,\n",
       "  8: 1.6190476190476191,\n",
       "  9: 1.4505494505494505,\n",
       "  10: 1.375,\n",
       "  11: 1.2962962962962963,\n",
       "  12: 1.3833333333333333},\n",
       " 'EL-03': {1: 1.4329896907216495,\n",
       "  2: 1.696969696969697,\n",
       "  3: 1.4519230769230769,\n",
       "  4: 1.6190476190476191,\n",
       "  5: 1.7142857142857142,\n",
       "  6: 1.5789473684210527,\n",
       "  7: 1.6013986013986015,\n",
       "  8: 1.5524475524475525,\n",
       "  9: 1.6209677419354838,\n",
       "  10: 1.4903846153846154,\n",
       "  11: 1.2790697674418605,\n",
       "  12: 1.4731182795698925},\n",
       " 'FH-01': {1: 1.2211538461538463,\n",
       "  2: 1.3931623931623931,\n",
       "  3: 1.2142857142857142,\n",
       "  4: 1.3591549295774648,\n",
       "  5: 1.2671755725190839,\n",
       "  6: 1.2992125984251968,\n",
       "  7: 1.28125,\n",
       "  8: 1.3388429752066116,\n",
       "  9: 1.2250000000000001,\n",
       "  10: 1.353448275862069,\n",
       "  11: 1.3100000000000001,\n",
       "  12: 1.1517857142857142},\n",
       " 'FH-04': {1: 1.2738095238095237,\n",
       "  2: 1.3146067415730338,\n",
       "  3: 1.2688172043010753,\n",
       "  4: 1.3689320388349515,\n",
       "  5: 1.3163265306122449,\n",
       "  6: 1.5588235294117647,\n",
       "  7: 1.4676258992805755,\n",
       "  8: 1.4146341463414633,\n",
       "  9: 1.3576158940397351,\n",
       "  10: 1.3109243697478992,\n",
       "  11: 1.3076923076923077,\n",
       "  12: 1.25},\n",
       " 'ID-04': {1: 1.3396226415094339,\n",
       "  2: 1.4776119402985075,\n",
       "  3: 1.3818181818181818,\n",
       "  4: 1.6714285714285715,\n",
       "  5: 1.5076923076923077,\n",
       "  6: 1.4408602150537635,\n",
       "  7: 1.5,\n",
       "  8: 1.5194805194805194,\n",
       "  9: 1.5285714285714285,\n",
       "  10: 1.4204545454545454,\n",
       "  11: 1.3898305084745763,\n",
       "  12: 1.6981132075471699},\n",
       " 'PS-04': {1: 1.5940594059405941,\n",
       "  2: 1.5377358490566038,\n",
       "  3: 1.5600000000000001,\n",
       "  4: 1.6546762589928057,\n",
       "  5: 1.6418918918918919,\n",
       "  6: 1.6503496503496504,\n",
       "  7: 1.624203821656051,\n",
       "  8: 1.8116883116883118,\n",
       "  9: 1.5423728813559323,\n",
       "  10: 1.9370629370629371,\n",
       "  11: 1.5106382978723405,\n",
       "  12: 1.5252525252525253},\n",
       " 'PS-05': {1: 1.5694444444444444,\n",
       "  2: 1.3285714285714285,\n",
       "  3: 1.3888888888888888,\n",
       "  4: 1.5377358490566038,\n",
       "  5: 1.6036036036036037,\n",
       "  6: 1.4818181818181819,\n",
       "  7: 1.6594202898550725,\n",
       "  8: 1.5234375,\n",
       "  9: 1.3,\n",
       "  10: 1.3181818181818181,\n",
       "  11: 1.352112676056338,\n",
       "  12: 1.5660377358490567},\n",
       " 'SLU-01': {1: 1.5766129032258065,\n",
       "  2: 1.393939393939394,\n",
       "  3: 1.3282051282051281,\n",
       "  4: 1.4700854700854702,\n",
       "  5: 1.5339366515837105,\n",
       "  6: 1.6322869955156951,\n",
       "  7: 1.7621145374449338,\n",
       "  8: 1.5550847457627119,\n",
       "  9: 1.4666666666666666,\n",
       "  10: 1.5742574257425743,\n",
       "  11: 1.5856353591160222,\n",
       "  12: 1.554945054945055},\n",
       " 'SLU-02': {1: 1.3596491228070176,\n",
       "  2: 1.4485981308411215,\n",
       "  3: 1.4083333333333334,\n",
       "  4: 1.6282051282051282,\n",
       "  5: 1.5133689839572193,\n",
       "  6: 1.5945945945945945,\n",
       "  7: 1.7065217391304348,\n",
       "  8: 1.6818181818181819,\n",
       "  9: 1.8074074074074074,\n",
       "  10: 1.318840579710145,\n",
       "  11: 1.4436090225563909,\n",
       "  12: 1.3423423423423424},\n",
       " 'SLU-04': {1: 1.5111111111111111,\n",
       "  2: 1.4210526315789473,\n",
       "  3: 1.5354330708661417,\n",
       "  4: 1.6442953020134228,\n",
       "  5: 1.7318840579710144,\n",
       "  6: 1.7533333333333334,\n",
       "  7: 1.7572254335260116,\n",
       "  8: 1.6184971098265897,\n",
       "  9: 1.5751633986928104,\n",
       "  10: 1.5472972972972974,\n",
       "  11: 1.4728682170542635,\n",
       "  12: 1.336283185840708},\n",
       " 'SLU-07': {1: 1.5128205128205128,\n",
       "  2: 1.4842767295597483,\n",
       "  3: 1.5911949685534592,\n",
       "  4: 1.6847826086956521,\n",
       "  5: 1.5297297297297296,\n",
       "  6: 1.7431693989071038,\n",
       "  7: 1.4761904761904763,\n",
       "  8: 1.6616915422885572,\n",
       "  9: 1.5025641025641026,\n",
       "  10: 1.5294117647058822,\n",
       "  11: 1.5517241379310345,\n",
       "  12: 1.5},\n",
       " 'SLU-15': {1: 1.6096256684491979,\n",
       "  2: 1.569767441860465,\n",
       "  3: 1.7095238095238094,\n",
       "  4: 1.7933884297520661,\n",
       "  5: 1.8712121212121211,\n",
       "  6: 1.8087649402390438,\n",
       "  7: 1.8682170542635659,\n",
       "  8: 1.7795275590551181,\n",
       "  9: 1.7734806629834254,\n",
       "  10: 1.693069306930693,\n",
       "  11: 1.6184971098265897,\n",
       "  12: 1.4615384615384615},\n",
       " 'SLU-16': {1: 1.3803680981595092,\n",
       "  2: 1.5657894736842106,\n",
       "  3: 1.4573991031390134,\n",
       "  4: 1.8122448979591836,\n",
       "  5: 1.5729729729729729,\n",
       "  6: 1.4555555555555555,\n",
       "  7: 1.5586854460093897,\n",
       "  8: 1.5260416666666667,\n",
       "  9: 1.5515151515151515,\n",
       "  10: 1.4573643410852712,\n",
       "  11: 1.3775510204081634,\n",
       "  12: 1.4375},\n",
       " 'SLU-17': {1: 1.5538461538461539,\n",
       "  2: 1.4426229508196722,\n",
       "  3: 1.5205479452054795,\n",
       "  4: 1.9607843137254901,\n",
       "  5: 1.7777777777777777,\n",
       "  6: 1.7982456140350878,\n",
       "  7: 1.6642335766423357,\n",
       "  8: 1.5172413793103448,\n",
       "  9: 1.6914893617021276,\n",
       "  10: 1.7051282051282051,\n",
       "  11: 1.6862745098039216,\n",
       "  12: 1.540983606557377},\n",
       " 'SLU-18': {1: 1.3956043956043955,\n",
       "  2: 1.3063063063063063,\n",
       "  3: 1.4700854700854702,\n",
       "  4: 1.4429530201342282,\n",
       "  5: 1.661764705882353,\n",
       "  6: 1.4838709677419355,\n",
       "  7: 1.4393939393939394,\n",
       "  8: 1.4179104477611941,\n",
       "  9: 1.5423728813559323,\n",
       "  10: 1.3545454545454545,\n",
       "  11: 1.3714285714285714,\n",
       "  12: 1.4183673469387754},\n",
       " 'SLU-19': {1: 1.3049645390070923,\n",
       "  2: 1.5609756097560976,\n",
       "  3: 1.4523809523809523,\n",
       "  4: 1.6734693877551021,\n",
       "  5: 1.7487684729064039,\n",
       "  6: 1.6351351351351351,\n",
       "  7: 1.5381165919282511,\n",
       "  8: 1.7,\n",
       "  9: 1.5815217391304348,\n",
       "  10: 1.5179856115107915,\n",
       "  11: 1.4793388429752066,\n",
       "  12: 1.5585585585585586},\n",
       " 'SLU-20': {1: 1.25,\n",
       "  2: 1.25,\n",
       "  3: 1.1499999999999999,\n",
       "  4: 1.8421052631578947,\n",
       "  5: 1.2352941176470589,\n",
       "  6: 1.3506493506493507,\n",
       "  7: 1.4851485148514851,\n",
       "  8: 1.319327731092437,\n",
       "  9: 1.3984962406015038,\n",
       "  10: 1.1363636363636365,\n",
       "  11: 1.2857142857142858,\n",
       "  12: 1.3999999999999999},\n",
       " 'SLU-21': {1: 1.0,\n",
       "  2: 1.0,\n",
       "  3: 1.5,\n",
       "  4: 1.0,\n",
       "  5: 1.0,\n",
       "  6: 1.0,\n",
       "  7: 1.0,\n",
       "  8: 2.0,\n",
       "  9: 1.5333333333333334,\n",
       "  10: 1.5,\n",
       "  11: 2.0,\n",
       "  12: 1.6000000000000001},\n",
       " 'WF-01': {1: 1.7,\n",
       "  2: 1.8373983739837398,\n",
       "  3: 1.8926174496644295,\n",
       "  4: 2.0154639175257731,\n",
       "  5: 2.0975609756097562,\n",
       "  6: 1.9660194174757282,\n",
       "  7: 2.1513761467889907,\n",
       "  8: 1.9466019417475728,\n",
       "  9: 2.0894736842105264,\n",
       "  10: 1.7430555555555556,\n",
       "  11: 1.9081632653061225,\n",
       "  12: 1.8080808080808082},\n",
       " 'WF-04': {1: 1.7916666666666667,\n",
       "  2: 2.0,\n",
       "  3: 1.787037037037037,\n",
       "  4: 2.0245901639344264,\n",
       "  5: 2.019047619047619,\n",
       "  6: 2.0,\n",
       "  7: 1.9516129032258065,\n",
       "  8: 1.8396946564885497,\n",
       "  9: 1.8762886597938144,\n",
       "  10: 1.7124999999999999,\n",
       "  11: 1.7058823529411764,\n",
       "  12: 1.7808219178082192}}"
      ]
     },
     "execution_count": 193,
     "metadata": {},
     "output_type": "execute_result"
    }
   ],
   "source": [
    "a.to_dict()"
   ]
  },
  {
   "cell_type": "code",
   "execution_count": 199,
   "metadata": {
    "collapsed": false
   },
   "outputs": [],
   "source": [
    "df_d = pd.read_csv('data/final/demand_all_features.csv', parse_dates=['date'], infer_datetime_format=True)\n"
   ]
  },
  {
   "cell_type": "code",
   "execution_count": 201,
   "metadata": {
    "collapsed": false
   },
   "outputs": [
    {
     "data": {
      "text/html": [
       "<div style=\"max-height:1000px;max-width:1500px;overflow:auto;\">\n",
       "<table border=\"1\" class=\"dataframe\">\n",
       "  <thead>\n",
       "    <tr style=\"text-align: right;\">\n",
       "      <th></th>\n",
       "      <th>date</th>\n",
       "      <th>terminal</th>\n",
       "      <th>hour</th>\n",
       "      <th>count</th>\n",
       "      <th>TEMP</th>\n",
       "      <th>SPD</th>\n",
       "      <th>PCP01</th>\n",
       "      <th>CLG</th>\n",
       "      <th>VSB</th>\n",
       "      <th>DEWP</th>\n",
       "      <th>SLP</th>\n",
       "      <th>STP</th>\n",
       "      <th>dockcount</th>\n",
       "      <th>elevation</th>\n",
       "      <th>cluster</th>\n",
       "      <th>ecosystem</th>\n",
       "    </tr>\n",
       "  </thead>\n",
       "  <tbody>\n",
       "    <tr>\n",
       "      <th>0</th>\n",
       "      <td>2015-01-01</td>\n",
       "      <td>BT-01</td>\n",
       "      <td>Afternoon</td>\n",
       "      <td>6</td>\n",
       "      <td>29.000000</td>\n",
       "      <td>2.800000</td>\n",
       "      <td>0.000000</td>\n",
       "      <td>722.000000</td>\n",
       "      <td>10.000000</td>\n",
       "      <td>22.000000</td>\n",
       "      <td>1028.520000</td>\n",
       "      <td>1011.500000</td>\n",
       "      <td>18</td>\n",
       "      <td>37.351780</td>\n",
       "      <td>5</td>\n",
       "      <td>0</td>\n",
       "    </tr>\n",
       "    <tr>\n",
       "      <th>1</th>\n",
       "      <td>2015-01-01</td>\n",
       "      <td>BT-01</td>\n",
       "      <td>Commute_from_work</td>\n",
       "      <td>1</td>\n",
       "      <td>31.500000</td>\n",
       "      <td>0.750000</td>\n",
       "      <td>0.000000</td>\n",
       "      <td>722.000000</td>\n",
       "      <td>10.000000</td>\n",
       "      <td>23.000000</td>\n",
       "      <td>1028.000000</td>\n",
       "      <td>1010.925000</td>\n",
       "      <td>18</td>\n",
       "      <td>37.351780</td>\n",
       "      <td>5</td>\n",
       "      <td>0</td>\n",
       "    </tr>\n",
       "    <tr>\n",
       "      <th>2</th>\n",
       "      <td>2015-01-01</td>\n",
       "      <td>BT-01</td>\n",
       "      <td>Commute_to_work</td>\n",
       "      <td>0</td>\n",
       "      <td>30.500000</td>\n",
       "      <td>7.500000</td>\n",
       "      <td>0.000000</td>\n",
       "      <td>722.000000</td>\n",
       "      <td>10.000000</td>\n",
       "      <td>22.500000</td>\n",
       "      <td>1030.600000</td>\n",
       "      <td>1013.575000</td>\n",
       "      <td>18</td>\n",
       "      <td>37.351780</td>\n",
       "      <td>5</td>\n",
       "      <td>0</td>\n",
       "    </tr>\n",
       "    <tr>\n",
       "      <th>3</th>\n",
       "      <td>2015-01-01</td>\n",
       "      <td>BT-01</td>\n",
       "      <td>Early</td>\n",
       "      <td>0</td>\n",
       "      <td>33.571429</td>\n",
       "      <td>9.285714</td>\n",
       "      <td>0.000000</td>\n",
       "      <td>722.000000</td>\n",
       "      <td>10.000000</td>\n",
       "      <td>21.285714</td>\n",
       "      <td>1032.942857</td>\n",
       "      <td>1015.850000</td>\n",
       "      <td>18</td>\n",
       "      <td>37.351780</td>\n",
       "      <td>5</td>\n",
       "      <td>0</td>\n",
       "    </tr>\n",
       "    <tr>\n",
       "      <th>4</th>\n",
       "      <td>2015-01-01</td>\n",
       "      <td>BT-01</td>\n",
       "      <td>Night</td>\n",
       "      <td>5</td>\n",
       "      <td>40.250000</td>\n",
       "      <td>3.750000</td>\n",
       "      <td>0.000000</td>\n",
       "      <td>722.000000</td>\n",
       "      <td>10.000000</td>\n",
       "      <td>23.000000</td>\n",
       "      <td>1026.125000</td>\n",
       "      <td>1009.225000</td>\n",
       "      <td>18</td>\n",
       "      <td>37.351780</td>\n",
       "      <td>5</td>\n",
       "      <td>0</td>\n",
       "    </tr>\n",
       "    <tr>\n",
       "      <th>5</th>\n",
       "      <td>2015-01-02</td>\n",
       "      <td>BT-01</td>\n",
       "      <td>Afternoon</td>\n",
       "      <td>4</td>\n",
       "      <td>41.400000</td>\n",
       "      <td>4.800000</td>\n",
       "      <td>0.000000</td>\n",
       "      <td>61.600000</td>\n",
       "      <td>3.960000</td>\n",
       "      <td>40.100000</td>\n",
       "      <td>1018.860000</td>\n",
       "      <td>1002.100000</td>\n",
       "      <td>18</td>\n",
       "      <td>37.351780</td>\n",
       "      <td>5</td>\n",
       "      <td>0</td>\n",
       "    </tr>\n",
       "    <tr>\n",
       "      <th>6</th>\n",
       "      <td>2015-01-02</td>\n",
       "      <td>BT-01</td>\n",
       "      <td>Commute_from_work</td>\n",
       "      <td>0</td>\n",
       "      <td>43.250000</td>\n",
       "      <td>5.875000</td>\n",
       "      <td>0.010000</td>\n",
       "      <td>52.750000</td>\n",
       "      <td>6.000000</td>\n",
       "      <td>40.375000</td>\n",
       "      <td>1018.275000</td>\n",
       "      <td>1001.625000</td>\n",
       "      <td>18</td>\n",
       "      <td>37.351780</td>\n",
       "      <td>5</td>\n",
       "      <td>0</td>\n",
       "    </tr>\n",
       "    <tr>\n",
       "      <th>7</th>\n",
       "      <td>2015-01-02</td>\n",
       "      <td>BT-01</td>\n",
       "      <td>Commute_to_work</td>\n",
       "      <td>0</td>\n",
       "      <td>42.250000</td>\n",
       "      <td>3.250000</td>\n",
       "      <td>0.000000</td>\n",
       "      <td>268.000000</td>\n",
       "      <td>7.000000</td>\n",
       "      <td>39.500000</td>\n",
       "      <td>1019.775000</td>\n",
       "      <td>1003.225000</td>\n",
       "      <td>18</td>\n",
       "      <td>37.351780</td>\n",
       "      <td>5</td>\n",
       "      <td>0</td>\n",
       "    </tr>\n",
       "    <tr>\n",
       "      <th>8</th>\n",
       "      <td>2015-01-02</td>\n",
       "      <td>BT-01</td>\n",
       "      <td>Early</td>\n",
       "      <td>1</td>\n",
       "      <td>43.142857</td>\n",
       "      <td>4.000000</td>\n",
       "      <td>0.000000</td>\n",
       "      <td>34.857143</td>\n",
       "      <td>6.557143</td>\n",
       "      <td>39.571429</td>\n",
       "      <td>1021.942857</td>\n",
       "      <td>1005.142857</td>\n",
       "      <td>18</td>\n",
       "      <td>37.351780</td>\n",
       "      <td>5</td>\n",
       "      <td>0</td>\n",
       "    </tr>\n",
       "    <tr>\n",
       "      <th>9</th>\n",
       "      <td>2015-01-02</td>\n",
       "      <td>BT-01</td>\n",
       "      <td>Night</td>\n",
       "      <td>0</td>\n",
       "      <td>44.500000</td>\n",
       "      <td>5.500000</td>\n",
       "      <td>0.010000</td>\n",
       "      <td>8.750000</td>\n",
       "      <td>5.725000</td>\n",
       "      <td>41.875000</td>\n",
       "      <td>1018.250000</td>\n",
       "      <td>1001.650000</td>\n",
       "      <td>18</td>\n",
       "      <td>37.351780</td>\n",
       "      <td>5</td>\n",
       "      <td>0</td>\n",
       "    </tr>\n",
       "    <tr>\n",
       "      <th>10</th>\n",
       "      <td>2015-01-03</td>\n",
       "      <td>BT-01</td>\n",
       "      <td>Afternoon</td>\n",
       "      <td>0</td>\n",
       "      <td>36.000000</td>\n",
       "      <td>5.000000</td>\n",
       "      <td>0.000000</td>\n",
       "      <td>722.000000</td>\n",
       "      <td>10.000000</td>\n",
       "      <td>28.600000</td>\n",
       "      <td>1024.620000</td>\n",
       "      <td>1007.870000</td>\n",
       "      <td>18</td>\n",
       "      <td>37.351780</td>\n",
       "      <td>5</td>\n",
       "      <td>0</td>\n",
       "    </tr>\n",
       "    <tr>\n",
       "      <th>11</th>\n",
       "      <td>2015-01-03</td>\n",
       "      <td>BT-01</td>\n",
       "      <td>Commute_from_work</td>\n",
       "      <td>3</td>\n",
       "      <td>43.250000</td>\n",
       "      <td>5.000000</td>\n",
       "      <td>0.000000</td>\n",
       "      <td>722.000000</td>\n",
       "      <td>10.000000</td>\n",
       "      <td>29.500000</td>\n",
       "      <td>1023.950000</td>\n",
       "      <td>1007.237500</td>\n",
       "      <td>18</td>\n",
       "      <td>37.351780</td>\n",
       "      <td>5</td>\n",
       "      <td>0</td>\n",
       "    </tr>\n",
       "    <tr>\n",
       "      <th>12</th>\n",
       "      <td>2015-01-03</td>\n",
       "      <td>BT-01</td>\n",
       "      <td>Commute_to_work</td>\n",
       "      <td>1</td>\n",
       "      <td>40.000000</td>\n",
       "      <td>4.500000</td>\n",
       "      <td>0.000000</td>\n",
       "      <td>722.000000</td>\n",
       "      <td>10.000000</td>\n",
       "      <td>27.750000</td>\n",
       "      <td>1024.925000</td>\n",
       "      <td>1008.300000</td>\n",
       "      <td>18</td>\n",
       "      <td>37.351780</td>\n",
       "      <td>5</td>\n",
       "      <td>0</td>\n",
       "    </tr>\n",
       "    <tr>\n",
       "      <th>13</th>\n",
       "      <td>2015-01-03</td>\n",
       "      <td>BT-01</td>\n",
       "      <td>Early</td>\n",
       "      <td>0</td>\n",
       "      <td>47.571429</td>\n",
       "      <td>8.285714</td>\n",
       "      <td>0.000000</td>\n",
       "      <td>722.000000</td>\n",
       "      <td>10.000000</td>\n",
       "      <td>24.714286</td>\n",
       "      <td>1023.457143</td>\n",
       "      <td>1006.671429</td>\n",
       "      <td>18</td>\n",
       "      <td>37.351780</td>\n",
       "      <td>5</td>\n",
       "      <td>0</td>\n",
       "    </tr>\n",
       "    <tr>\n",
       "      <th>14</th>\n",
       "      <td>2015-01-03</td>\n",
       "      <td>BT-01</td>\n",
       "      <td>Night</td>\n",
       "      <td>0</td>\n",
       "      <td>50.750000</td>\n",
       "      <td>5.250000</td>\n",
       "      <td>0.000000</td>\n",
       "      <td>147.500000</td>\n",
       "      <td>10.000000</td>\n",
       "      <td>28.250000</td>\n",
       "      <td>1020.700000</td>\n",
       "      <td>1004.075000</td>\n",
       "      <td>18</td>\n",
       "      <td>37.351780</td>\n",
       "      <td>5</td>\n",
       "      <td>0</td>\n",
       "    </tr>\n",
       "    <tr>\n",
       "      <th>15</th>\n",
       "      <td>2015-01-04</td>\n",
       "      <td>BT-01</td>\n",
       "      <td>Afternoon</td>\n",
       "      <td>3</td>\n",
       "      <td>42.600000</td>\n",
       "      <td>8.000000</td>\n",
       "      <td>0.000000</td>\n",
       "      <td>296.600000</td>\n",
       "      <td>10.000000</td>\n",
       "      <td>37.400000</td>\n",
       "      <td>1025.520000</td>\n",
       "      <td>1008.750000</td>\n",
       "      <td>18</td>\n",
       "      <td>37.351780</td>\n",
       "      <td>5</td>\n",
       "      <td>0</td>\n",
       "    </tr>\n",
       "    <tr>\n",
       "      <th>16</th>\n",
       "      <td>2015-01-04</td>\n",
       "      <td>BT-01</td>\n",
       "      <td>Commute_from_work</td>\n",
       "      <td>4</td>\n",
       "      <td>47.250000</td>\n",
       "      <td>8.250000</td>\n",
       "      <td>0.000000</td>\n",
       "      <td>106.750000</td>\n",
       "      <td>10.000000</td>\n",
       "      <td>37.750000</td>\n",
       "      <td>1026.750000</td>\n",
       "      <td>1009.887500</td>\n",
       "      <td>18</td>\n",
       "      <td>37.351780</td>\n",
       "      <td>5</td>\n",
       "      <td>0</td>\n",
       "    </tr>\n",
       "    <tr>\n",
       "      <th>17</th>\n",
       "      <td>2015-01-04</td>\n",
       "      <td>BT-01</td>\n",
       "      <td>Commute_to_work</td>\n",
       "      <td>1</td>\n",
       "      <td>44.750000</td>\n",
       "      <td>7.375000</td>\n",
       "      <td>0.000000</td>\n",
       "      <td>16.750000</td>\n",
       "      <td>10.000000</td>\n",
       "      <td>38.750000</td>\n",
       "      <td>1024.375000</td>\n",
       "      <td>1007.700000</td>\n",
       "      <td>18</td>\n",
       "      <td>37.351780</td>\n",
       "      <td>5</td>\n",
       "      <td>0</td>\n",
       "    </tr>\n",
       "    <tr>\n",
       "      <th>18</th>\n",
       "      <td>2015-01-04</td>\n",
       "      <td>BT-01</td>\n",
       "      <td>Early</td>\n",
       "      <td>0</td>\n",
       "      <td>47.428571</td>\n",
       "      <td>7.857143</td>\n",
       "      <td>0.005000</td>\n",
       "      <td>127.142857</td>\n",
       "      <td>10.000000</td>\n",
       "      <td>39.571429</td>\n",
       "      <td>1022.000000</td>\n",
       "      <td>1005.342857</td>\n",
       "      <td>18</td>\n",
       "      <td>37.351780</td>\n",
       "      <td>5</td>\n",
       "      <td>0</td>\n",
       "    </tr>\n",
       "    <tr>\n",
       "      <th>19</th>\n",
       "      <td>2015-01-04</td>\n",
       "      <td>BT-01</td>\n",
       "      <td>Night</td>\n",
       "      <td>0</td>\n",
       "      <td>51.000000</td>\n",
       "      <td>7.750000</td>\n",
       "      <td>0.006667</td>\n",
       "      <td>118.250000</td>\n",
       "      <td>9.125000</td>\n",
       "      <td>37.625000</td>\n",
       "      <td>1025.725000</td>\n",
       "      <td>1009.050000</td>\n",
       "      <td>18</td>\n",
       "      <td>37.351780</td>\n",
       "      <td>5</td>\n",
       "      <td>0</td>\n",
       "    </tr>\n",
       "    <tr>\n",
       "      <th>20</th>\n",
       "      <td>2015-01-05</td>\n",
       "      <td>BT-01</td>\n",
       "      <td>Afternoon</td>\n",
       "      <td>3</td>\n",
       "      <td>50.400000</td>\n",
       "      <td>5.000000</td>\n",
       "      <td>0.000000</td>\n",
       "      <td>388.800000</td>\n",
       "      <td>10.000000</td>\n",
       "      <td>44.200000</td>\n",
       "      <td>1019.200000</td>\n",
       "      <td>1002.690000</td>\n",
       "      <td>18</td>\n",
       "      <td>37.351780</td>\n",
       "      <td>5</td>\n",
       "      <td>0</td>\n",
       "    </tr>\n",
       "    <tr>\n",
       "      <th>21</th>\n",
       "      <td>2015-01-05</td>\n",
       "      <td>BT-01</td>\n",
       "      <td>Commute_from_work</td>\n",
       "      <td>6</td>\n",
       "      <td>57.750000</td>\n",
       "      <td>5.500000</td>\n",
       "      <td>0.000000</td>\n",
       "      <td>722.000000</td>\n",
       "      <td>10.000000</td>\n",
       "      <td>46.500000</td>\n",
       "      <td>1018.925000</td>\n",
       "      <td>1002.425000</td>\n",
       "      <td>18</td>\n",
       "      <td>37.351780</td>\n",
       "      <td>5</td>\n",
       "      <td>0</td>\n",
       "    </tr>\n",
       "    <tr>\n",
       "      <th>22</th>\n",
       "      <td>2015-01-05</td>\n",
       "      <td>BT-01</td>\n",
       "      <td>Commute_to_work</td>\n",
       "      <td>4</td>\n",
       "      <td>53.250000</td>\n",
       "      <td>8.250000</td>\n",
       "      <td>0.000000</td>\n",
       "      <td>200.000000</td>\n",
       "      <td>10.000000</td>\n",
       "      <td>41.250000</td>\n",
       "      <td>1020.375000</td>\n",
       "      <td>1003.975000</td>\n",
       "      <td>18</td>\n",
       "      <td>37.351780</td>\n",
       "      <td>5</td>\n",
       "      <td>0</td>\n",
       "    </tr>\n",
       "    <tr>\n",
       "      <th>23</th>\n",
       "      <td>2015-01-05</td>\n",
       "      <td>BT-01</td>\n",
       "      <td>Early</td>\n",
       "      <td>0</td>\n",
       "      <td>58.142857</td>\n",
       "      <td>2.571429</td>\n",
       "      <td>0.000000</td>\n",
       "      <td>303.142857</td>\n",
       "      <td>10.000000</td>\n",
       "      <td>38.857143</td>\n",
       "      <td>1021.971429</td>\n",
       "      <td>1005.385714</td>\n",
       "      <td>18</td>\n",
       "      <td>37.351780</td>\n",
       "      <td>5</td>\n",
       "      <td>0</td>\n",
       "    </tr>\n",
       "    <tr>\n",
       "      <th>24</th>\n",
       "      <td>2015-01-05</td>\n",
       "      <td>BT-01</td>\n",
       "      <td>Night</td>\n",
       "      <td>0</td>\n",
       "      <td>62.500000</td>\n",
       "      <td>5.250000</td>\n",
       "      <td>0.000000</td>\n",
       "      <td>368.000000</td>\n",
       "      <td>10.000000</td>\n",
       "      <td>44.750000</td>\n",
       "      <td>1018.125000</td>\n",
       "      <td>1001.700000</td>\n",
       "      <td>18</td>\n",
       "      <td>37.351780</td>\n",
       "      <td>5</td>\n",
       "      <td>0</td>\n",
       "    </tr>\n",
       "    <tr>\n",
       "      <th>25</th>\n",
       "      <td>2015-01-06</td>\n",
       "      <td>BT-01</td>\n",
       "      <td>Afternoon</td>\n",
       "      <td>1</td>\n",
       "      <td>54.600000</td>\n",
       "      <td>9.200000</td>\n",
       "      <td>0.000000</td>\n",
       "      <td>293.800000</td>\n",
       "      <td>9.400000</td>\n",
       "      <td>49.800000</td>\n",
       "      <td>1012.080000</td>\n",
       "      <td>995.850000</td>\n",
       "      <td>18</td>\n",
       "      <td>37.351780</td>\n",
       "      <td>5</td>\n",
       "      <td>0</td>\n",
       "    </tr>\n",
       "    <tr>\n",
       "      <th>26</th>\n",
       "      <td>2015-01-06</td>\n",
       "      <td>BT-01</td>\n",
       "      <td>Commute_from_work</td>\n",
       "      <td>1</td>\n",
       "      <td>54.625000</td>\n",
       "      <td>6.708333</td>\n",
       "      <td>0.042500</td>\n",
       "      <td>18.500000</td>\n",
       "      <td>8.025000</td>\n",
       "      <td>51.875000</td>\n",
       "      <td>1014.100000</td>\n",
       "      <td>997.733333</td>\n",
       "      <td>18</td>\n",
       "      <td>37.351780</td>\n",
       "      <td>5</td>\n",
       "      <td>0</td>\n",
       "    </tr>\n",
       "    <tr>\n",
       "      <th>27</th>\n",
       "      <td>2015-01-06</td>\n",
       "      <td>BT-01</td>\n",
       "      <td>Commute_to_work</td>\n",
       "      <td>1</td>\n",
       "      <td>59.250000</td>\n",
       "      <td>0.000000</td>\n",
       "      <td>0.000000</td>\n",
       "      <td>338.000000</td>\n",
       "      <td>10.000000</td>\n",
       "      <td>47.500000</td>\n",
       "      <td>1009.600000</td>\n",
       "      <td>993.425000</td>\n",
       "      <td>18</td>\n",
       "      <td>37.351780</td>\n",
       "      <td>5</td>\n",
       "      <td>0</td>\n",
       "    </tr>\n",
       "    <tr>\n",
       "      <th>28</th>\n",
       "      <td>2015-01-06</td>\n",
       "      <td>BT-01</td>\n",
       "      <td>Early</td>\n",
       "      <td>0</td>\n",
       "      <td>68.428571</td>\n",
       "      <td>7.000000</td>\n",
       "      <td>0.000000</td>\n",
       "      <td>197.142857</td>\n",
       "      <td>10.000000</td>\n",
       "      <td>47.142857</td>\n",
       "      <td>1009.200000</td>\n",
       "      <td>992.950000</td>\n",
       "      <td>18</td>\n",
       "      <td>37.351780</td>\n",
       "      <td>5</td>\n",
       "      <td>0</td>\n",
       "    </tr>\n",
       "    <tr>\n",
       "      <th>29</th>\n",
       "      <td>2015-01-06</td>\n",
       "      <td>BT-01</td>\n",
       "      <td>Night</td>\n",
       "      <td>1</td>\n",
       "      <td>57.875000</td>\n",
       "      <td>8.125000</td>\n",
       "      <td>0.002500</td>\n",
       "      <td>24.750000</td>\n",
       "      <td>10.000000</td>\n",
       "      <td>51.875000</td>\n",
       "      <td>1014.475000</td>\n",
       "      <td>998.175000</td>\n",
       "      <td>18</td>\n",
       "      <td>37.351780</td>\n",
       "      <td>5</td>\n",
       "      <td>0</td>\n",
       "    </tr>\n",
       "    <tr>\n",
       "      <th>...</th>\n",
       "      <td>...</td>\n",
       "      <td>...</td>\n",
       "      <td>...</td>\n",
       "      <td>...</td>\n",
       "      <td>...</td>\n",
       "      <td>...</td>\n",
       "      <td>...</td>\n",
       "      <td>...</td>\n",
       "      <td>...</td>\n",
       "      <td>...</td>\n",
       "      <td>...</td>\n",
       "      <td>...</td>\n",
       "      <td>...</td>\n",
       "      <td>...</td>\n",
       "      <td>...</td>\n",
       "      <td>...</td>\n",
       "    </tr>\n",
       "    <tr>\n",
       "      <th>83382</th>\n",
       "      <td>2015-05-31</td>\n",
       "      <td>WF-04</td>\n",
       "      <td>Afternoon</td>\n",
       "      <td>6</td>\n",
       "      <td>54.800000</td>\n",
       "      <td>1.000000</td>\n",
       "      <td>0.000000</td>\n",
       "      <td>146.000000</td>\n",
       "      <td>10.000000</td>\n",
       "      <td>50.200000</td>\n",
       "      <td>1013.360000</td>\n",
       "      <td>997.110000</td>\n",
       "      <td>18</td>\n",
       "      <td>5.188225</td>\n",
       "      <td>2</td>\n",
       "      <td>0</td>\n",
       "    </tr>\n",
       "    <tr>\n",
       "      <th>83383</th>\n",
       "      <td>2015-05-31</td>\n",
       "      <td>WF-04</td>\n",
       "      <td>Commute_from_work</td>\n",
       "      <td>0</td>\n",
       "      <td>61.500000</td>\n",
       "      <td>6.750000</td>\n",
       "      <td>0.000000</td>\n",
       "      <td>142.500000</td>\n",
       "      <td>10.000000</td>\n",
       "      <td>52.000000</td>\n",
       "      <td>1012.725000</td>\n",
       "      <td>996.362500</td>\n",
       "      <td>18</td>\n",
       "      <td>5.188225</td>\n",
       "      <td>2</td>\n",
       "      <td>0</td>\n",
       "    </tr>\n",
       "    <tr>\n",
       "      <th>83384</th>\n",
       "      <td>2015-05-31</td>\n",
       "      <td>WF-04</td>\n",
       "      <td>Commute_to_work</td>\n",
       "      <td>2</td>\n",
       "      <td>55.750000</td>\n",
       "      <td>2.250000</td>\n",
       "      <td>0.000000</td>\n",
       "      <td>461.000000</td>\n",
       "      <td>10.000000</td>\n",
       "      <td>49.750000</td>\n",
       "      <td>1014.275000</td>\n",
       "      <td>998.025000</td>\n",
       "      <td>18</td>\n",
       "      <td>5.188225</td>\n",
       "      <td>2</td>\n",
       "      <td>0</td>\n",
       "    </tr>\n",
       "    <tr>\n",
       "      <th>83385</th>\n",
       "      <td>2015-05-31</td>\n",
       "      <td>WF-04</td>\n",
       "      <td>Early</td>\n",
       "      <td>0</td>\n",
       "      <td>67.428571</td>\n",
       "      <td>3.285714</td>\n",
       "      <td>0.000000</td>\n",
       "      <td>722.000000</td>\n",
       "      <td>10.000000</td>\n",
       "      <td>47.428571</td>\n",
       "      <td>1013.557143</td>\n",
       "      <td>997.228571</td>\n",
       "      <td>18</td>\n",
       "      <td>5.188225</td>\n",
       "      <td>2</td>\n",
       "      <td>0</td>\n",
       "    </tr>\n",
       "    <tr>\n",
       "      <th>83386</th>\n",
       "      <td>2015-05-31</td>\n",
       "      <td>WF-04</td>\n",
       "      <td>Night</td>\n",
       "      <td>1</td>\n",
       "      <td>71.500000</td>\n",
       "      <td>7.750000</td>\n",
       "      <td>0.000000</td>\n",
       "      <td>217.500000</td>\n",
       "      <td>10.000000</td>\n",
       "      <td>51.250000</td>\n",
       "      <td>1011.125000</td>\n",
       "      <td>995.025000</td>\n",
       "      <td>18</td>\n",
       "      <td>5.188225</td>\n",
       "      <td>2</td>\n",
       "      <td>0</td>\n",
       "    </tr>\n",
       "    <tr>\n",
       "      <th>83387</th>\n",
       "      <td>2015-07-31</td>\n",
       "      <td>WF-04</td>\n",
       "      <td>Afternoon</td>\n",
       "      <td>7</td>\n",
       "      <td>67.600000</td>\n",
       "      <td>1.200000</td>\n",
       "      <td>0.000000</td>\n",
       "      <td>722.000000</td>\n",
       "      <td>10.000000</td>\n",
       "      <td>49.400000</td>\n",
       "      <td>1019.000000</td>\n",
       "      <td>1002.880000</td>\n",
       "      <td>18</td>\n",
       "      <td>5.188225</td>\n",
       "      <td>2</td>\n",
       "      <td>0</td>\n",
       "    </tr>\n",
       "    <tr>\n",
       "      <th>83388</th>\n",
       "      <td>2015-07-31</td>\n",
       "      <td>WF-04</td>\n",
       "      <td>Commute_from_work</td>\n",
       "      <td>6</td>\n",
       "      <td>79.750000</td>\n",
       "      <td>3.750000</td>\n",
       "      <td>0.000000</td>\n",
       "      <td>722.000000</td>\n",
       "      <td>10.000000</td>\n",
       "      <td>49.000000</td>\n",
       "      <td>1019.675000</td>\n",
       "      <td>1003.562500</td>\n",
       "      <td>18</td>\n",
       "      <td>5.188225</td>\n",
       "      <td>2</td>\n",
       "      <td>0</td>\n",
       "    </tr>\n",
       "    <tr>\n",
       "      <th>83389</th>\n",
       "      <td>2015-07-31</td>\n",
       "      <td>WF-04</td>\n",
       "      <td>Commute_to_work</td>\n",
       "      <td>5</td>\n",
       "      <td>74.250000</td>\n",
       "      <td>8.500000</td>\n",
       "      <td>0.000000</td>\n",
       "      <td>722.000000</td>\n",
       "      <td>10.000000</td>\n",
       "      <td>48.750000</td>\n",
       "      <td>1018.050000</td>\n",
       "      <td>1001.950000</td>\n",
       "      <td>18</td>\n",
       "      <td>5.188225</td>\n",
       "      <td>2</td>\n",
       "      <td>0</td>\n",
       "    </tr>\n",
       "    <tr>\n",
       "      <th>83390</th>\n",
       "      <td>2015-07-31</td>\n",
       "      <td>WF-04</td>\n",
       "      <td>Early</td>\n",
       "      <td>0</td>\n",
       "      <td>86.000000</td>\n",
       "      <td>9.000000</td>\n",
       "      <td>0.000000</td>\n",
       "      <td>722.000000</td>\n",
       "      <td>10.000000</td>\n",
       "      <td>43.142857</td>\n",
       "      <td>1017.300000</td>\n",
       "      <td>1001.192857</td>\n",
       "      <td>18</td>\n",
       "      <td>5.188225</td>\n",
       "      <td>2</td>\n",
       "      <td>0</td>\n",
       "    </tr>\n",
       "    <tr>\n",
       "      <th>83391</th>\n",
       "      <td>2015-07-31</td>\n",
       "      <td>WF-04</td>\n",
       "      <td>Night</td>\n",
       "      <td>3</td>\n",
       "      <td>90.500000</td>\n",
       "      <td>8.000000</td>\n",
       "      <td>0.000000</td>\n",
       "      <td>722.000000</td>\n",
       "      <td>10.000000</td>\n",
       "      <td>42.750000</td>\n",
       "      <td>1018.100000</td>\n",
       "      <td>1002.050000</td>\n",
       "      <td>18</td>\n",
       "      <td>5.188225</td>\n",
       "      <td>2</td>\n",
       "      <td>0</td>\n",
       "    </tr>\n",
       "    <tr>\n",
       "      <th>83392</th>\n",
       "      <td>2015-08-31</td>\n",
       "      <td>WF-04</td>\n",
       "      <td>Afternoon</td>\n",
       "      <td>3</td>\n",
       "      <td>62.000000</td>\n",
       "      <td>13.000000</td>\n",
       "      <td>0.000000</td>\n",
       "      <td>31.400000</td>\n",
       "      <td>10.000000</td>\n",
       "      <td>49.800000</td>\n",
       "      <td>1015.200000</td>\n",
       "      <td>998.990000</td>\n",
       "      <td>18</td>\n",
       "      <td>5.188225</td>\n",
       "      <td>2</td>\n",
       "      <td>0</td>\n",
       "    </tr>\n",
       "    <tr>\n",
       "      <th>83393</th>\n",
       "      <td>2015-08-31</td>\n",
       "      <td>WF-04</td>\n",
       "      <td>Commute_from_work</td>\n",
       "      <td>2</td>\n",
       "      <td>62.250000</td>\n",
       "      <td>14.750000</td>\n",
       "      <td>0.000000</td>\n",
       "      <td>35.250000</td>\n",
       "      <td>10.000000</td>\n",
       "      <td>53.250000</td>\n",
       "      <td>1016.000000</td>\n",
       "      <td>999.637500</td>\n",
       "      <td>18</td>\n",
       "      <td>5.188225</td>\n",
       "      <td>2</td>\n",
       "      <td>0</td>\n",
       "    </tr>\n",
       "    <tr>\n",
       "      <th>83394</th>\n",
       "      <td>2015-08-31</td>\n",
       "      <td>WF-04</td>\n",
       "      <td>Commute_to_work</td>\n",
       "      <td>1</td>\n",
       "      <td>62.250000</td>\n",
       "      <td>12.750000</td>\n",
       "      <td>0.000000</td>\n",
       "      <td>70.000000</td>\n",
       "      <td>10.000000</td>\n",
       "      <td>49.500000</td>\n",
       "      <td>1016.250000</td>\n",
       "      <td>1000.025000</td>\n",
       "      <td>18</td>\n",
       "      <td>5.188225</td>\n",
       "      <td>2</td>\n",
       "      <td>0</td>\n",
       "    </tr>\n",
       "    <tr>\n",
       "      <th>83395</th>\n",
       "      <td>2015-08-31</td>\n",
       "      <td>WF-04</td>\n",
       "      <td>Early</td>\n",
       "      <td>0</td>\n",
       "      <td>63.857143</td>\n",
       "      <td>10.714286</td>\n",
       "      <td>0.000000</td>\n",
       "      <td>100.714286</td>\n",
       "      <td>10.000000</td>\n",
       "      <td>51.571429</td>\n",
       "      <td>1016.214286</td>\n",
       "      <td>999.850000</td>\n",
       "      <td>18</td>\n",
       "      <td>5.188225</td>\n",
       "      <td>2</td>\n",
       "      <td>0</td>\n",
       "    </tr>\n",
       "    <tr>\n",
       "      <th>83396</th>\n",
       "      <td>2015-08-31</td>\n",
       "      <td>WF-04</td>\n",
       "      <td>Night</td>\n",
       "      <td>0</td>\n",
       "      <td>64.000000</td>\n",
       "      <td>13.125000</td>\n",
       "      <td>0.000000</td>\n",
       "      <td>45.750000</td>\n",
       "      <td>10.000000</td>\n",
       "      <td>55.250000</td>\n",
       "      <td>1015.425000</td>\n",
       "      <td>999.275000</td>\n",
       "      <td>18</td>\n",
       "      <td>5.188225</td>\n",
       "      <td>2</td>\n",
       "      <td>0</td>\n",
       "    </tr>\n",
       "    <tr>\n",
       "      <th>83397</th>\n",
       "      <td>2014-10-31</td>\n",
       "      <td>WF-04</td>\n",
       "      <td>Afternoon</td>\n",
       "      <td>0</td>\n",
       "      <td>50.600000</td>\n",
       "      <td>3.000000</td>\n",
       "      <td>0.038000</td>\n",
       "      <td>22.400000</td>\n",
       "      <td>5.700000</td>\n",
       "      <td>49.000000</td>\n",
       "      <td>1006.760000</td>\n",
       "      <td>990.500000</td>\n",
       "      <td>18</td>\n",
       "      <td>5.188225</td>\n",
       "      <td>2</td>\n",
       "      <td>0</td>\n",
       "    </tr>\n",
       "    <tr>\n",
       "      <th>83398</th>\n",
       "      <td>2014-10-31</td>\n",
       "      <td>WF-04</td>\n",
       "      <td>Commute_from_work</td>\n",
       "      <td>1</td>\n",
       "      <td>51.000000</td>\n",
       "      <td>6.000000</td>\n",
       "      <td>0.085000</td>\n",
       "      <td>6.250000</td>\n",
       "      <td>5.375000</td>\n",
       "      <td>49.000000</td>\n",
       "      <td>1009.550000</td>\n",
       "      <td>993.212500</td>\n",
       "      <td>18</td>\n",
       "      <td>5.188225</td>\n",
       "      <td>2</td>\n",
       "      <td>0</td>\n",
       "    </tr>\n",
       "    <tr>\n",
       "      <th>83399</th>\n",
       "      <td>2014-10-31</td>\n",
       "      <td>WF-04</td>\n",
       "      <td>Commute_to_work</td>\n",
       "      <td>0</td>\n",
       "      <td>52.000000</td>\n",
       "      <td>3.000000</td>\n",
       "      <td>0.095000</td>\n",
       "      <td>38.500000</td>\n",
       "      <td>6.150000</td>\n",
       "      <td>50.625000</td>\n",
       "      <td>1008.875000</td>\n",
       "      <td>992.600000</td>\n",
       "      <td>18</td>\n",
       "      <td>5.188225</td>\n",
       "      <td>2</td>\n",
       "      <td>0</td>\n",
       "    </tr>\n",
       "    <tr>\n",
       "      <th>83400</th>\n",
       "      <td>2014-10-31</td>\n",
       "      <td>WF-04</td>\n",
       "      <td>Early</td>\n",
       "      <td>0</td>\n",
       "      <td>55.714286</td>\n",
       "      <td>6.000000</td>\n",
       "      <td>0.047286</td>\n",
       "      <td>34.857143</td>\n",
       "      <td>8.571429</td>\n",
       "      <td>53.428571</td>\n",
       "      <td>1008.857143</td>\n",
       "      <td>992.550000</td>\n",
       "      <td>18</td>\n",
       "      <td>5.188225</td>\n",
       "      <td>2</td>\n",
       "      <td>0</td>\n",
       "    </tr>\n",
       "    <tr>\n",
       "      <th>83401</th>\n",
       "      <td>2014-10-31</td>\n",
       "      <td>WF-04</td>\n",
       "      <td>Night</td>\n",
       "      <td>0</td>\n",
       "      <td>52.750000</td>\n",
       "      <td>8.250000</td>\n",
       "      <td>0.000000</td>\n",
       "      <td>76.500000</td>\n",
       "      <td>10.000000</td>\n",
       "      <td>48.250000</td>\n",
       "      <td>1010.925000</td>\n",
       "      <td>994.700000</td>\n",
       "      <td>18</td>\n",
       "      <td>5.188225</td>\n",
       "      <td>2</td>\n",
       "      <td>0</td>\n",
       "    </tr>\n",
       "    <tr>\n",
       "      <th>83402</th>\n",
       "      <td>2015-10-31</td>\n",
       "      <td>WF-04</td>\n",
       "      <td>Afternoon</td>\n",
       "      <td>0</td>\n",
       "      <td>59.100000</td>\n",
       "      <td>19.000000</td>\n",
       "      <td>0.040000</td>\n",
       "      <td>12.600000</td>\n",
       "      <td>9.420000</td>\n",
       "      <td>56.400000</td>\n",
       "      <td>1003.820000</td>\n",
       "      <td>987.750000</td>\n",
       "      <td>18</td>\n",
       "      <td>5.188225</td>\n",
       "      <td>2</td>\n",
       "      <td>0</td>\n",
       "    </tr>\n",
       "    <tr>\n",
       "      <th>83403</th>\n",
       "      <td>2015-10-31</td>\n",
       "      <td>WF-04</td>\n",
       "      <td>Commute_from_work</td>\n",
       "      <td>0</td>\n",
       "      <td>58.375000</td>\n",
       "      <td>20.041667</td>\n",
       "      <td>0.087500</td>\n",
       "      <td>26.125000</td>\n",
       "      <td>6.400000</td>\n",
       "      <td>54.916667</td>\n",
       "      <td>1003.675000</td>\n",
       "      <td>987.433333</td>\n",
       "      <td>18</td>\n",
       "      <td>5.188225</td>\n",
       "      <td>2</td>\n",
       "      <td>0</td>\n",
       "    </tr>\n",
       "    <tr>\n",
       "      <th>83404</th>\n",
       "      <td>2015-10-31</td>\n",
       "      <td>WF-04</td>\n",
       "      <td>Commute_to_work</td>\n",
       "      <td>0</td>\n",
       "      <td>56.250000</td>\n",
       "      <td>11.750000</td>\n",
       "      <td>0.165000</td>\n",
       "      <td>3.250000</td>\n",
       "      <td>2.750000</td>\n",
       "      <td>54.875000</td>\n",
       "      <td>1005.975000</td>\n",
       "      <td>989.850000</td>\n",
       "      <td>18</td>\n",
       "      <td>5.188225</td>\n",
       "      <td>2</td>\n",
       "      <td>0</td>\n",
       "    </tr>\n",
       "    <tr>\n",
       "      <th>83405</th>\n",
       "      <td>2015-10-31</td>\n",
       "      <td>WF-04</td>\n",
       "      <td>Early</td>\n",
       "      <td>0</td>\n",
       "      <td>57.119048</td>\n",
       "      <td>8.690476</td>\n",
       "      <td>0.023333</td>\n",
       "      <td>77.428571</td>\n",
       "      <td>8.700000</td>\n",
       "      <td>52.047619</td>\n",
       "      <td>1010.557143</td>\n",
       "      <td>994.219048</td>\n",
       "      <td>18</td>\n",
       "      <td>5.188225</td>\n",
       "      <td>2</td>\n",
       "      <td>0</td>\n",
       "    </tr>\n",
       "    <tr>\n",
       "      <th>83406</th>\n",
       "      <td>2015-10-31</td>\n",
       "      <td>WF-04</td>\n",
       "      <td>Night</td>\n",
       "      <td>0</td>\n",
       "      <td>54.125000</td>\n",
       "      <td>12.500000</td>\n",
       "      <td>0.037500</td>\n",
       "      <td>68.750000</td>\n",
       "      <td>9.000000</td>\n",
       "      <td>51.125000</td>\n",
       "      <td>1005.975000</td>\n",
       "      <td>989.775000</td>\n",
       "      <td>18</td>\n",
       "      <td>5.188225</td>\n",
       "      <td>2</td>\n",
       "      <td>0</td>\n",
       "    </tr>\n",
       "    <tr>\n",
       "      <th>83407</th>\n",
       "      <td>2014-12-31</td>\n",
       "      <td>WF-04</td>\n",
       "      <td>Afternoon</td>\n",
       "      <td>4</td>\n",
       "      <td>28.600000</td>\n",
       "      <td>1.600000</td>\n",
       "      <td>0.000000</td>\n",
       "      <td>268.400000</td>\n",
       "      <td>10.000000</td>\n",
       "      <td>20.000000</td>\n",
       "      <td>1039.120000</td>\n",
       "      <td>1021.890000</td>\n",
       "      <td>18</td>\n",
       "      <td>5.188225</td>\n",
       "      <td>2</td>\n",
       "      <td>0</td>\n",
       "    </tr>\n",
       "    <tr>\n",
       "      <th>83408</th>\n",
       "      <td>2014-12-31</td>\n",
       "      <td>WF-04</td>\n",
       "      <td>Commute_from_work</td>\n",
       "      <td>1</td>\n",
       "      <td>31.250000</td>\n",
       "      <td>7.250000</td>\n",
       "      <td>0.000000</td>\n",
       "      <td>722.000000</td>\n",
       "      <td>10.000000</td>\n",
       "      <td>20.750000</td>\n",
       "      <td>1037.650000</td>\n",
       "      <td>1020.437500</td>\n",
       "      <td>18</td>\n",
       "      <td>5.188225</td>\n",
       "      <td>2</td>\n",
       "      <td>0</td>\n",
       "    </tr>\n",
       "    <tr>\n",
       "      <th>83409</th>\n",
       "      <td>2014-12-31</td>\n",
       "      <td>WF-04</td>\n",
       "      <td>Commute_to_work</td>\n",
       "      <td>0</td>\n",
       "      <td>29.750000</td>\n",
       "      <td>2.750000</td>\n",
       "      <td>0.000000</td>\n",
       "      <td>323.000000</td>\n",
       "      <td>10.000000</td>\n",
       "      <td>18.250000</td>\n",
       "      <td>1041.250000</td>\n",
       "      <td>1024.125000</td>\n",
       "      <td>18</td>\n",
       "      <td>5.188225</td>\n",
       "      <td>2</td>\n",
       "      <td>0</td>\n",
       "    </tr>\n",
       "    <tr>\n",
       "      <th>83410</th>\n",
       "      <td>2014-12-31</td>\n",
       "      <td>WF-04</td>\n",
       "      <td>Early</td>\n",
       "      <td>0</td>\n",
       "      <td>31.857143</td>\n",
       "      <td>7.428571</td>\n",
       "      <td>0.000000</td>\n",
       "      <td>722.000000</td>\n",
       "      <td>10.000000</td>\n",
       "      <td>15.857143</td>\n",
       "      <td>1042.971429</td>\n",
       "      <td>1025.642857</td>\n",
       "      <td>18</td>\n",
       "      <td>5.188225</td>\n",
       "      <td>2</td>\n",
       "      <td>0</td>\n",
       "    </tr>\n",
       "    <tr>\n",
       "      <th>83411</th>\n",
       "      <td>2014-12-31</td>\n",
       "      <td>WF-04</td>\n",
       "      <td>Night</td>\n",
       "      <td>0</td>\n",
       "      <td>37.250000</td>\n",
       "      <td>8.500000</td>\n",
       "      <td>0.000000</td>\n",
       "      <td>722.000000</td>\n",
       "      <td>10.000000</td>\n",
       "      <td>19.500000</td>\n",
       "      <td>1035.350000</td>\n",
       "      <td>1018.175000</td>\n",
       "      <td>18</td>\n",
       "      <td>5.188225</td>\n",
       "      <td>2</td>\n",
       "      <td>0</td>\n",
       "    </tr>\n",
       "  </tbody>\n",
       "</table>\n",
       "<p>83412 rows × 16 columns</p>\n",
       "</div>"
      ],
      "text/plain": [
       "            date terminal               hour  count       TEMP        SPD  \\\n",
       "0     2015-01-01    BT-01          Afternoon      6  29.000000   2.800000   \n",
       "1     2015-01-01    BT-01  Commute_from_work      1  31.500000   0.750000   \n",
       "2     2015-01-01    BT-01    Commute_to_work      0  30.500000   7.500000   \n",
       "3     2015-01-01    BT-01              Early      0  33.571429   9.285714   \n",
       "4     2015-01-01    BT-01              Night      5  40.250000   3.750000   \n",
       "5     2015-01-02    BT-01          Afternoon      4  41.400000   4.800000   \n",
       "6     2015-01-02    BT-01  Commute_from_work      0  43.250000   5.875000   \n",
       "7     2015-01-02    BT-01    Commute_to_work      0  42.250000   3.250000   \n",
       "8     2015-01-02    BT-01              Early      1  43.142857   4.000000   \n",
       "9     2015-01-02    BT-01              Night      0  44.500000   5.500000   \n",
       "10    2015-01-03    BT-01          Afternoon      0  36.000000   5.000000   \n",
       "11    2015-01-03    BT-01  Commute_from_work      3  43.250000   5.000000   \n",
       "12    2015-01-03    BT-01    Commute_to_work      1  40.000000   4.500000   \n",
       "13    2015-01-03    BT-01              Early      0  47.571429   8.285714   \n",
       "14    2015-01-03    BT-01              Night      0  50.750000   5.250000   \n",
       "15    2015-01-04    BT-01          Afternoon      3  42.600000   8.000000   \n",
       "16    2015-01-04    BT-01  Commute_from_work      4  47.250000   8.250000   \n",
       "17    2015-01-04    BT-01    Commute_to_work      1  44.750000   7.375000   \n",
       "18    2015-01-04    BT-01              Early      0  47.428571   7.857143   \n",
       "19    2015-01-04    BT-01              Night      0  51.000000   7.750000   \n",
       "20    2015-01-05    BT-01          Afternoon      3  50.400000   5.000000   \n",
       "21    2015-01-05    BT-01  Commute_from_work      6  57.750000   5.500000   \n",
       "22    2015-01-05    BT-01    Commute_to_work      4  53.250000   8.250000   \n",
       "23    2015-01-05    BT-01              Early      0  58.142857   2.571429   \n",
       "24    2015-01-05    BT-01              Night      0  62.500000   5.250000   \n",
       "25    2015-01-06    BT-01          Afternoon      1  54.600000   9.200000   \n",
       "26    2015-01-06    BT-01  Commute_from_work      1  54.625000   6.708333   \n",
       "27    2015-01-06    BT-01    Commute_to_work      1  59.250000   0.000000   \n",
       "28    2015-01-06    BT-01              Early      0  68.428571   7.000000   \n",
       "29    2015-01-06    BT-01              Night      1  57.875000   8.125000   \n",
       "...          ...      ...                ...    ...        ...        ...   \n",
       "83382 2015-05-31    WF-04          Afternoon      6  54.800000   1.000000   \n",
       "83383 2015-05-31    WF-04  Commute_from_work      0  61.500000   6.750000   \n",
       "83384 2015-05-31    WF-04    Commute_to_work      2  55.750000   2.250000   \n",
       "83385 2015-05-31    WF-04              Early      0  67.428571   3.285714   \n",
       "83386 2015-05-31    WF-04              Night      1  71.500000   7.750000   \n",
       "83387 2015-07-31    WF-04          Afternoon      7  67.600000   1.200000   \n",
       "83388 2015-07-31    WF-04  Commute_from_work      6  79.750000   3.750000   \n",
       "83389 2015-07-31    WF-04    Commute_to_work      5  74.250000   8.500000   \n",
       "83390 2015-07-31    WF-04              Early      0  86.000000   9.000000   \n",
       "83391 2015-07-31    WF-04              Night      3  90.500000   8.000000   \n",
       "83392 2015-08-31    WF-04          Afternoon      3  62.000000  13.000000   \n",
       "83393 2015-08-31    WF-04  Commute_from_work      2  62.250000  14.750000   \n",
       "83394 2015-08-31    WF-04    Commute_to_work      1  62.250000  12.750000   \n",
       "83395 2015-08-31    WF-04              Early      0  63.857143  10.714286   \n",
       "83396 2015-08-31    WF-04              Night      0  64.000000  13.125000   \n",
       "83397 2014-10-31    WF-04          Afternoon      0  50.600000   3.000000   \n",
       "83398 2014-10-31    WF-04  Commute_from_work      1  51.000000   6.000000   \n",
       "83399 2014-10-31    WF-04    Commute_to_work      0  52.000000   3.000000   \n",
       "83400 2014-10-31    WF-04              Early      0  55.714286   6.000000   \n",
       "83401 2014-10-31    WF-04              Night      0  52.750000   8.250000   \n",
       "83402 2015-10-31    WF-04          Afternoon      0  59.100000  19.000000   \n",
       "83403 2015-10-31    WF-04  Commute_from_work      0  58.375000  20.041667   \n",
       "83404 2015-10-31    WF-04    Commute_to_work      0  56.250000  11.750000   \n",
       "83405 2015-10-31    WF-04              Early      0  57.119048   8.690476   \n",
       "83406 2015-10-31    WF-04              Night      0  54.125000  12.500000   \n",
       "83407 2014-12-31    WF-04          Afternoon      4  28.600000   1.600000   \n",
       "83408 2014-12-31    WF-04  Commute_from_work      1  31.250000   7.250000   \n",
       "83409 2014-12-31    WF-04    Commute_to_work      0  29.750000   2.750000   \n",
       "83410 2014-12-31    WF-04              Early      0  31.857143   7.428571   \n",
       "83411 2014-12-31    WF-04              Night      0  37.250000   8.500000   \n",
       "\n",
       "          PCP01         CLG        VSB       DEWP          SLP          STP  \\\n",
       "0      0.000000  722.000000  10.000000  22.000000  1028.520000  1011.500000   \n",
       "1      0.000000  722.000000  10.000000  23.000000  1028.000000  1010.925000   \n",
       "2      0.000000  722.000000  10.000000  22.500000  1030.600000  1013.575000   \n",
       "3      0.000000  722.000000  10.000000  21.285714  1032.942857  1015.850000   \n",
       "4      0.000000  722.000000  10.000000  23.000000  1026.125000  1009.225000   \n",
       "5      0.000000   61.600000   3.960000  40.100000  1018.860000  1002.100000   \n",
       "6      0.010000   52.750000   6.000000  40.375000  1018.275000  1001.625000   \n",
       "7      0.000000  268.000000   7.000000  39.500000  1019.775000  1003.225000   \n",
       "8      0.000000   34.857143   6.557143  39.571429  1021.942857  1005.142857   \n",
       "9      0.010000    8.750000   5.725000  41.875000  1018.250000  1001.650000   \n",
       "10     0.000000  722.000000  10.000000  28.600000  1024.620000  1007.870000   \n",
       "11     0.000000  722.000000  10.000000  29.500000  1023.950000  1007.237500   \n",
       "12     0.000000  722.000000  10.000000  27.750000  1024.925000  1008.300000   \n",
       "13     0.000000  722.000000  10.000000  24.714286  1023.457143  1006.671429   \n",
       "14     0.000000  147.500000  10.000000  28.250000  1020.700000  1004.075000   \n",
       "15     0.000000  296.600000  10.000000  37.400000  1025.520000  1008.750000   \n",
       "16     0.000000  106.750000  10.000000  37.750000  1026.750000  1009.887500   \n",
       "17     0.000000   16.750000  10.000000  38.750000  1024.375000  1007.700000   \n",
       "18     0.005000  127.142857  10.000000  39.571429  1022.000000  1005.342857   \n",
       "19     0.006667  118.250000   9.125000  37.625000  1025.725000  1009.050000   \n",
       "20     0.000000  388.800000  10.000000  44.200000  1019.200000  1002.690000   \n",
       "21     0.000000  722.000000  10.000000  46.500000  1018.925000  1002.425000   \n",
       "22     0.000000  200.000000  10.000000  41.250000  1020.375000  1003.975000   \n",
       "23     0.000000  303.142857  10.000000  38.857143  1021.971429  1005.385714   \n",
       "24     0.000000  368.000000  10.000000  44.750000  1018.125000  1001.700000   \n",
       "25     0.000000  293.800000   9.400000  49.800000  1012.080000   995.850000   \n",
       "26     0.042500   18.500000   8.025000  51.875000  1014.100000   997.733333   \n",
       "27     0.000000  338.000000  10.000000  47.500000  1009.600000   993.425000   \n",
       "28     0.000000  197.142857  10.000000  47.142857  1009.200000   992.950000   \n",
       "29     0.002500   24.750000  10.000000  51.875000  1014.475000   998.175000   \n",
       "...         ...         ...        ...        ...          ...          ...   \n",
       "83382  0.000000  146.000000  10.000000  50.200000  1013.360000   997.110000   \n",
       "83383  0.000000  142.500000  10.000000  52.000000  1012.725000   996.362500   \n",
       "83384  0.000000  461.000000  10.000000  49.750000  1014.275000   998.025000   \n",
       "83385  0.000000  722.000000  10.000000  47.428571  1013.557143   997.228571   \n",
       "83386  0.000000  217.500000  10.000000  51.250000  1011.125000   995.025000   \n",
       "83387  0.000000  722.000000  10.000000  49.400000  1019.000000  1002.880000   \n",
       "83388  0.000000  722.000000  10.000000  49.000000  1019.675000  1003.562500   \n",
       "83389  0.000000  722.000000  10.000000  48.750000  1018.050000  1001.950000   \n",
       "83390  0.000000  722.000000  10.000000  43.142857  1017.300000  1001.192857   \n",
       "83391  0.000000  722.000000  10.000000  42.750000  1018.100000  1002.050000   \n",
       "83392  0.000000   31.400000  10.000000  49.800000  1015.200000   998.990000   \n",
       "83393  0.000000   35.250000  10.000000  53.250000  1016.000000   999.637500   \n",
       "83394  0.000000   70.000000  10.000000  49.500000  1016.250000  1000.025000   \n",
       "83395  0.000000  100.714286  10.000000  51.571429  1016.214286   999.850000   \n",
       "83396  0.000000   45.750000  10.000000  55.250000  1015.425000   999.275000   \n",
       "83397  0.038000   22.400000   5.700000  49.000000  1006.760000   990.500000   \n",
       "83398  0.085000    6.250000   5.375000  49.000000  1009.550000   993.212500   \n",
       "83399  0.095000   38.500000   6.150000  50.625000  1008.875000   992.600000   \n",
       "83400  0.047286   34.857143   8.571429  53.428571  1008.857143   992.550000   \n",
       "83401  0.000000   76.500000  10.000000  48.250000  1010.925000   994.700000   \n",
       "83402  0.040000   12.600000   9.420000  56.400000  1003.820000   987.750000   \n",
       "83403  0.087500   26.125000   6.400000  54.916667  1003.675000   987.433333   \n",
       "83404  0.165000    3.250000   2.750000  54.875000  1005.975000   989.850000   \n",
       "83405  0.023333   77.428571   8.700000  52.047619  1010.557143   994.219048   \n",
       "83406  0.037500   68.750000   9.000000  51.125000  1005.975000   989.775000   \n",
       "83407  0.000000  268.400000  10.000000  20.000000  1039.120000  1021.890000   \n",
       "83408  0.000000  722.000000  10.000000  20.750000  1037.650000  1020.437500   \n",
       "83409  0.000000  323.000000  10.000000  18.250000  1041.250000  1024.125000   \n",
       "83410  0.000000  722.000000  10.000000  15.857143  1042.971429  1025.642857   \n",
       "83411  0.000000  722.000000  10.000000  19.500000  1035.350000  1018.175000   \n",
       "\n",
       "       dockcount  elevation  cluster  ecosystem  \n",
       "0             18  37.351780        5          0  \n",
       "1             18  37.351780        5          0  \n",
       "2             18  37.351780        5          0  \n",
       "3             18  37.351780        5          0  \n",
       "4             18  37.351780        5          0  \n",
       "5             18  37.351780        5          0  \n",
       "6             18  37.351780        5          0  \n",
       "7             18  37.351780        5          0  \n",
       "8             18  37.351780        5          0  \n",
       "9             18  37.351780        5          0  \n",
       "10            18  37.351780        5          0  \n",
       "11            18  37.351780        5          0  \n",
       "12            18  37.351780        5          0  \n",
       "13            18  37.351780        5          0  \n",
       "14            18  37.351780        5          0  \n",
       "15            18  37.351780        5          0  \n",
       "16            18  37.351780        5          0  \n",
       "17            18  37.351780        5          0  \n",
       "18            18  37.351780        5          0  \n",
       "19            18  37.351780        5          0  \n",
       "20            18  37.351780        5          0  \n",
       "21            18  37.351780        5          0  \n",
       "22            18  37.351780        5          0  \n",
       "23            18  37.351780        5          0  \n",
       "24            18  37.351780        5          0  \n",
       "25            18  37.351780        5          0  \n",
       "26            18  37.351780        5          0  \n",
       "27            18  37.351780        5          0  \n",
       "28            18  37.351780        5          0  \n",
       "29            18  37.351780        5          0  \n",
       "...          ...        ...      ...        ...  \n",
       "83382         18   5.188225        2          0  \n",
       "83383         18   5.188225        2          0  \n",
       "83384         18   5.188225        2          0  \n",
       "83385         18   5.188225        2          0  \n",
       "83386         18   5.188225        2          0  \n",
       "83387         18   5.188225        2          0  \n",
       "83388         18   5.188225        2          0  \n",
       "83389         18   5.188225        2          0  \n",
       "83390         18   5.188225        2          0  \n",
       "83391         18   5.188225        2          0  \n",
       "83392         18   5.188225        2          0  \n",
       "83393         18   5.188225        2          0  \n",
       "83394         18   5.188225        2          0  \n",
       "83395         18   5.188225        2          0  \n",
       "83396         18   5.188225        2          0  \n",
       "83397         18   5.188225        2          0  \n",
       "83398         18   5.188225        2          0  \n",
       "83399         18   5.188225        2          0  \n",
       "83400         18   5.188225        2          0  \n",
       "83401         18   5.188225        2          0  \n",
       "83402         18   5.188225        2          0  \n",
       "83403         18   5.188225        2          0  \n",
       "83404         18   5.188225        2          0  \n",
       "83405         18   5.188225        2          0  \n",
       "83406         18   5.188225        2          0  \n",
       "83407         18   5.188225        2          0  \n",
       "83408         18   5.188225        2          0  \n",
       "83409         18   5.188225        2          0  \n",
       "83410         18   5.188225        2          0  \n",
       "83411         18   5.188225        2          0  \n",
       "\n",
       "[83412 rows x 16 columns]"
      ]
     },
     "execution_count": 201,
     "metadata": {},
     "output_type": "execute_result"
    }
   ],
   "source": []
  },
  {
   "cell_type": "code",
   "execution_count": null,
   "metadata": {
    "collapsed": true
   },
   "outputs": [],
   "source": []
  }
 ],
 "metadata": {
  "kernelspec": {
   "display_name": "Python 2",
   "language": "python",
   "name": "python2"
  },
  "language_info": {
   "codemirror_mode": {
    "name": "ipython",
    "version": 2
   },
   "file_extension": ".py",
   "mimetype": "text/x-python",
   "name": "python",
   "nbconvert_exporter": "python",
   "pygments_lexer": "ipython2",
   "version": "2.7.10"
  }
 },
 "nbformat": 4,
 "nbformat_minor": 0
}
